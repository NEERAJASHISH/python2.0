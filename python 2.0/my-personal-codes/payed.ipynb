{
 "cells": [
  {
   "cell_type": "code",
   "execution_count": 2,
   "id": "2b584359",
   "metadata": {},
   "outputs": [
    {
     "name": "stdout",
     "output_type": "stream",
     "text": [
      "Collecting opencv-python\n",
      "  Downloading opencv_python-4.6.0.66-cp36-abi3-win_amd64.whl (35.6 MB)\n",
      "Requirement already satisfied: numpy>=1.17.3 in c:\\users\\lenevo\\anaconda3\\lib\\site-packages (from opencv-python) (1.21.5)\n",
      "Installing collected packages: opencv-python\n",
      "Successfully installed opencv-python-4.6.0.66\n",
      "Note: you may need to restart the kernel to use updated packages.\n"
     ]
    }
   ],
   "source": [
    "pip install opencv-python"
   ]
  },
  {
   "cell_type": "code",
   "execution_count": 4,
   "id": "c8d46e8b",
   "metadata": {},
   "outputs": [],
   "source": [
    "import cv2\n",
    "import numpy as np\n",
    "\n",
    "img = cv2.imread(\"image.jpg\")\n",
    "\n",
    "#Detecting Edge of image\n",
    "Edge = cv2.Canny(img, 100, 150)\n",
    "\n",
    "Coords = np.nonzero(Edge)\n",
    "\n",
    "y = np.min(Coords[0])\n",
    "y = y + 20\n",
    "h,w,c = img.shape\n",
    "x = int(w/2)\n",
    "cv2.circle(img,(x,y), 5, (0,0,255), -1)\n",
    "cv2.imshow(\"dot\", img)\n",
    "cv2.waitKey(0)\n",
    "cv2.destroyAllWindows()"
   ]
  },
  {
   "cell_type": "code",
   "execution_count": 6,
   "id": "beb46faa",
   "metadata": {},
   "outputs": [
    {
     "name": "stdout",
     "output_type": "stream",
     "text": [
      "Collecting cmake\n",
      "  Downloading cmake-3.24.1-py2.py3-none-win_amd64.whl (39.7 MB)\n",
      "Installing collected packages: cmake\n",
      "Successfully installed cmake-3.24.1\n",
      "Note: you may need to restart the kernel to use updated packages.\n"
     ]
    }
   ],
   "source": [
    "pip install cmake\n"
   ]
  },
  {
   "cell_type": "code",
   "execution_count": 1,
   "id": "5a672f04",
   "metadata": {},
   "outputs": [
    {
     "name": "stdout",
     "output_type": "stream",
     "text": [
      "Note: you may need to restart the kernel to use updated packages.\n"
     ]
    },
    {
     "name": "stderr",
     "output_type": "stream",
     "text": [
      "ERROR: unknown command \"intstall\" - maybe you meant \"install\"\n",
      "\n"
     ]
    }
   ],
   "source": [
    "pip intstall dlib"
   ]
  },
  {
   "cell_type": "code",
   "execution_count": 2,
   "id": "a5e1bfc2",
   "metadata": {},
   "outputs": [
    {
     "ename": "ModuleNotFoundError",
     "evalue": "No module named 'dlib'",
     "output_type": "error",
     "traceback": [
      "\u001b[1;31m---------------------------------------------------------------------------\u001b[0m",
      "\u001b[1;31mModuleNotFoundError\u001b[0m                       Traceback (most recent call last)",
      "Input \u001b[1;32mIn [2]\u001b[0m, in \u001b[0;36m<cell line: 3>\u001b[1;34m()\u001b[0m\n\u001b[0;32m      1\u001b[0m \u001b[38;5;28;01mimport\u001b[39;00m \u001b[38;5;21;01mcv2\u001b[39;00m\n\u001b[0;32m      2\u001b[0m \u001b[38;5;28;01mimport\u001b[39;00m \u001b[38;5;21;01mnumpy\u001b[39;00m \u001b[38;5;28;01mas\u001b[39;00m \u001b[38;5;21;01mnp\u001b[39;00m\n\u001b[1;32m----> 3\u001b[0m \u001b[38;5;28;01mimport\u001b[39;00m \u001b[38;5;21;01mdlib\u001b[39;00m\n\u001b[0;32m      4\u001b[0m \u001b[38;5;28;01mfrom\u001b[39;00m \u001b[38;5;21;01mmath\u001b[39;00m \u001b[38;5;28;01mimport\u001b[39;00m sqrt\n\u001b[0;32m      5\u001b[0m \u001b[38;5;28;01mimport\u001b[39;00m \u001b[38;5;21;01mscipy\u001b[39;00m\u001b[38;5;21;01m.\u001b[39;00m\u001b[38;5;21;01mndimage\u001b[39;00m \u001b[38;5;28;01mas\u001b[39;00m \u001b[38;5;21;01msnd\u001b[39;00m\n",
      "\u001b[1;31mModuleNotFoundError\u001b[0m: No module named 'dlib'"
     ]
    }
   ],
   "source": [
    "import cv2\n",
    "import numpy as np\n",
    "import dlib\n",
    "from math import sqrt\n",
    "import scipy.ndimage as snd\n",
    "\n",
    "\n",
    "\n",
    "#Facial Landmark Detection\n",
    "predictor_path = \"shape_predictor_68_face_landmarks.dat\"\n",
    "detector = dlib.get_frontal_face_detector()\n",
    "predictor = dlib.shape_predictor(predictor_path)\n",
    "\n",
    "SampleHead = cv2.imread('Test1.jpg')\n",
    "\n",
    "\n",
    "def facialLandmarks(image):\n",
    "\n",
    "    detect = detector(image)\n",
    "\n",
    "    for k, d in enumerate(detect):\n",
    "        shape = predictor(image, d)\n",
    "        \n",
    "        vec = np.empty([68, 2], dtype=int)\n",
    "        for b in range(68):\n",
    "            vec[b][0] = shape.part(b).x\n",
    "            vec[b][1] = shape.part(b).y\n",
    "\n",
    "        return vec\n",
    "    \n",
    "def scale(Himage,a1,a2,b1,b2,x1,x2,y1,y2):\n",
    "\n",
    "    dist1 = sqrt((a2 - a1) ** 2 + (b2 - b1) ** 2)\n",
    "    # print(dist1)\n",
    "    dist2 = sqrt((x2 - x1) ** 2 + (y2 - y1) ** 2)\n",
    "    # print(dist2)\n",
    "    r = (dist2/dist1)\n",
    "    # print(r)\n",
    "\n",
    "\n",
    "    Scaled = cv2.resize(Himage, None, fx=r, fy=r, interpolation=cv2.INTER_AREA)\n",
    "\n",
    "    return Scaled\n",
    "\n",
    "def edgeDetection(image):\n",
    "    Edge = cv2.Canny(image, 100, 150)\n",
    "    Coords = np.nonzero(Edge)\n",
    "\n",
    "    min_x = np.min(Coords[1])\n",
    "    min_y = np.min(Coords[0])\n",
    "    \n",
    "    max_x = np.max(Coords[1])\n",
    "    max_y = np.max(Coords[0])\n",
    "    return (min_x, min_y, max_x, max_y)\n",
    "\n",
    "\n",
    "def blurImage(image,V):\n",
    "    Blurred = cv2.medianBlur(image, V)\n",
    "    return Blurred\n",
    "\n",
    "\n",
    "def hairExtraction(blurredImg, minimumY, originalImage):\n",
    "\n",
    "    # K-mean approach\n",
    "    Z = blurredImg.reshape((-1, 3))\n",
    "    Z = np.float32(Z)\n",
    "\n",
    "    criteria = (cv2.TERM_CRITERIA_EPS + cv2.TERM_CRITERIA_MAX_ITER, 10, 1.0)\n",
    "\n",
    "    K = 4\n",
    "    ret, label1, center1 = cv2.kmeans(Z, K, None,\n",
    "                                      criteria, 10,\n",
    "                                      cv2.KMEANS_RANDOM_CENTERS)\n",
    "    center1 = np.uint8(center1)\n",
    "    res1 = center1[label1.flatten()]\n",
    "    output1 = res1.reshape((blurredImg.shape))\n",
    "\n",
    "    x = minimumY + 20\n",
    "    h,w,c = originalImage.shape\n",
    "    y = int(w/2)\n",
    "\n",
    "\n",
    "    # find the index of the cluster of the hair\n",
    "    mask = label1.reshape(output1.shape[:-1])\n",
    "    khair = mask[(x, y)]\n",
    "\n",
    "    # get a mask that's True at all of the indices of hair's group\n",
    "    hairmask = mask == khair\n",
    "\n",
    "    # label all connected blobs in hairmask\n",
    "    bloblab = snd.label(hairmask, structure=np.ones((3, 3)))[0]\n",
    "\n",
    "    # create a mask for only the hair\n",
    "    haironlymask = bloblab == bloblab[x, y]\n",
    "\n",
    "    # get an image with just the hair and then crop it\n",
    "    justhair = np.where(haironlymask[..., None], originalImage, [255, 255, 255])\n",
    "    nz = haironlymask.nonzero()\n",
    "    justhair = justhair[nz[0].min()-5:nz[0].max()+5, nz[1].min()-5:nz[1].max()+5]\n",
    "\n",
    "    # save the image of just the hair on a white background\n",
    "    cv2.imwrite(\"JustHair.jpg\", justhair)\n",
    "    finalHair = cv2.imread(\"JustHair.jpg\")\n",
    "\n",
    "    # Perform morphology\n",
    "    se = np.ones((7, 7), dtype='uint8')\n",
    "    hair = cv2.morphologyEx(finalHair, cv2.MORPH_CLOSE, se)\n",
    "\n",
    "    return hair\n",
    "\n",
    "\n",
    "if __name__ == '__main__':\n",
    "\n",
    "    # Facial Landmark Detection for SampleHead\n",
    "    Hlandmarks = facialLandmarks(SampleHead)\n",
    "    HRightJawlinePoints = (Hlandmarks[0, 0], Hlandmarks[0, 1])\n",
    "    HLeftJawlinePoints = (Hlandmarks[16, 0], Hlandmarks[16, 1])\n",
    "    a1 = HRightJawlinePoints[0]\n",
    "    b1 = HRightJawlinePoints[1]\n",
    "    a2 = HLeftJawlinePoints[0]\n",
    "    b2 = HLeftJawlinePoints[1]\n",
    "\n",
    "    #Scale SampleHead according to size of SampleModel\n",
    "    Resized = scale(SampleHead,a1,a2,b1,b2,x1,x2,y1,y2)\n",
    "\n",
    "    #Detecting value of topmost y of resized head\n",
    "    headExtremeEdgePoints = edgeDetection(Resized)\n",
    "    headMinY = headExtremeEdgePoints[1]\n",
    "\n",
    "\n",
    "    # Blurring effect addition\n",
    "    blurredHeadImage = blurImage(Resized, 5)\n",
    "\n",
    "    # Hair Extraction\n",
    "    headHair = hairExtraction(blurredHeadImage, headMinY, Resized)\n",
    "    cv2.imshow(\"HeadHair\", headHair)\n",
    "    cv2.waitKey(0)\n",
    "    cv2.destroyAllWindows()\n",
    "    \n",
    "    \n",
    "    \n",
    "        \n",
    "        \n"
   ]
  }
 ],
 "metadata": {
  "kernelspec": {
   "display_name": "Python 3 (ipykernel)",
   "language": "python",
   "name": "python3"
  },
  "language_info": {
   "codemirror_mode": {
    "name": "ipython",
    "version": 3
   },
   "file_extension": ".py",
   "mimetype": "text/x-python",
   "name": "python",
   "nbconvert_exporter": "python",
   "pygments_lexer": "ipython3",
   "version": "3.9.12"
  }
 },
 "nbformat": 4,
 "nbformat_minor": 5
}
