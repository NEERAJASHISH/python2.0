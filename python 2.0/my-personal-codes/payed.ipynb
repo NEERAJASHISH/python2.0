{
 "cells": [
  {
   "cell_type": "code",
   "execution_count": 7,
   "id": "2b584359",
   "metadata": {},
   "outputs": [
    {
     "name": "stdout",
     "output_type": "stream",
     "text": [
      "Requirement already satisfied: opencv-python in c:\\users\\user\\anaconda3\\lib\\site-packages (4.6.0.66)\n",
      "Requirement already satisfied: numpy>=1.17.3 in c:\\users\\user\\anaconda3\\lib\\site-packages (from opencv-python) (1.22.4)\n"
     ]
    }
   ],
   "source": [
    "! pip install opencv-python"
   ]
  },
  {
   "cell_type": "code",
   "execution_count": null,
   "id": "31f1efc5",
   "metadata": {},
   "outputs": [],
   "source": []
  },
  {
   "cell_type": "code",
   "execution_count": 8,
   "id": "c8d46e8b",
   "metadata": {},
   "outputs": [],
   "source": [
    "import cv2\n",
    "import numpy as np\n",
    "\n",
    "img = cv2.imread(\"depositphotos_18807295-stock-photo-portrait-of-handsome-man.jpg\")\n",
    "\n",
    "#Detecting Edge of image\n",
    "Edge = cv2.Canny(img, 100, 150)\n",
    "\n",
    "Coords = np.nonzero(Edge)\n",
    "\n",
    "y = np.min(Coords[0])\n",
    "y = y + 20\n",
    "h,w,c = img.shape\n",
    "x = int(w/2)\n",
    "cv2.circle(img,(x,y), 5, (0,0,255), -1)\n",
    "cv2.imshow(\"dot\", img)\n",
    "cv2.waitKey(0)\n",
    "cv2.destroyAllWindows()"
   ]
  },
  {
   "cell_type": "code",
   "execution_count": 3,
   "id": "beb46faa",
   "metadata": {},
   "outputs": [
    {
     "name": "stdout",
     "output_type": "stream",
     "text": [
      "Requirement already satisfied: cmake in c:\\users\\user\\anaconda3\\lib\\site-packages (3.24.1)\n"
     ]
    }
   ],
   "source": [
    "! pip install cmake\n"
   ]
  },
  {
   "cell_type": "code",
   "execution_count": 17,
   "id": "5a672f04",
   "metadata": {
    "scrolled": true
   },
   "outputs": [
    {
     "name": "stdout",
     "output_type": "stream",
     "text": [
      "Requirement already satisfied: dlib in c:\\users\\user\\anaconda3\\lib\\site-packages (19.18.0)\n"
     ]
    }
   ],
   "source": [
    "! pip install dlib"
   ]
  },
  {
   "cell_type": "code",
   "execution_count": 5,
   "id": "33ac4ce1",
   "metadata": {
    "scrolled": true
   },
   "outputs": [
    {
     "name": "stdout",
     "output_type": "stream",
     "text": [
      "Requirement already satisfied: face-recognition in c:\\users\\user\\anaconda3\\lib\\site-packages (1.3.0)\n",
      "Requirement already satisfied: Pillow in c:\\users\\user\\anaconda3\\lib\\site-packages (from face-recognition) (8.3.1)\n",
      "Requirement already satisfied: face-recognition-models>=0.3.0 in c:\\users\\user\\anaconda3\\lib\\site-packages (from face-recognition) (0.3.0)\n",
      "Requirement already satisfied: dlib>=19.7 in c:\\users\\user\\anaconda3\\lib\\site-packages (from face-recognition) (19.18.0)\n",
      "Requirement already satisfied: Click>=6.0 in c:\\users\\user\\anaconda3\\lib\\site-packages (from face-recognition) (8.0.1)\n",
      "Requirement already satisfied: numpy in c:\\users\\user\\anaconda3\\lib\\site-packages (from face-recognition) (1.22.4)\n",
      "Requirement already satisfied: colorama in c:\\users\\user\\anaconda3\\lib\\site-packages (from Click>=6.0->face-recognition) (0.4.4)\n"
     ]
    }
   ],
   "source": [
    "! pip install face-recognition"
   ]
  },
  {
   "cell_type": "code",
   "execution_count": 40,
   "id": "652b5464",
   "metadata": {},
   "outputs": [
    {
     "ename": "AttributeError",
     "evalue": "module 'dlib' has no attribute 'get_frontal_face_detector'",
     "output_type": "error",
     "traceback": [
      "\u001b[1;31m---------------------------------------------------------------------------\u001b[0m",
      "\u001b[1;31mAttributeError\u001b[0m                            Traceback (most recent call last)",
      "\u001b[1;32m<ipython-input-40-80e852827963>\u001b[0m in \u001b[0;36m<module>\u001b[1;34m\u001b[0m\n\u001b[0;32m      1\u001b[0m \u001b[1;32mimport\u001b[0m \u001b[0mdlib\u001b[0m\u001b[1;33m\u001b[0m\u001b[1;33m\u001b[0m\u001b[0m\n\u001b[1;32m----> 2\u001b[1;33m \u001b[0mdlib\u001b[0m\u001b[1;33m.\u001b[0m\u001b[0mget_frontal_face_detector\u001b[0m\u001b[1;33m(\u001b[0m\u001b[1;33m)\u001b[0m\u001b[1;33m\u001b[0m\u001b[1;33m\u001b[0m\u001b[0m\n\u001b[0m",
      "\u001b[1;31mAttributeError\u001b[0m: module 'dlib' has no attribute 'get_frontal_face_detector'"
     ]
    }
   ],
   "source": [
    "import dlib\n",
    "dlib.get_frontal_face_detector()"
   ]
  },
  {
   "cell_type": "code",
   "execution_count": 9,
   "id": "a5e1bfc2",
   "metadata": {},
   "outputs": [
    {
     "ename": "AttributeError",
     "evalue": "module 'dlib' has no attribute 'get_frontal_face_detector'",
     "output_type": "error",
     "traceback": [
      "\u001b[1;31m---------------------------------------------------------------------------\u001b[0m",
      "\u001b[1;31mAttributeError\u001b[0m                            Traceback (most recent call last)",
      "\u001b[1;32m<ipython-input-9-3c1aa6f97b3b>\u001b[0m in \u001b[0;36m<module>\u001b[1;34m\u001b[0m\n\u001b[0;32m      1\u001b[0m \u001b[1;32mimport\u001b[0m \u001b[0mcv2\u001b[0m\u001b[1;33m\u001b[0m\u001b[1;33m\u001b[0m\u001b[0m\n\u001b[0;32m      2\u001b[0m \u001b[1;32mimport\u001b[0m \u001b[0mnumpy\u001b[0m \u001b[1;32mas\u001b[0m \u001b[0mnp\u001b[0m\u001b[1;33m\u001b[0m\u001b[1;33m\u001b[0m\u001b[0m\n\u001b[1;32m----> 3\u001b[1;33m \u001b[1;32mimport\u001b[0m \u001b[0mface_recognition\u001b[0m\u001b[1;33m\u001b[0m\u001b[1;33m\u001b[0m\u001b[0m\n\u001b[0m\u001b[0;32m      4\u001b[0m \u001b[1;32mimport\u001b[0m \u001b[0mdlib\u001b[0m\u001b[1;33m\u001b[0m\u001b[1;33m\u001b[0m\u001b[0m\n\u001b[0;32m      5\u001b[0m \u001b[1;32mfrom\u001b[0m \u001b[0mmath\u001b[0m \u001b[1;32mimport\u001b[0m \u001b[0msqrt\u001b[0m\u001b[1;33m\u001b[0m\u001b[1;33m\u001b[0m\u001b[0m\n",
      "\u001b[1;32m~\\anaconda3\\lib\\site-packages\\face_recognition\\__init__.py\u001b[0m in \u001b[0;36m<module>\u001b[1;34m\u001b[0m\n\u001b[0;32m      5\u001b[0m \u001b[0m__version__\u001b[0m \u001b[1;33m=\u001b[0m \u001b[1;34m'1.2.3'\u001b[0m\u001b[1;33m\u001b[0m\u001b[1;33m\u001b[0m\u001b[0m\n\u001b[0;32m      6\u001b[0m \u001b[1;33m\u001b[0m\u001b[0m\n\u001b[1;32m----> 7\u001b[1;33m \u001b[1;32mfrom\u001b[0m \u001b[1;33m.\u001b[0m\u001b[0mapi\u001b[0m \u001b[1;32mimport\u001b[0m \u001b[0mload_image_file\u001b[0m\u001b[1;33m,\u001b[0m \u001b[0mface_locations\u001b[0m\u001b[1;33m,\u001b[0m \u001b[0mbatch_face_locations\u001b[0m\u001b[1;33m,\u001b[0m \u001b[0mface_landmarks\u001b[0m\u001b[1;33m,\u001b[0m \u001b[0mface_encodings\u001b[0m\u001b[1;33m,\u001b[0m \u001b[0mcompare_faces\u001b[0m\u001b[1;33m,\u001b[0m \u001b[0mface_distance\u001b[0m\u001b[1;33m\u001b[0m\u001b[1;33m\u001b[0m\u001b[0m\n\u001b[0m",
      "\u001b[1;32m~\\anaconda3\\lib\\site-packages\\face_recognition\\api.py\u001b[0m in \u001b[0;36m<module>\u001b[1;34m\u001b[0m\n\u001b[0;32m     15\u001b[0m \u001b[0mImageFile\u001b[0m\u001b[1;33m.\u001b[0m\u001b[0mLOAD_TRUNCATED_IMAGES\u001b[0m \u001b[1;33m=\u001b[0m \u001b[1;32mTrue\u001b[0m\u001b[1;33m\u001b[0m\u001b[1;33m\u001b[0m\u001b[0m\n\u001b[0;32m     16\u001b[0m \u001b[1;33m\u001b[0m\u001b[0m\n\u001b[1;32m---> 17\u001b[1;33m \u001b[0mface_detector\u001b[0m \u001b[1;33m=\u001b[0m \u001b[0mdlib\u001b[0m\u001b[1;33m.\u001b[0m\u001b[0mget_frontal_face_detector\u001b[0m\u001b[1;33m(\u001b[0m\u001b[1;33m)\u001b[0m\u001b[1;33m\u001b[0m\u001b[1;33m\u001b[0m\u001b[0m\n\u001b[0m\u001b[0;32m     18\u001b[0m \u001b[1;33m\u001b[0m\u001b[0m\n\u001b[0;32m     19\u001b[0m \u001b[0mpredictor_68_point_model\u001b[0m \u001b[1;33m=\u001b[0m \u001b[0mface_recognition_models\u001b[0m\u001b[1;33m.\u001b[0m\u001b[0mpose_predictor_model_location\u001b[0m\u001b[1;33m(\u001b[0m\u001b[1;33m)\u001b[0m\u001b[1;33m\u001b[0m\u001b[1;33m\u001b[0m\u001b[0m\n",
      "\u001b[1;31mAttributeError\u001b[0m: module 'dlib' has no attribute 'get_frontal_face_detector'"
     ]
    }
   ],
   "source": [
    "import cv2\n",
    "import numpy as np\n",
    "import face_recognition\n",
    "import dlib\n",
    "from math import sqrt\n",
    "import scipy.ndimage as snd\n",
    "\n",
    "\n",
    "\n",
    "#Facial Landmark Detection\n",
    "predictor_path = \"shape_predictor_68_face_landmarks.dat\"\n",
    "detector = dlib.get_frontal_face_detector()\n",
    "predictor = dlib.shape_predictor(predictor_path)\n",
    "\n",
    "SampleHead = cv2.imread('Test1.jpg')\n",
    "\n",
    "\n",
    "def facialLandmarks(image):\n",
    "\n",
    "    detect = detector(image)\n",
    "\n",
    "    for k, d in enumerate(detect):\n",
    "        shape = predictor(image, d)\n",
    "        \n",
    "        vec = np.empty([68, 2], dtype=int)\n",
    "        for b in range(68):\n",
    "            vec[b][0] = shape.part(b).x\n",
    "            vec[b][1] = shape.part(b).y\n",
    "\n",
    "        return vec\n",
    "    \n",
    "def scale(Himage,a1,a2,b1,b2,x1,x2,y1,y2):\n",
    "\n",
    "    dist1 = sqrt((a2 - a1) ** 2 + (b2 - b1) ** 2)\n",
    "    # print(dist1)\n",
    "    dist2 = sqrt((x2 - x1) ** 2 + (y2 - y1) ** 2)\n",
    "    # print(dist2)\n",
    "    r = (dist2/dist1)\n",
    "    # print(r)\n",
    "\n",
    "\n",
    "    Scaled = cv2.resize(Himage, None, fx=r, fy=r, interpolation=cv2.INTER_AREA)\n",
    "\n",
    "    return Scaled\n",
    "\n",
    "def edgeDetection(image):\n",
    "    Edge = cv2.Canny(image, 100, 150)\n",
    "    Coords = np.nonzero(Edge)\n",
    "\n",
    "    min_x = np.min(Coords[1])\n",
    "    min_y = np.min(Coords[0])\n",
    "    \n",
    "    max_x = np.max(Coords[1])\n",
    "    max_y = np.max(Coords[0])\n",
    "    return (min_x, min_y, max_x, max_y)\n",
    "\n",
    "\n",
    "def blurImage(image,V):\n",
    "    Blurred = cv2.medianBlur(image, V)\n",
    "    return Blurred\n",
    "\n",
    "\n",
    "def hairExtraction(blurredImg, minimumY, originalImage):\n",
    "\n",
    "    # K-mean approach\n",
    "    Z = blurredImg.reshape((-1, 3))\n",
    "    Z = np.float32(Z)\n",
    "\n",
    "    criteria = (cv2.TERM_CRITERIA_EPS + cv2.TERM_CRITERIA_MAX_ITER, 10, 1.0)\n",
    "\n",
    "    K = 4\n",
    "    ret, label1, center1 = cv2.kmeans(Z, K, None,\n",
    "                                      criteria, 10,\n",
    "                                      cv2.KMEANS_RANDOM_CENTERS)\n",
    "    center1 = np.uint8(center1)\n",
    "    res1 = center1[label1.flatten()]\n",
    "    output1 = res1.reshape((blurredImg.shape))\n",
    "\n",
    "    x = minimumY + 20\n",
    "    h,w,c = originalImage.shape\n",
    "    y = int(w/2)\n",
    "\n",
    "\n",
    "    # find the index of the cluster of the hair\n",
    "    mask = label1.reshape(output1.shape[:-1])\n",
    "    khair = mask[(x, y)]\n",
    "\n",
    "    # get a mask that's True at all of the indices of hair's group\n",
    "    hairmask = mask == khair\n",
    "\n",
    "    # label all connected blobs in hairmask\n",
    "    bloblab = snd.label(hairmask, structure=np.ones((3, 3)))[0]\n",
    "\n",
    "    # create a mask for only the hair\n",
    "    haironlymask = bloblab == bloblab[x, y]\n",
    "\n",
    "    # get an image with just the hair and then crop it\n",
    "    justhair = np.where(haironlymask[..., None], originalImage, [255, 255, 255])\n",
    "    nz = haironlymask.nonzero()\n",
    "    justhair = justhair[nz[0].min()-5:nz[0].max()+5, nz[1].min()-5:nz[1].max()+5]\n",
    "\n",
    "    # save the image of just the hair on a white background\n",
    "    cv2.imwrite(\"JustHair.jpg\", justhair)\n",
    "    finalHair = cv2.imread(\"JustHair.jpg\")\n",
    "\n",
    "    # Perform morphology\n",
    "    se = np.ones((7, 7), dtype='uint8')\n",
    "    hair = cv2.morphologyEx(finalHair, cv2.MORPH_CLOSE, se)\n",
    "\n",
    "    return hair\n",
    "\n",
    "\n",
    "if __name__ == '__main__':\n",
    "\n",
    "    # Facial Landmark Detection for SampleHead\n",
    "    Hlandmarks = facialLandmarks(SampleHead)\n",
    "    HRightJawlinePoints = (Hlandmarks[0, 0], Hlandmarks[0, 1])\n",
    "    HLeftJawlinePoints = (Hlandmarks[16, 0], Hlandmarks[16, 1])\n",
    "    a1 = HRightJawlinePoints[0]\n",
    "    b1 = HRightJawlinePoints[1]\n",
    "    a2 = HLeftJawlinePoints[0]\n",
    "    b2 = HLeftJawlinePoints[1]\n",
    "\n",
    "    #Scale SampleHead according to size of SampleModel\n",
    "    Resized = scale(SampleHead,a1,a2,b1,b2,x1,x2,y1,y2)\n",
    "\n",
    "    #Detecting value of topmost y of resized head\n",
    "    headExtremeEdgePoints = edgeDetection(Resized)\n",
    "    headMinY = headExtremeEdgePoints[1]\n",
    "\n",
    "\n",
    "    # Blurring effect addition\n",
    "    blurredHeadImage = blurImage(Resized, 5)\n",
    "\n",
    "    # Hair Extraction\n",
    "    headHair = hairExtraction(blurredHeadImage, headMinY, Resized)\n",
    "    cv2.imshow(\"HeadHair\", headHair)\n",
    "    cv2.waitKey(0)\n",
    "    cv2.destroyAllWindows()\n",
    "    \n",
    "    \n",
    "    \n",
    "        \n",
    "        \n"
   ]
  },
  {
   "cell_type": "code",
   "execution_count": 20,
   "id": "e64dceb4",
   "metadata": {
    "scrolled": true
   },
   "outputs": [
    {
     "name": "stdout",
     "output_type": "stream",
     "text": [
      "Found existing installation: dlib 19.18.0\n",
      "Can't uninstall 'dlib'. No files were found to uninstall.\n"
     ]
    }
   ],
   "source": [
    "! pip uninstall dlib "
   ]
  },
  {
   "cell_type": "code",
   "execution_count": null,
   "id": "56161a81",
   "metadata": {},
   "outputs": [],
   "source": []
  },
  {
   "cell_type": "code",
   "execution_count": null,
   "id": "1d3ce9ab",
   "metadata": {},
   "outputs": [],
   "source": []
  },
  {
   "cell_type": "code",
   "execution_count": null,
   "id": "998cf0d0",
   "metadata": {},
   "outputs": [],
   "source": []
  },
  {
   "cell_type": "code",
   "execution_count": null,
   "id": "d38eab97",
   "metadata": {},
   "outputs": [],
   "source": []
  }
 ],
 "metadata": {
  "kernelspec": {
   "display_name": "Python 3",
   "language": "python",
   "name": "python3"
  },
  "language_info": {
   "codemirror_mode": {
    "name": "ipython",
    "version": 3
   },
   "file_extension": ".py",
   "mimetype": "text/x-python",
   "name": "python",
   "nbconvert_exporter": "python",
   "pygments_lexer": "ipython3",
   "version": "3.8.8"
  },
  "vscode": {
   "interpreter": {
    "hash": "263930470851f494f0ed2879c35b57985588df20f9e529b86e97dd5eb9ddc466"
   }
  }
 },
 "nbformat": 4,
 "nbformat_minor": 5
}
