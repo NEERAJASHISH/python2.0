{
 "cells": [
  {
   "cell_type": "code",
   "execution_count": 1,
   "id": "ce87be81",
   "metadata": {
    "scrolled": true
   },
   "outputs": [
    {
     "name": "stdout",
     "output_type": "stream",
     "text": [
      "{'OPERATION': 1, 'MODES': 1, 'The': 3, 'Cortex-M3': 1, 'processor': 4, 'has': 2, 'two': 2, 'modes': 2, 'and': 5, 'privilege': 3, 'levels.': 1, 'operation': 1, '-': 1, 'thread': 2, 'mode': 2, 'handler': 4, 'mode-': 1, 'determine': 1, 'whether': 1, 'the': 14, 'is': 1, 'running': 2, 'a': 3, 'normal': 1, 'program': 3, 'or': 2, 'an': 4, 'exception': 5, 'like': 1, 'interrupt': 1, 'system': 1, 'handler.': 2, 'levels': 2, '(privileged': 1, 'level': 4, 'user': 3, 'level)': 1, 'provide': 1, 'mechanism': 1, 'for': 2, 'safeguarding': 1, 'memory': 2, 'accesses': 1, 'to': 9, 'critical': 2, 'regions': 1, 'as': 3, 'well': 1, 'providing': 1, 'basic': 1, 'security': 1, 'model.': 1, 'Software': 1, 'in': 2, 'privileged': 4, 'access': 3, 'can': 2, 'switch': 3, 'into': 2, 'using': 1, 'control': 3, 'register.': 2, 'When': 1, 'takes': 1, 'place,': 1, 'will': 1, 'always': 1, 'back': 3, 'state': 3, 'return': 1, 'previous': 1, 'when': 2, 'exiting': 1, 'A': 1, 'cannot': 1, 'change': 1, 'by': 1, 'writing': 1, 'It': 2, 'go': 1, 'through': 1, 'that': 1, 'programs': 2, 'register': 1, 'returning': 1, 'be': 1, 'used': 1, 'conjunction': 1, 'with': 1, 'protect': 1, 'locations,': 1, 'such': 1, 'data': 1, 'OS.': 1}\n"
     ]
    }
   ],
   "source": [
    "# programme to find the number of words in a file\n",
    "fhand = open(\"file1\")\n",
    "\n",
    "k = []\n",
    "d = []\n",
    "for i in fhand:\n",
    "    \n",
    "    k.append(i.split())\n",
    "    \n",
    "for p in range(len(k)):\n",
    "    for n in range(len(k[p])):\n",
    "        q = k[p][n]\n",
    "        d.append(q)\n",
    "dic = {}\n",
    "for h in d:\n",
    "    if h not in dic.keys():\n",
    "        dic[h] = 1\n",
    "    else:\n",
    "        dic[h] = dic[h] + 1\n",
    "        \n",
    "print(dic)\n",
    "\n",
    "    \n",
    "\n"
   ]
  },
  {
   "cell_type": "code",
   "execution_count": 2,
   "id": "f7413848",
   "metadata": {},
   "outputs": [
    {
     "data": {
      "text/plain": [
       "['OPERATION',\n",
       " 'MODES',\n",
       " 'The',\n",
       " 'Cortex-M3',\n",
       " 'processor',\n",
       " 'has',\n",
       " 'two',\n",
       " 'modes',\n",
       " 'and',\n",
       " 'two',\n",
       " 'privilege',\n",
       " 'levels.',\n",
       " 'The',\n",
       " 'operation',\n",
       " 'modes',\n",
       " '-',\n",
       " 'thread',\n",
       " 'mode',\n",
       " 'and',\n",
       " 'handler',\n",
       " 'mode-',\n",
       " 'determine',\n",
       " 'whether',\n",
       " 'the',\n",
       " 'processor',\n",
       " 'is',\n",
       " 'running',\n",
       " 'a',\n",
       " 'normal',\n",
       " 'program',\n",
       " 'or',\n",
       " 'running',\n",
       " 'an',\n",
       " 'exception',\n",
       " 'handler',\n",
       " 'like',\n",
       " 'an',\n",
       " 'interrupt',\n",
       " 'handler',\n",
       " 'or',\n",
       " 'system',\n",
       " 'exception',\n",
       " 'handler.',\n",
       " 'The',\n",
       " 'privilege',\n",
       " 'levels',\n",
       " '(privileged',\n",
       " 'level',\n",
       " 'and',\n",
       " 'user',\n",
       " 'level)',\n",
       " 'provide',\n",
       " 'a',\n",
       " 'mechanism',\n",
       " 'for',\n",
       " 'safeguarding',\n",
       " 'memory',\n",
       " 'accesses',\n",
       " 'to',\n",
       " 'critical',\n",
       " 'regions',\n",
       " 'as',\n",
       " 'well',\n",
       " 'as',\n",
       " 'providing',\n",
       " 'a',\n",
       " 'basic',\n",
       " 'security',\n",
       " 'model.',\n",
       " 'Software',\n",
       " 'in',\n",
       " 'the',\n",
       " 'privileged',\n",
       " 'access',\n",
       " 'level',\n",
       " 'can',\n",
       " 'switch',\n",
       " 'the',\n",
       " 'program',\n",
       " 'into',\n",
       " 'the',\n",
       " 'user',\n",
       " 'access',\n",
       " 'level',\n",
       " 'using',\n",
       " 'the',\n",
       " 'control',\n",
       " 'register.',\n",
       " 'When',\n",
       " 'an',\n",
       " 'exception',\n",
       " 'takes',\n",
       " 'place,',\n",
       " 'the',\n",
       " 'processor',\n",
       " 'will',\n",
       " 'always',\n",
       " 'switch',\n",
       " 'back',\n",
       " 'to',\n",
       " 'the',\n",
       " 'privileged',\n",
       " 'state',\n",
       " 'and',\n",
       " 'return',\n",
       " 'to',\n",
       " 'the',\n",
       " 'previous',\n",
       " 'state',\n",
       " 'when',\n",
       " 'exiting',\n",
       " 'the',\n",
       " 'exception',\n",
       " 'handler.',\n",
       " 'A',\n",
       " 'user',\n",
       " 'program',\n",
       " 'cannot',\n",
       " 'change',\n",
       " 'back',\n",
       " 'to',\n",
       " 'the',\n",
       " 'privileged',\n",
       " 'state',\n",
       " 'by',\n",
       " 'writing',\n",
       " 'to',\n",
       " 'the',\n",
       " 'control',\n",
       " 'register.',\n",
       " 'It',\n",
       " 'has',\n",
       " 'to',\n",
       " 'go',\n",
       " 'through',\n",
       " 'an',\n",
       " 'exception',\n",
       " 'handler',\n",
       " 'that',\n",
       " 'programs',\n",
       " 'the',\n",
       " 'control',\n",
       " 'register',\n",
       " 'to',\n",
       " 'switch',\n",
       " 'the',\n",
       " 'processor',\n",
       " 'back',\n",
       " 'into',\n",
       " 'the',\n",
       " 'privileged',\n",
       " 'access',\n",
       " 'level',\n",
       " 'when',\n",
       " 'returning',\n",
       " 'to',\n",
       " 'thread',\n",
       " 'mode',\n",
       " 'It',\n",
       " 'can',\n",
       " 'be',\n",
       " 'used',\n",
       " 'in',\n",
       " 'conjunction',\n",
       " 'with',\n",
       " 'privilege',\n",
       " 'levels',\n",
       " 'to',\n",
       " 'protect',\n",
       " 'critical',\n",
       " 'memory',\n",
       " 'locations,',\n",
       " 'such',\n",
       " 'as',\n",
       " 'programs',\n",
       " 'and',\n",
       " 'data',\n",
       " 'for',\n",
       " 'OS.']"
      ]
     },
     "execution_count": 2,
     "metadata": {},
     "output_type": "execute_result"
    }
   ],
   "source": [
    "d"
   ]
  },
  {
   "cell_type": "code",
   "execution_count": 3,
   "id": "f9f1cb5f",
   "metadata": {},
   "outputs": [],
   "source": [
    "#####################"
   ]
  },
  {
   "cell_type": "code",
   "execution_count": 4,
   "id": "d232525e",
   "metadata": {},
   "outputs": [
    {
     "data": {
      "text/plain": [
       "'hello'"
      ]
     },
     "execution_count": 4,
     "metadata": {},
     "output_type": "execute_result"
    }
   ],
   "source": [
    "s = \" hello       \"\n",
    "s.strip()\n"
   ]
  },
  {
   "cell_type": "code",
   "execution_count": 5,
   "id": "59c77895",
   "metadata": {},
   "outputs": [
    {
     "name": "stdout",
     "output_type": "stream",
     "text": [
      "hello\n",
      "how\n"
     ]
    }
   ],
   "source": [
    "s = [\"hello\",\"how\",\"are you\"]\n",
    "\n",
    "for i in s:\n",
    "    if i.startswith(\"h\"):\n",
    "        print(i)"
   ]
  },
  {
   "cell_type": "code",
   "execution_count": 6,
   "id": "16752c18",
   "metadata": {
    "scrolled": true
   },
   "outputs": [
    {
     "data": {
      "text/plain": [
       "3"
      ]
     },
     "execution_count": 6,
     "metadata": {},
     "output_type": "execute_result"
    }
   ],
   "source": [
    "len(s)"
   ]
  },
  {
   "cell_type": "code",
   "execution_count": 7,
   "id": "ca99554f",
   "metadata": {},
   "outputs": [
    {
     "name": "stdout",
     "output_type": "stream",
     "text": [
      "5\n",
      "3\n",
      "7\n"
     ]
    }
   ],
   "source": [
    "s = [\"hello\",\"how\",\"are you\"]\n",
    "for i in s:\n",
    "    print(len(i))\n"
   ]
  },
  {
   "cell_type": "code",
   "execution_count": 8,
   "id": "04dea380",
   "metadata": {
    "scrolled": true
   },
   "outputs": [
    {
     "name": "stdout",
     "output_type": "stream",
     "text": [
      "OPERATION\n",
      "MODES\n",
      "The\n",
      "Cortex-M3\n",
      "processor\n",
      "has\n",
      "two\n",
      "modes\n",
      "and\n",
      "two\n",
      "privilege\n",
      "levels.\n",
      "The\n",
      "operation\n",
      "modes\n",
      "-\n",
      "thread\n",
      "mode\n",
      "and\n",
      "handler\n",
      "mode-\n",
      "determine\n",
      "whether\n"
     ]
    }
   ],
   "source": [
    "x = [['OPERATION', 'MODES'],\n",
    "['The', 'Cortex-M3', 'processor', 'has', 'two', 'modes', 'and', 'two', 'privilege', 'levels.'],\n",
    "['The', 'operation', 'modes', '-', 'thread', 'mode', 'and', 'handler', 'mode-', 'determine', 'whether']]\n",
    "\n",
    "for p in range(len(x)):\n",
    "    for n in range(len(x[p])):\n",
    "        q = x[p][n]\n",
    "        print(q)\n",
    "    \n",
    "        \n",
    "    \n",
    "    \n",
    "    \n",
    "        \n",
    "    \n",
    "    \n",
    "    "
   ]
  },
  {
   "cell_type": "code",
   "execution_count": 9,
   "id": "5943a19d",
   "metadata": {},
   "outputs": [
    {
     "data": {
      "text/plain": [
       "[1, 2, 3, 4]"
      ]
     },
     "execution_count": 9,
     "metadata": {},
     "output_type": "execute_result"
    }
   ],
   "source": [
    "l= [1,2,3,4,5]\n",
    "l[:-1]"
   ]
  },
  {
   "cell_type": "code",
   "execution_count": 10,
   "id": "20298830",
   "metadata": {},
   "outputs": [
    {
     "data": {
      "text/plain": [
       "[1, 2]"
      ]
     },
     "execution_count": 10,
     "metadata": {},
     "output_type": "execute_result"
    }
   ],
   "source": [
    "l[:-3]"
   ]
  },
  {
   "cell_type": "code",
   "execution_count": 11,
   "id": "a96ac681",
   "metadata": {},
   "outputs": [
    {
     "data": {
      "text/plain": [
       "[2, 3, 4, 5]"
      ]
     },
     "execution_count": 11,
     "metadata": {},
     "output_type": "execute_result"
    }
   ],
   "source": [
    "l[1:]"
   ]
  },
  {
   "cell_type": "code",
   "execution_count": 12,
   "id": "ad4075b3",
   "metadata": {},
   "outputs": [
    {
     "data": {
      "text/plain": [
       "[1, 2, 3, 4]"
      ]
     },
     "execution_count": 12,
     "metadata": {},
     "output_type": "execute_result"
    }
   ],
   "source": [
    "l[:-1]"
   ]
  },
  {
   "cell_type": "code",
   "execution_count": 13,
   "id": "ac83f70f",
   "metadata": {},
   "outputs": [
    {
     "name": "stdout",
     "output_type": "stream",
     "text": [
      "Note: you may need to restart the kernel to use updated packages.\n"
     ]
    },
    {
     "name": "stderr",
     "output_type": "stream",
     "text": [
      "The filename, directory name, or volume label syntax is incorrect.\n"
     ]
    }
   ],
   "source": [
    "pip install jupyterthemes"
   ]
  },
  {
   "cell_type": "code",
   "execution_count": 14,
   "id": "42887e61",
   "metadata": {},
   "outputs": [
    {
     "name": "stdout",
     "output_type": "stream",
     "text": [
      "^C\n",
      "\n",
      "Note: you may need to restart the kernel to use updated packages.\n"
     ]
    }
   ],
   "source": [
    "conda install -c conda-forge jupyterthemes"
   ]
  },
  {
   "cell_type": "code",
   "execution_count": 15,
   "id": "e521d177",
   "metadata": {},
   "outputs": [],
   "source": [
    "dic = {}"
   ]
  },
  {
   "cell_type": "code",
   "execution_count": 16,
   "id": "5a3cacda",
   "metadata": {},
   "outputs": [],
   "source": [
    "dic[\"hello\"] = 1\n",
    "dic[\"what\"] = 10"
   ]
  },
  {
   "cell_type": "code",
   "execution_count": 17,
   "id": "734874d9",
   "metadata": {},
   "outputs": [
    {
     "data": {
      "text/plain": [
       "{'hello': 1, 'what': 10}"
      ]
     },
     "execution_count": 17,
     "metadata": {},
     "output_type": "execute_result"
    }
   ],
   "source": [
    "dic"
   ]
  },
  {
   "cell_type": "code",
   "execution_count": 18,
   "id": "8243483e",
   "metadata": {},
   "outputs": [
    {
     "data": {
      "text/plain": [
       "10"
      ]
     },
     "execution_count": 18,
     "metadata": {},
     "output_type": "execute_result"
    }
   ],
   "source": [
    "dic[\"what\"]"
   ]
  },
  {
   "cell_type": "code",
   "execution_count": null,
   "id": "3c1f22d6",
   "metadata": {},
   "outputs": [],
   "source": []
  },
  {
   "cell_type": "code",
   "execution_count": 19,
   "id": "d3e241eb",
   "metadata": {},
   "outputs": [
    {
     "name": "stdout",
     "output_type": "stream",
     "text": [
      "hello\n",
      "what\n"
     ]
    }
   ],
   "source": [
    "l = dic.keys()\n",
    "for i in l:\n",
    "    print(i)"
   ]
  },
  {
   "cell_type": "code",
   "execution_count": 20,
   "id": "9422ff94",
   "metadata": {},
   "outputs": [
    {
     "name": "stdout",
     "output_type": "stream",
     "text": [
      "hello 1\n",
      "what 10\n"
     ]
    }
   ],
   "source": [
    "for i in dic:\n",
    "    print(i,dic[i])"
   ]
  },
  {
   "cell_type": "code",
   "execution_count": 21,
   "id": "cd434c6d",
   "metadata": {},
   "outputs": [
    {
     "data": {
      "text/plain": [
       "['hello', 'what']"
      ]
     },
     "execution_count": 21,
     "metadata": {},
     "output_type": "execute_result"
    }
   ],
   "source": [
    "n = []\n",
    "for i in dic:\n",
    "    n.append(i)\n",
    "n.sort()\n",
    "n"
   ]
  },
  {
   "cell_type": "code",
   "execution_count": 22,
   "id": "f6ac7265",
   "metadata": {},
   "outputs": [
    {
     "ename": "SyntaxError",
     "evalue": "unexpected EOF while parsing (<ipython-input-22-707ebfb16e78>, line 10)",
     "output_type": "error",
     "traceback": [
      "\u001b[1;36m  File \u001b[1;32m\"<ipython-input-22-707ebfb16e78>\"\u001b[1;36m, line \u001b[1;32m10\u001b[0m\n\u001b[1;33m    \u001b[0m\n\u001b[1;37m    ^\u001b[0m\n\u001b[1;31mSyntaxError\u001b[0m\u001b[1;31m:\u001b[0m unexpected EOF while parsing\n"
     ]
    }
   ],
   "source": [
    "counts = { 'chuck' : 1 , 'annie' : 1000, 'jan': 100}\n",
    "k = []\n",
    "for i in counts.values():\n",
    "    k.append(i)\n",
    "k.sort()\n",
    "for i in counts:\n",
    "    \n",
    "\n",
    "    \n",
    "    "
   ]
  },
  {
   "cell_type": "code",
   "execution_count": null,
   "id": "e8968950",
   "metadata": {},
   "outputs": [],
   "source": [
    "for s,m in counts.items():\n",
    "    print(s,m)"
   ]
  },
  {
   "cell_type": "code",
   "execution_count": null,
   "id": "a4e189bc",
   "metadata": {},
   "outputs": [],
   "source": [
    "import string\n",
    "string.punctuation"
   ]
  },
  {
   "cell_type": "code",
   "execution_count": null,
   "id": "f7aa9c44",
   "metadata": {},
   "outputs": [],
   "source": [
    "(100,2000,30000) >(10,1,1)"
   ]
  },
  {
   "cell_type": "code",
   "execution_count": null,
   "id": "930f214c",
   "metadata": {},
   "outputs": [],
   "source": [
    "txt = 'but soft what light in yonder window breaks'\n",
    "words = txt.split()\n",
    "t = list()\n",
    "for word in words:\n",
    "     t.append((len(word), word))# builds a list of tuples, where each tuple is a word preceded by its length.\n",
    "\n",
    "t.sort(reverse=True)\n",
    "print(t)\n",
    "\n",
    "\n"
   ]
  },
  {
   "cell_type": "code",
   "execution_count": null,
   "id": "bf9e3c34",
   "metadata": {},
   "outputs": [],
   "source": [
    "for i,j in t:\n",
    "    print(i,j)"
   ]
  },
  {
   "cell_type": "code",
   "execution_count": null,
   "id": "df5c45b3",
   "metadata": {},
   "outputs": [],
   "source": [
    "(1,2,3) < (100,1,1)"
   ]
  },
  {
   "cell_type": "code",
   "execution_count": null,
   "id": "98a82cf2",
   "metadata": {},
   "outputs": [],
   "source": [
    "addr = 'monty@python.org'\n",
    "uname, domain = addr.split('@')\n",
    "print(uname)\n",
    "print(domain)\n",
    "      \n"
   ]
  },
  {
   "cell_type": "code",
   "execution_count": null,
   "id": "9bd9be12",
   "metadata": {},
   "outputs": [],
   "source": [
    "dic = {}\n",
    "dic[(\"hello\",\"how\")] = 10"
   ]
  },
  {
   "cell_type": "code",
   "execution_count": null,
   "id": "d474ec5e",
   "metadata": {},
   "outputs": [],
   "source": [
    "for i in dic.items():\n",
    "    print(i)"
   ]
  },
  {
   "cell_type": "code",
   "execution_count": null,
   "id": "eb469695",
   "metadata": {},
   "outputs": [],
   "source": [
    "counts = { 'chuck' : 1 , 'annie' : 42, 'jan': 100}\n",
    "l = []\n",
    "l.append(counts.items())\n",
    "l\n",
    "\n"
   ]
  },
  {
   "cell_type": "code",
   "execution_count": null,
   "id": "7be389c0",
   "metadata": {},
   "outputs": [],
   "source": [
    "counts = { 'chuck' : 1 , 'annie' : 42, 'jan': 100}\n",
    "l = list(counts.items())\n",
    "l\n"
   ]
  },
  {
   "cell_type": "code",
   "execution_count": null,
   "id": "b779fad5",
   "metadata": {},
   "outputs": [],
   "source": [
    "counts = { 'chuck' : 1 , 'annie' : 42, 'jan': 100}\n",
    "for j,i in counts.items():\n",
    "    print(j,i)"
   ]
  },
  {
   "cell_type": "code",
   "execution_count": null,
   "id": "fbf25dc0",
   "metadata": {
    "scrolled": true
   },
   "outputs": [],
   "source": [
    "names"
   ]
  },
  {
   "cell_type": "code",
   "execution_count": null,
   "id": "2030cda8",
   "metadata": {},
   "outputs": [],
   "source": [
    "pip install jupyterthemes"
   ]
  },
  {
   "cell_type": "code",
   "execution_count": null,
   "id": "a3936a25",
   "metadata": {},
   "outputs": [],
   "source": [
    "jt -l"
   ]
  },
  {
   "cell_type": "code",
   "execution_count": null,
   "id": "288ac2cc",
   "metadata": {},
   "outputs": [],
   "source": [
    "class Point:\n",
    "    \"\"\"Represents a point in 2-D space.\"\"\"\n"
   ]
  },
  {
   "cell_type": "code",
   "execution_count": null,
   "id": "48a916eb",
   "metadata": {},
   "outputs": [],
   "source": [
    "point"
   ]
  },
  {
   "cell_type": "code",
   "execution_count": null,
   "id": "18d2c8c2",
   "metadata": {},
   "outputs": [],
   "source": [
    "class point():\n",
    "    def __init__(self,a,b):\n",
    "        self.a = a\n",
    "        self.b = b\n",
    "    def __str__(self):\n",
    "        return(f'The value of {self.a} and {self.b}')\n",
    "    \n",
    "obj1 = point(2,3)\n",
    "obj1.__str__()\n",
    "        "
   ]
  },
  {
   "cell_type": "code",
   "execution_count": null,
   "id": "977abc36",
   "metadata": {},
   "outputs": [],
   "source": [
    "point"
   ]
  },
  {
   "cell_type": "code",
   "execution_count": null,
   "id": "105a1b7e",
   "metadata": {},
   "outputs": [],
   "source": [
    "class myfirstprogram:\n",
    "    print(\"welcome to object oriented programming\") #initializer - welcome message\n",
    "   \n",
    "c = myfirstprogram() #instance of class\n",
    "print(c)\n"
   ]
  },
  {
   "cell_type": "code",
   "execution_count": null,
   "id": "c7bc70f0",
   "metadata": {},
   "outputs": [],
   "source": [
    "a = 10\n",
    "b = 11\n",
    "print('%d %d' % (a,b))"
   ]
  },
  {
   "cell_type": "code",
   "execution_count": null,
   "id": "31b90e51",
   "metadata": {},
   "outputs": [],
   "source": [
    "class hello():\n",
    "    \n",
    "     def print_point(self,p):\n",
    "            print(p.x,p.y)\n",
    "            \n",
    "            \n",
    "blank = hello()\n",
    "blank.x = 10\n",
    "blank.y = 20\n",
    "blank.print_point(blank)\n",
    "            \n",
    "\n",
    "            \n",
    "            \n",
    "\n"
   ]
  },
  {
   "cell_type": "code",
   "execution_count": null,
   "id": "6d412700",
   "metadata": {},
   "outputs": [],
   "source": [
    "txt = \"hello how are you\"\n",
    "words  = txt.split()\n",
    "words"
   ]
  },
  {
   "cell_type": "code",
   "execution_count": null,
   "id": "e027ecd3",
   "metadata": {},
   "outputs": [],
   "source": [
    "import socket\n",
    "import time\n",
    "HOST = 'data.pr4e.org'\n",
    "PORT = 80\n",
    "mysock = socket.socket(socket.AF_INET, socket.SOCK_STREAM)\n",
    "mysock.connect((HOST, PORT))\n",
    "mysock.send('GET http://data.pr4e.org/cover3.jpg HTTP/1.0\\r\\n\\r\\n'.encode())\n",
    "count = 0\n",
    "picture = b\" \"\n",
    "while True:\n",
    "    data = mysock.recv(5120)\n",
    "    if (len(data) < 1):\n",
    "        break\n",
    "    print(len(data), count)\n",
    "    count = count + len(data)\n",
    "    picture = picture + data\n",
    "mysock.close()\n",
    " \n",
    "  \n",
    "        \n",
    "        \n",
    "\n",
    " \n",
    " \n",
    "\n",
    " \n",
    " \n",
    "pos = picture.find(b\"\\r\\n\\r\\n\")\n",
    "print('Header length', pos)\n",
    "print(picture[:pos].decode())\n",
    "\n",
    "picture = picture[pos+4:]\n",
    "fhand = open(\"stuff.jpg\", \"wb\")\n",
    "fhand.write(picture)\n",
    "fhand.close()"
   ]
  },
  {
   "cell_type": "code",
   "execution_count": null,
   "id": "42846d15",
   "metadata": {},
   "outputs": [],
   "source": [
    "print(len(data), count)"
   ]
  },
  {
   "cell_type": "code",
   "execution_count": null,
   "id": "a0eef39a",
   "metadata": {},
   "outputs": [],
   "source": [
    "s = [1,2,3,4,5,6,7]\n",
    "s[1+4:]"
   ]
  },
  {
   "cell_type": "code",
   "execution_count": null,
   "id": "cd33dfc4",
   "metadata": {},
   "outputs": [],
   "source": [
    "k  = \"hello\"\n",
    "k.g"
   ]
  },
  {
   "cell_type": "code",
   "execution_count": null,
   "id": "435e1e56",
   "metadata": {},
   "outputs": [],
   "source": [
    "import urllib.request\n",
    "fhand = urllib.request.urlopen('http://data.pr4e.org/romeo.txt')\n",
    "for line in fhand:\n",
    "    K = line.decode().strip()\n",
    "    print(K)\n",
    "\n"
   ]
  },
  {
   "cell_type": "code",
   "execution_count": null,
   "id": "69ea06e7",
   "metadata": {},
   "outputs": [],
   "source": [
    "import urllib.request\n",
    "fhand = urllib.request.urlopen('http://data.pr4e.org/romeo.txt')\n",
    "counts = dict()\n",
    "for line in fhand:\n",
    "    words = line.decode().strip()\n",
    "    print(words)\n",
    "for word in words:\n",
    "    if word in counts:\n",
    "        counts[word] = counts[word] + 1\n",
    "    else:\n",
    "        counts[word] = 1\n",
    "        \n",
    "print(counts)\n",
    "    \n",
    " \n",
    "\n"
   ]
  },
  {
   "cell_type": "code",
   "execution_count": null,
   "id": "738970f8",
   "metadata": {},
   "outputs": [],
   "source": [
    "import urllib.request\n",
    "import re\n",
    "url = input('Enter - ')\n",
    "html = urllib.request.urlopen(url).read()\n",
    "links = re.findall(b'href=\"(http://.*?)\"', html)\n",
    "for link in links:\n",
    "    print(link.decode())\n",
    " "
   ]
  },
  {
   "cell_type": "code",
   "execution_count": 25,
   "id": "e18dcb77",
   "metadata": {},
   "outputs": [
    {
     "name": "stdout",
     "output_type": "stream",
     "text": [
      "Enter - https://docs.python.org/2/tutorial/floatingpoint.html\n",
      "[<a href=\"https://devguide.python.org/devcycle/#end-of-life-branches\">no longer supported</a>, <a href=\"https://docs.python.org/3/tutorial/floatingpoint.html\"> Python documentation for the current stable release</a>, <a accesskey=\"I\" href=\"../genindex.html\" title=\"General Index\">index</a>, <a href=\"../py-modindex.html\" title=\"Python Module Index\">modules</a>, <a accesskey=\"N\" href=\"appendix.html\" title=\"15. Appendix\">next</a>, <a accesskey=\"P\" href=\"interactive.html\" title=\"13. Interactive Input Editing and History Substitution\">previous</a>, <a href=\"https://www.python.org/\">Python</a>, <a href=\"../index.html\">Python 2.7.18 documentation</a>, <a accesskey=\"U\" href=\"index.html\">The Python Tutorial</a>, <a class=\"headerlink\" href=\"#floating-point-arithmetic-issues-and-limitations\" title=\"Permalink to this headline\">¶</a>, <a class=\"reference internal\" href=\"../library/functions.html#round\" title=\"round\"><code class=\"xref py py-func docutils literal notranslate\"><span class=\"pre\">round()</span></code></a>, <a class=\"reference internal\" href=\"../library/decimal.html#module-decimal\" title=\"decimal: Implementation of the General Decimal Arithmetic  Specification.\"><code class=\"xref py py-mod docutils literal notranslate\"><span class=\"pre\">decimal</span></code></a>, <a class=\"reference internal\" href=\"../library/decimal.html#module-decimal\" title=\"decimal: Implementation of the General Decimal Arithmetic  Specification.\"><code class=\"xref py py-mod docutils literal notranslate\"><span class=\"pre\">decimal</span></code></a>, <a class=\"reference external\" href=\"http://www.lahey.com/float.htm\">The Perils of Floating Point</a>, <a class=\"reference internal\" href=\"../library/stdtypes.html#str.format\" title=\"str.format\"><code class=\"xref py py-meth docutils literal notranslate\"><span class=\"pre\">str.format()</span></code></a>, <a class=\"reference internal\" href=\"../library/string.html#formatstrings\"><span class=\"std std-ref\">Format String Syntax</span></a>, <a class=\"headerlink\" href=\"#representation-error\" title=\"Permalink to this headline\">¶</a>, <a href=\"../contents.html\">Table of Contents</a>, <a class=\"reference internal\" href=\"#\">14. Floating Point Arithmetic:  Issues and Limitations</a>, <a class=\"reference internal\" href=\"#representation-error\">14.1. Representation Error</a>, <a href=\"interactive.html\" title=\"previous chapter\"><span class=\"section-number\">13. </span>Interactive Input Editing and History Substitution</a>, <a href=\"appendix.html\" title=\"next chapter\"><span class=\"section-number\">15. </span>Appendix</a>, <a href=\"../_sources/tutorial/floatingpoint.rst.txt\" rel=\"nofollow\">Show Source</a>, <a href=\"../genindex.html\" title=\"General Index\">index</a>, <a href=\"../py-modindex.html\" title=\"Python Module Index\">modules</a>, <a href=\"appendix.html\" title=\"15. Appendix\">next</a>, <a href=\"interactive.html\" title=\"13. Interactive Input Editing and History Substitution\">previous</a>, <a href=\"https://www.python.org/\">Python</a>, <a href=\"../index.html\">Python 2.7.18 documentation</a>, <a href=\"index.html\">The Python Tutorial</a>, <a href=\"../copyright.html\">Copyright</a>, <a href=\"https://www.python.org/psf/donations/\">Please donate.</a>, <a href=\"../bugs.html\">Found a bug</a>, <a href=\"http://sphinx.pocoo.org/\">Sphinx</a>]\n",
      "https://devguide.python.org/devcycle/#end-of-life-branches\n",
      "https://docs.python.org/3/tutorial/floatingpoint.html\n",
      "../genindex.html\n",
      "../py-modindex.html\n",
      "appendix.html\n",
      "interactive.html\n",
      "https://www.python.org/\n",
      "../index.html\n",
      "index.html\n",
      "#floating-point-arithmetic-issues-and-limitations\n",
      "../library/functions.html#round\n",
      "../library/decimal.html#module-decimal\n",
      "../library/decimal.html#module-decimal\n",
      "http://www.lahey.com/float.htm\n",
      "../library/stdtypes.html#str.format\n",
      "../library/string.html#formatstrings\n",
      "#representation-error\n",
      "../contents.html\n",
      "#\n",
      "#representation-error\n",
      "interactive.html\n",
      "appendix.html\n",
      "../_sources/tutorial/floatingpoint.rst.txt\n",
      "../genindex.html\n",
      "../py-modindex.html\n",
      "appendix.html\n",
      "interactive.html\n",
      "https://www.python.org/\n",
      "../index.html\n",
      "index.html\n",
      "../copyright.html\n",
      "https://www.python.org/psf/donations/\n",
      "../bugs.html\n",
      "http://sphinx.pocoo.org/\n"
     ]
    }
   ],
   "source": [
    "import urllib.request\n",
    "from bs4 import BeautifulSoup\n",
    "url = input('Enter - ') \n",
    "html = urllib.request.urlopen(url).read()\n",
    "soups = BeautifulSoup(html, 'html.parser')\n",
    "soups.find_all\n",
    "tags = soups('a')\n",
    "\n",
    "for tag in tags:\n",
    "    print(tag.get('href', None))\n",
    " \n"
   ]
  },
  {
   "cell_type": "code",
   "execution_count": 24,
   "id": "f56f7f57",
   "metadata": {},
   "outputs": [
    {
     "data": {
      "text/plain": [
       "{'hello': 1, 'what': 10}"
      ]
     },
     "execution_count": 24,
     "metadata": {},
     "output_type": "execute_result"
    },
    {
     "name": "stdout",
     "output_type": "stream",
     "text": [
      "Collecting package metadata (current_repodata.json): ...working... done\n",
      "Solving environment: ...working... done\n",
      "\n",
      "## Package Plan ##\n",
      "\n",
      "  environment location: C:\\Users\\USER\\anaconda3\n",
      "\n",
      "  added / updated specs:\n",
      "    - jupyterthemes\n",
      "\n",
      "\n",
      "The following packages will be downloaded:\n",
      "\n",
      "    package                    |            build\n",
      "    ---------------------------|-----------------\n",
      "    openssl-1.1.1q             |       h8ffe710_0         5.8 MB  conda-forge\n",
      "    ------------------------------------------------------------\n",
      "                                           Total:         5.8 MB\n",
      "\n",
      "The following packages will be UPDATED:\n",
      "\n",
      "  openssl                                 1.1.1o-h8ffe710_0 --> 1.1.1q-h8ffe710_0\n",
      "\n",
      "\n",
      "\n",
      "Downloading and Extracting Packages\n",
      "\n",
      "openssl-1.1.1q       | 5.8 MB    |            |   0% \n",
      "openssl-1.1.1q       | 5.8 MB    |            |   0% \n",
      "openssl-1.1.1q       | 5.8 MB    | 1          |   2% \n",
      "openssl-1.1.1q       | 5.8 MB    | 3          |   3% \n",
      "openssl-1.1.1q       | 5.8 MB    | 5          |   5% \n",
      "openssl-1.1.1q       | 5.8 MB    | 6          |   6% \n",
      "openssl-1.1.1q       | 5.8 MB    | 8          |   9% \n",
      "openssl-1.1.1q       | 5.8 MB    | #1         |  11% \n",
      "openssl-1.1.1q       | 5.8 MB    | #3         |  13% \n",
      "openssl-1.1.1q       | 5.8 MB    | #5         |  16% \n",
      "openssl-1.1.1q       | 5.8 MB    | #8         |  19% \n",
      "openssl-1.1.1q       | 5.8 MB    | ##1        |  22% \n",
      "openssl-1.1.1q       | 5.8 MB    | ##4        |  25% \n",
      "openssl-1.1.1q       | 5.8 MB    | ##7        |  28% \n",
      "openssl-1.1.1q       | 5.8 MB    | ###1       |  31% \n",
      "openssl-1.1.1q       | 5.8 MB    | ###4       |  34% \n",
      "openssl-1.1.1q       | 5.8 MB    | ###8       |  38% \n",
      "openssl-1.1.1q       | 5.8 MB    | ####2      |  42% \n",
      "openssl-1.1.1q       | 5.8 MB    | ####6      |  46% \n",
      "openssl-1.1.1q       | 5.8 MB    | #####1     |  51% \n",
      "openssl-1.1.1q       | 5.8 MB    | #####5     |  56% \n",
      "openssl-1.1.1q       | 5.8 MB    | ######     |  61% \n",
      "openssl-1.1.1q       | 5.8 MB    | ######5    |  66% \n",
      "openssl-1.1.1q       | 5.8 MB    | #######1   |  72% \n",
      "openssl-1.1.1q       | 5.8 MB    | #######7   |  78% \n",
      "openssl-1.1.1q       | 5.8 MB    | ########4  |  84% \n",
      "openssl-1.1.1q       | 5.8 MB    | #########  |  91% \n",
      "openssl-1.1.1q       | 5.8 MB    | #########8 |  98% \n",
      "openssl-1.1.1q       | 5.8 MB    | ########## | 100% \n",
      "Preparing transaction: ...working... done\n",
      "Verifying transaction: ...working... done\n",
      "Executing transaction: ...working... done\n"
     ]
    }
   ],
   "source": [
    "dic"
   ]
  },
  {
   "cell_type": "code",
   "execution_count": 2,
   "id": "e61dab3a",
   "metadata": {
    "scrolled": false
   },
   "outputs": [
    {
     "data": {
      "text/plain": [
       "256"
      ]
     },
     "execution_count": 2,
     "metadata": {},
     "output_type": "execute_result"
    }
   ],
   "source": [
    "2**"
   ]
  },
  {
   "cell_type": "code",
   "execution_count": 4,
   "id": "d056991b",
   "metadata": {},
   "outputs": [
    {
     "ename": "IndentationError",
     "evalue": "expected an indented block (<ipython-input-4-c19788c95b6f>, line 2)",
     "output_type": "error",
     "traceback": [
      "\u001b[1;36m  File \u001b[1;32m\"<ipython-input-4-c19788c95b6f>\"\u001b[1;36m, line \u001b[1;32m2\u001b[0m\n\u001b[1;33m    \"\"\"Represents the time of a day Attributes: hour, minute, second \"\"\"\u001b[0m\n\u001b[1;37m    ^\u001b[0m\n\u001b[1;31mIndentationError\u001b[0m\u001b[1;31m:\u001b[0m expected an indented block\n"
     ]
    }
   ],
   "source": [
    "class Time:\n",
    "\"\"\"Represents the time of a day Attributes: hour, minute, second \"\"\"\n",
    "def printTime(t): \n",
    "print(\"%.2d:%.2d:%.2d\"%(t.hour,t.minute,t.second))\n",
    "def add_time(t1,t2): \n",
    "sum=Time()\n",
    "sum.hour = t1.hour + t2.hour \n",
    "sum.minute = t1.minute + t2.minute \n",
    "sum.second = t1.second + t2.second\n",
    "if sum.second >= 60: \n",
    "sum.second -= 60\n",
    "sum.minute += 1\n",
    "if sum.minute >= 60:\n",
    "sum.minute -= 60\n",
    "sum.hour += 1\n",
    "return sum\n",
    "t1=Time() \n",
    "t1.hour=10 \n",
    "t1.minute=34 \n",
    "t1.second=25\n",
    "print(\"Time1 is:\") \n",
    "printTime(t1)\n",
    "t2=Time() \n",
    "t2.hour=2 \n",
    "t2.minute=12 \n",
    "t2.second=41\n",
    "print(\"Time2 is :\") \n",
    "printTime(t2)\n",
    "t3=add_time(t1,t2)\n",
    "print(\"After adding two time objects:\") \n",
    "printTime(t3"
   ]
  }
 ],
 "metadata": {
  "interpreter": {
   "hash": "263930470851f494f0ed2879c35b57985588df20f9e529b86e97dd5eb9ddc466"
  },
  "kernelspec": {
   "display_name": "Python 3",
   "language": "python",
   "name": "python3"
  },
  "language_info": {
   "codemirror_mode": {
    "name": "ipython",
    "version": 3
   },
   "file_extension": ".py",
   "mimetype": "text/x-python",
   "name": "python",
   "nbconvert_exporter": "python",
   "pygments_lexer": "ipython3",
   "version": "3.8.8"
  }
 },
 "nbformat": 4,
 "nbformat_minor": 5
}
