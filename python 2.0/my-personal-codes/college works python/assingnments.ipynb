{
 "cells": [
  {
   "cell_type": "code",
   "execution_count": 2,
   "id": "ce87be81",
   "metadata": {
    "scrolled": true
   },
   "outputs": [
    {
     "name": "stdout",
     "output_type": "stream",
     "text": [
      "{'OPERATION': 1, 'MODES': 1, 'The': 3, 'Cortex-M3': 1, 'processor': 4, 'has': 2, 'two': 2, 'modes': 2, 'and': 5, 'privilege': 3, 'levels.': 1, 'operation': 1, '-': 1, 'thread': 2, 'mode': 2, 'handler': 4, 'mode-': 1, 'determine': 1, 'whether': 1, 'the': 14, 'is': 1, 'running': 2, 'a': 3, 'normal': 1, 'program': 3, 'or': 2, 'an': 4, 'exception': 5, 'like': 1, 'interrupt': 1, 'system': 1, 'handler.': 2, 'levels': 2, '(privileged': 1, 'level': 4, 'user': 3, 'level)': 1, 'provide': 1, 'mechanism': 1, 'for': 2, 'safeguarding': 1, 'memory': 2, 'accesses': 1, 'to': 9, 'critical': 2, 'regions': 1, 'as': 3, 'well': 1, 'providing': 1, 'basic': 1, 'security': 1, 'model.': 1, 'Software': 1, 'in': 2, 'privileged': 4, 'access': 3, 'can': 2, 'switch': 3, 'into': 2, 'using': 1, 'control': 3, 'register.': 2, 'When': 1, 'takes': 1, 'place,': 1, 'will': 1, 'always': 1, 'back': 3, 'state': 3, 'return': 1, 'previous': 1, 'when': 2, 'exiting': 1, 'A': 1, 'cannot': 1, 'change': 1, 'by': 1, 'writing': 1, 'It': 2, 'go': 1, 'through': 1, 'that': 1, 'programs': 2, 'register': 1, 'returning': 1, 'be': 1, 'used': 1, 'conjunction': 1, 'with': 1, 'protect': 1, 'locations,': 1, 'such': 1, 'data': 1, 'OS.': 1}\n"
     ]
    }
   ],
   "source": [
    "# programme to find the number of words in a file\n",
    "fhand = open(\"file1\")\n",
    "\n",
    "k = []\n",
    "d = []\n",
    "for i in fhand:\n",
    "    \n",
    "    k.append(i.split())\n",
    "    \n",
    "for p in range(len(k)):\n",
    "    for n in range(len(k[p])):\n",
    "        q = k[p][n]\n",
    "        d.append(q)\n",
    "dic = {}\n",
    "for h in d:\n",
    "    if h not in dic.keys():\n",
    "        dic[h] = 1\n",
    "    else:\n",
    "        dic[h] = dic[h] + 1\n",
    "        \n",
    "print(dic)\n",
    "\n",
    "    \n",
    "\n"
   ]
  },
  {
   "cell_type": "code",
   "execution_count": 92,
   "id": "f7413848",
   "metadata": {},
   "outputs": [
    {
     "data": {
      "text/plain": [
       "[]"
      ]
     },
     "execution_count": 92,
     "metadata": {},
     "output_type": "execute_result"
    }
   ],
   "source": [
    "d"
   ]
  },
  {
   "cell_type": "code",
   "execution_count": null,
   "id": "f9f1cb5f",
   "metadata": {},
   "outputs": [],
   "source": [
    "#####################"
   ]
  },
  {
   "cell_type": "code",
   "execution_count": 91,
   "id": "d232525e",
   "metadata": {},
   "outputs": [
    {
     "data": {
      "text/plain": [
       "'hello'"
      ]
     },
     "execution_count": 91,
     "metadata": {},
     "output_type": "execute_result"
    }
   ],
   "source": [
    "s = \" hello       \"\n",
    "s.strip()\n"
   ]
  },
  {
   "cell_type": "code",
   "execution_count": 21,
   "id": "59c77895",
   "metadata": {},
   "outputs": [
    {
     "name": "stdout",
     "output_type": "stream",
     "text": [
      "hello\n",
      "how\n"
     ]
    }
   ],
   "source": [
    "s = [\"hello\",\"how\",\"are you\"]\n",
    "\n",
    "for i in s:\n",
    "    if i.startswith(\"h\"):\n",
    "        print(i)"
   ]
  },
  {
   "cell_type": "code",
   "execution_count": 17,
   "id": "16752c18",
   "metadata": {
    "scrolled": true
   },
   "outputs": [
    {
     "data": {
      "text/plain": [
       "3"
      ]
     },
     "execution_count": 17,
     "metadata": {},
     "output_type": "execute_result"
    }
   ],
   "source": [
    "len(s)"
   ]
  },
  {
   "cell_type": "code",
   "execution_count": 27,
   "id": "ca99554f",
   "metadata": {},
   "outputs": [
    {
     "name": "stdout",
     "output_type": "stream",
     "text": [
      "5\n",
      "3\n",
      "7\n"
     ]
    }
   ],
   "source": [
    "s = [\"hello\",\"how\",\"are you\"]\n",
    "for i in s:\n",
    "    print(len(i))\n"
   ]
  },
  {
   "cell_type": "code",
   "execution_count": 75,
   "id": "04dea380",
   "metadata": {
    "scrolled": true
   },
   "outputs": [
    {
     "name": "stdout",
     "output_type": "stream",
     "text": [
      "OPERATION\n",
      "MODES\n",
      "The\n",
      "Cortex-M3\n",
      "processor\n",
      "has\n",
      "two\n",
      "modes\n",
      "and\n",
      "two\n",
      "privilege\n",
      "levels.\n",
      "The\n",
      "operation\n",
      "modes\n",
      "-\n",
      "thread\n",
      "mode\n",
      "and\n",
      "handler\n",
      "mode-\n",
      "determine\n",
      "whether\n"
     ]
    }
   ],
   "source": [
    "x = [['OPERATION', 'MODES'],\n",
    "['The', 'Cortex-M3', 'processor', 'has', 'two', 'modes', 'and', 'two', 'privilege', 'levels.'],\n",
    "['The', 'operation', 'modes', '-', 'thread', 'mode', 'and', 'handler', 'mode-', 'determine', 'whether']]\n",
    "\n",
    "for p in range(len(x)):\n",
    "    for n in range(len(x[p])):\n",
    "        q = x[p][n]\n",
    "        print(q)\n",
    "    \n",
    "        \n",
    "    \n",
    "    \n",
    "    \n",
    "        \n",
    "    \n",
    "    \n",
    "    "
   ]
  },
  {
   "cell_type": "code",
   "execution_count": 4,
   "id": "5943a19d",
   "metadata": {},
   "outputs": [
    {
     "data": {
      "text/plain": [
       "[1, 2, 3, 4]"
      ]
     },
     "execution_count": 4,
     "metadata": {},
     "output_type": "execute_result"
    }
   ],
   "source": [
    "l= [1,2,3,4,5]\n",
    "l[:-1]"
   ]
  },
  {
   "cell_type": "code",
   "execution_count": 2,
   "id": "20298830",
   "metadata": {},
   "outputs": [
    {
     "data": {
      "text/plain": [
       "[1, 2]"
      ]
     },
     "execution_count": 2,
     "metadata": {},
     "output_type": "execute_result"
    }
   ],
   "source": [
    "l[:-3]"
   ]
  },
  {
   "cell_type": "code",
   "execution_count": 3,
   "id": "a96ac681",
   "metadata": {},
   "outputs": [
    {
     "data": {
      "text/plain": [
       "[2, 3, 4, 5]"
      ]
     },
     "execution_count": 3,
     "metadata": {},
     "output_type": "execute_result"
    }
   ],
   "source": [
    "l[1:]"
   ]
  },
  {
   "cell_type": "code",
   "execution_count": 12,
   "id": "ad4075b3",
   "metadata": {},
   "outputs": [
    {
     "data": {
      "text/plain": [
       "[1, 2, 3, 4]"
      ]
     },
     "execution_count": 12,
     "metadata": {},
     "output_type": "execute_result"
    }
   ],
   "source": [
    "l[:-1]"
   ]
  },
  {
   "cell_type": "code",
   "execution_count": 5,
   "id": "ac83f70f",
   "metadata": {},
   "outputs": [
    {
     "name": "stdout",
     "output_type": "stream",
     "text": [
      "Note: you may need to restart the kernel to use updated packages.\n"
     ]
    },
    {
     "name": "stderr",
     "output_type": "stream",
     "text": [
      "The filename, directory name, or volume label syntax is incorrect.\n"
     ]
    }
   ],
   "source": [
    "pip install jupyterthemes"
   ]
  },
  {
   "cell_type": "code",
   "execution_count": 6,
   "id": "42887e61",
   "metadata": {},
   "outputs": [
    {
     "name": "stdout",
     "output_type": "stream",
     "text": [
      "^C\n",
      "\n",
      "Note: you may need to restart the kernel to use updated packages.\n"
     ]
    }
   ],
   "source": [
    "conda install -c conda-forge jupyterthemes"
   ]
  },
  {
   "cell_type": "code",
   "execution_count": 10,
   "id": "e521d177",
   "metadata": {},
   "outputs": [],
   "source": [
    "dic = {}"
   ]
  },
  {
   "cell_type": "code",
   "execution_count": 15,
   "id": "5a3cacda",
   "metadata": {},
   "outputs": [],
   "source": [
    "dic[\"hello\"] = 1\n",
    "dic[\"what\"] = 10"
   ]
  },
  {
   "cell_type": "code",
   "execution_count": 12,
   "id": "734874d9",
   "metadata": {},
   "outputs": [
    {
     "data": {
      "text/plain": [
       "{'hello': 1}"
      ]
     },
     "execution_count": 12,
     "metadata": {},
     "output_type": "execute_result"
    }
   ],
   "source": [
    "dic"
   ]
  },
  {
   "cell_type": "code",
   "execution_count": 16,
   "id": "8243483e",
   "metadata": {},
   "outputs": [
    {
     "data": {
      "text/plain": [
       "10"
      ]
     },
     "execution_count": 16,
     "metadata": {},
     "output_type": "execute_result"
    }
   ],
   "source": [
    "dic[\"what\"]"
   ]
  },
  {
   "cell_type": "code",
   "execution_count": 20,
   "id": "d3e241eb",
   "metadata": {},
   "outputs": [
    {
     "name": "stdout",
     "output_type": "stream",
     "text": [
      "hello\n",
      "what\n"
     ]
    }
   ],
   "source": [
    "l = dic.keys()\n",
    "for i in l:\n",
    "    print(i)"
   ]
  },
  {
   "cell_type": "code",
   "execution_count": 21,
   "id": "9422ff94",
   "metadata": {},
   "outputs": [
    {
     "name": "stdout",
     "output_type": "stream",
     "text": [
      "hello 1\n",
      "what 10\n"
     ]
    }
   ],
   "source": [
    "for i in dic:\n",
    "    print(i,dic[i])"
   ]
  },
  {
   "cell_type": "code",
   "execution_count": 25,
   "id": "cd434c6d",
   "metadata": {},
   "outputs": [
    {
     "data": {
      "text/plain": [
       "['hello', 'what']"
      ]
     },
     "execution_count": 25,
     "metadata": {},
     "output_type": "execute_result"
    }
   ],
   "source": [
    "n = []\n",
    "for i in dic:\n",
    "    n.append(i)\n",
    "n.sort()\n",
    "n"
   ]
  },
  {
   "cell_type": "code",
   "execution_count": 31,
   "id": "f6ac7265",
   "metadata": {},
   "outputs": [
    {
     "data": {
      "text/plain": [
       "[1, 100, 1000]"
      ]
     },
     "execution_count": 31,
     "metadata": {},
     "output_type": "execute_result"
    }
   ],
   "source": [
    "counts = { 'chuck' : 1 , 'annie' : 1000, 'jan': 100}\n",
    "k = []\n",
    "for i in counts.values():\n",
    "    k.append(i)\n",
    "k.sort()\n",
    "for i in counts:\n",
    "    \n",
    "\n",
    "    \n",
    "    "
   ]
  },
  {
   "cell_type": "code",
   "execution_count": 33,
   "id": "e8968950",
   "metadata": {},
   "outputs": [
    {
     "name": "stdout",
     "output_type": "stream",
     "text": [
      "chuck 1\n",
      "annie 1000\n",
      "jan 100\n"
     ]
    }
   ],
   "source": [
    "for s,m in counts.items():\n",
    "    print(s,m)"
   ]
  },
  {
   "cell_type": "code",
   "execution_count": 35,
   "id": "a4e189bc",
   "metadata": {},
   "outputs": [
    {
     "data": {
      "text/plain": [
       "'!\"#$%&\\'()*+,-./:;<=>?@[\\\\]^_`{|}~'"
      ]
     },
     "execution_count": 35,
     "metadata": {},
     "output_type": "execute_result"
    }
   ],
   "source": [
    "import string\n",
    "string.punctuation"
   ]
  },
  {
   "cell_type": "code",
   "execution_count": 45,
   "id": "f7aa9c44",
   "metadata": {},
   "outputs": [
    {
     "data": {
      "text/plain": [
       "True"
      ]
     },
     "execution_count": 45,
     "metadata": {},
     "output_type": "execute_result"
    }
   ],
   "source": [
    "(100,2000,30000) >(10,1,1)"
   ]
  },
  {
   "cell_type": "code",
   "execution_count": 30,
   "id": "930f214c",
   "metadata": {},
   "outputs": [
    {
     "name": "stdout",
     "output_type": "stream",
     "text": [
      "[(6, 'yonder'), (6, 'window'), (6, 'breaks'), (5, 'light'), (4, 'what'), (4, 'soft'), (3, 'but'), (2, 'in')]\n"
     ]
    }
   ],
   "source": [
    "txt = 'but soft what light in yonder window breaks'\n",
    "words = txt.split()\n",
    "t = list()\n",
    "for word in words:\n",
    "     t.append((len(word), word))# builds a list of tuples, where each tuple is a word preceded by its length.\n",
    "\n",
    "t.sort(reverse=True)\n",
    "print(t)\n",
    "\n",
    "\n"
   ]
  },
  {
   "cell_type": "code",
   "execution_count": 33,
   "id": "bf9e3c34",
   "metadata": {},
   "outputs": [
    {
     "name": "stdout",
     "output_type": "stream",
     "text": [
      "6 yonder\n",
      "6 window\n",
      "6 breaks\n",
      "5 light\n",
      "4 what\n",
      "4 soft\n",
      "3 but\n",
      "2 in\n"
     ]
    }
   ],
   "source": [
    "for i,j in t:\n",
    "    print(i,j)"
   ]
  },
  {
   "cell_type": "code",
   "execution_count": 3,
   "id": "df5c45b3",
   "metadata": {},
   "outputs": [
    {
     "data": {
      "text/plain": [
       "True"
      ]
     },
     "execution_count": 3,
     "metadata": {},
     "output_type": "execute_result"
    }
   ],
   "source": [
    "(1,2,3) < (100,1,1)"
   ]
  },
  {
   "cell_type": "code",
   "execution_count": 36,
   "id": "98a82cf2",
   "metadata": {},
   "outputs": [
    {
     "name": "stdout",
     "output_type": "stream",
     "text": [
      "monty\n",
      "python.org\n"
     ]
    }
   ],
   "source": [
    "addr = 'monty@python.org'\n",
    "uname, domain = addr.split('@')\n",
    "print(uname)\n",
    "print(domain)\n",
    "      \n"
   ]
  },
  {
   "cell_type": "code",
   "execution_count": 40,
   "id": "9bd9be12",
   "metadata": {},
   "outputs": [],
   "source": [
    "dic = {}\n",
    "dic[(\"hello\",\"how\")] = 10"
   ]
  },
  {
   "cell_type": "code",
   "execution_count": 43,
   "id": "d474ec5e",
   "metadata": {},
   "outputs": [
    {
     "name": "stdout",
     "output_type": "stream",
     "text": [
      "(('hello', 'how'), 10)\n"
     ]
    }
   ],
   "source": [
    "for i in dic.items():\n",
    "    print(i)"
   ]
  },
  {
   "cell_type": "code",
   "execution_count": 48,
   "id": "eb469695",
   "metadata": {},
   "outputs": [
    {
     "data": {
      "text/plain": [
       "[dict_items([('chuck', 1), ('annie', 42), ('jan', 100)])]"
      ]
     },
     "execution_count": 48,
     "metadata": {},
     "output_type": "execute_result"
    }
   ],
   "source": [
    "counts = { 'chuck' : 1 , 'annie' : 42, 'jan': 100}\n",
    "l = []\n",
    "l.append(counts.items())\n",
    "l\n",
    "\n"
   ]
  },
  {
   "cell_type": "code",
   "execution_count": 50,
   "id": "7be389c0",
   "metadata": {},
   "outputs": [
    {
     "data": {
      "text/plain": [
       "[('chuck', 1), ('annie', 42), ('jan', 100)]"
      ]
     },
     "execution_count": 50,
     "metadata": {},
     "output_type": "execute_result"
    }
   ],
   "source": [
    "counts = { 'chuck' : 1 , 'annie' : 42, 'jan': 100}\n",
    "l = list(counts.items())\n",
    "l\n"
   ]
  },
  {
   "cell_type": "code",
   "execution_count": 2,
   "id": "b779fad5",
   "metadata": {},
   "outputs": [
    {
     "name": "stdout",
     "output_type": "stream",
     "text": [
      "chuck 1\n",
      "annie 42\n",
      "jan 100\n"
     ]
    }
   ],
   "source": [
    "counts = { 'chuck' : 1 , 'annie' : 42, 'jan': 100}\n",
    "for j,i in counts.items():\n",
    "    print(j,i)"
   ]
  },
  {
   "cell_type": "code",
   "execution_count": 4,
   "id": "fbf25dc0",
   "metadata": {
    "scrolled": true
   },
   "outputs": [
    {
     "ename": "ValueError",
     "evalue": "dictionary update sequence element #0 has length 5; 2 is required",
     "output_type": "error",
     "traceback": [
      "\u001b[1;31m---------------------------------------------------------------------------\u001b[0m",
      "\u001b[1;31mValueError\u001b[0m                                Traceback (most recent call last)",
      "\u001b[1;32m<ipython-input-4-6f4227e61125>\u001b[0m in \u001b[0;36m<module>\u001b[1;34m\u001b[0m\n\u001b[1;32m----> 1\u001b[1;33m \u001b[0mk\u001b[0m \u001b[1;33m=\u001b[0m \u001b[0mdict\u001b[0m\u001b[1;33m(\u001b[0m\u001b[1;33m(\u001b[0m\u001b[1;34m'chuck'\u001b[0m\u001b[1;33m,\u001b[0m \u001b[1;36m1\u001b[0m\u001b[1;33m)\u001b[0m\u001b[1;33m)\u001b[0m\u001b[1;33m\u001b[0m\u001b[1;33m\u001b[0m\u001b[0m\n\u001b[0m",
      "\u001b[1;31mValueError\u001b[0m: dictionary update sequence element #0 has length 5; 2 is required"
     ]
    }
   ],
   "source": [
    "names"
   ]
  },
  {
   "cell_type": "code",
   "execution_count": 8,
   "id": "2030cda8",
   "metadata": {},
   "outputs": [
    {
     "name": "stdout",
     "output_type": "stream",
     "text": [
      "Note: you may need to restart the kernel to use updated packages.\n"
     ]
    },
    {
     "name": "stderr",
     "output_type": "stream",
     "text": [
      "The filename, directory name, or volume label syntax is incorrect.\n"
     ]
    }
   ],
   "source": [
    "pip install jupyterthemes"
   ]
  },
  {
   "cell_type": "code",
   "execution_count": 7,
   "id": "a3936a25",
   "metadata": {},
   "outputs": [
    {
     "ename": "NameError",
     "evalue": "name 'jt' is not defined",
     "output_type": "error",
     "traceback": [
      "\u001b[1;31m---------------------------------------------------------------------------\u001b[0m",
      "\u001b[1;31mNameError\u001b[0m                                 Traceback (most recent call last)",
      "\u001b[1;32m<ipython-input-7-77bb524fe3e4>\u001b[0m in \u001b[0;36m<module>\u001b[1;34m\u001b[0m\n\u001b[1;32m----> 1\u001b[1;33m \u001b[0mjt\u001b[0m \u001b[1;33m-\u001b[0m\u001b[0ml\u001b[0m\u001b[1;33m\u001b[0m\u001b[1;33m\u001b[0m\u001b[0m\n\u001b[0m",
      "\u001b[1;31mNameError\u001b[0m: name 'jt' is not defined"
     ]
    }
   ],
   "source": [
    "jt -l"
   ]
  },
  {
   "cell_type": "code",
   "execution_count": 2,
   "id": "288ac2cc",
   "metadata": {},
   "outputs": [],
   "source": [
    "class Point:\n",
    "    \"\"\"Represents a point in 2-D space.\"\"\"\n"
   ]
  },
  {
   "cell_type": "code",
   "execution_count": 11,
   "id": "48a916eb",
   "metadata": {},
   "outputs": [
    {
     "data": {
      "text/plain": [
       "__main__.point"
      ]
     },
     "execution_count": 11,
     "metadata": {},
     "output_type": "execute_result"
    }
   ],
   "source": [
    "point"
   ]
  },
  {
   "cell_type": "code",
   "execution_count": 9,
   "id": "18d2c8c2",
   "metadata": {},
   "outputs": [
    {
     "data": {
      "text/plain": [
       "'The value of 2 and 3'"
      ]
     },
     "execution_count": 9,
     "metadata": {},
     "output_type": "execute_result"
    }
   ],
   "source": [
    "class point():\n",
    "    def __init__(self,a,b):\n",
    "        self.a = a\n",
    "        self.b = b\n",
    "    def __str__(self):\n",
    "        return(f'The value of {self.a} and {self.b}')\n",
    "    \n",
    "obj1 = point(2,3)\n",
    "obj1.__str__()\n",
    "        "
   ]
  },
  {
   "cell_type": "code",
   "execution_count": 10,
   "id": "977abc36",
   "metadata": {},
   "outputs": [
    {
     "data": {
      "text/plain": [
       "__main__.point"
      ]
     },
     "execution_count": 10,
     "metadata": {},
     "output_type": "execute_result"
    }
   ],
   "source": [
    "point"
   ]
  },
  {
   "cell_type": "code",
   "execution_count": 13,
   "id": "105a1b7e",
   "metadata": {},
   "outputs": [
    {
     "name": "stdout",
     "output_type": "stream",
     "text": [
      "welcome to object oriented programming\n",
      "<__main__.myfirstprogram object at 0x000001D72FF28CA0>\n"
     ]
    }
   ],
   "source": [
    "class myfirstprogram:\n",
    "    print(\"welcome to object oriented programming\") #initializer - welcome message\n",
    "   \n",
    "c = myfirstprogram() #instance of class\n",
    "print(c)\n"
   ]
  },
  {
   "cell_type": "code",
   "execution_count": 17,
   "id": "c7bc70f0",
   "metadata": {},
   "outputs": [
    {
     "name": "stdout",
     "output_type": "stream",
     "text": [
      "10 11\n"
     ]
    }
   ],
   "source": [
    "a = 10\n",
    "b = 11\n",
    "print('%d %d' % (a,b))"
   ]
  },
  {
   "cell_type": "code",
   "execution_count": 7,
   "id": "31b90e51",
   "metadata": {},
   "outputs": [
    {
     "name": "stdout",
     "output_type": "stream",
     "text": [
      "10 20\n"
     ]
    }
   ],
   "source": [
    "class hello():\n",
    "    \n",
    "     def print_point(self,p):\n",
    "            print(p.x,p.y)\n",
    "            \n",
    "            \n",
    "blank = hello()\n",
    "blank.x = 10\n",
    "blank.y = 20\n",
    "blank.print_point(blank)\n",
    "            \n",
    "\n",
    "            \n",
    "            \n",
    "\n"
   ]
  },
  {
   "cell_type": "code",
   "execution_count": 9,
   "id": "6d412700",
   "metadata": {},
   "outputs": [
    {
     "data": {
      "text/plain": [
       "['hello', 'how', 'are', 'you']"
      ]
     },
     "execution_count": 9,
     "metadata": {},
     "output_type": "execute_result"
    }
   ],
   "source": [
    "txt = \"hello how are you\"\n",
    "words  = txt.split()\n",
    "words"
   ]
  },
  {
   "cell_type": "code",
   "execution_count": 1,
   "id": "e027ecd3",
   "metadata": {},
   "outputs": [
    {
     "name": "stdout",
     "output_type": "stream",
     "text": [
      "0\n",
      "1\n",
      "2\n",
      "3\n",
      "4\n",
      "5\n",
      "6\n",
      "7\n",
      "8\n",
      "9\n"
     ]
    }
   ],
   "source": [
    "for i in range(10):\n",
    "    print(i)"
   ]
  },
  {
   "cell_type": "code",
   "execution_count": null,
   "id": "42846d15",
   "metadata": {},
   "outputs": [],
   "source": []
  },
  {
   "cell_type": "code",
   "execution_count": null,
   "id": "a0eef39a",
   "metadata": {},
   "outputs": [],
   "source": []
  },
  {
   "cell_type": "code",
   "execution_count": null,
   "id": "435e1e56",
   "metadata": {},
   "outputs": [],
   "source": []
  },
  {
   "cell_type": "code",
   "execution_count": null,
   "id": "69ea06e7",
   "metadata": {},
   "outputs": [],
   "source": []
  },
  {
   "cell_type": "code",
   "execution_count": null,
   "id": "738970f8",
   "metadata": {},
   "outputs": [],
   "source": []
  },
  {
   "cell_type": "code",
   "execution_count": null,
   "id": "e18dcb77",
   "metadata": {},
   "outputs": [],
   "source": []
  },
  {
   "cell_type": "code",
   "execution_count": null,
   "id": "f56f7f57",
   "metadata": {},
   "outputs": [],
   "source": []
  },
  {
   "cell_type": "code",
   "execution_count": null,
   "id": "e61dab3a",
   "metadata": {},
   "outputs": [],
   "source": []
  },
  {
   "cell_type": "code",
   "execution_count": null,
   "id": "da115cee",
   "metadata": {},
   "outputs": [],
   "source": []
  },
  {
   "cell_type": "code",
   "execution_count": null,
   "id": "1f1eeb9b",
   "metadata": {},
   "outputs": [],
   "source": []
  }
 ],
 "metadata": {
  "interpreter": {
   "hash": "263930470851f494f0ed2879c35b57985588df20f9e529b86e97dd5eb9ddc466"
  },
  "kernelspec": {
   "display_name": "Python 3 (ipykernel)",
   "language": "python",
   "name": "python3"
  },
  "language_info": {
   "codemirror_mode": {
    "name": "ipython",
    "version": 3
   },
   "file_extension": ".py",
   "mimetype": "text/x-python",
   "name": "python",
   "nbconvert_exporter": "python",
   "pygments_lexer": "ipython3",
   "version": "3.9.12"
  }
 },
 "nbformat": 4,
 "nbformat_minor": 5
}
