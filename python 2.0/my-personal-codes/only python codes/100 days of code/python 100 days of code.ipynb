{
 "cells": [
  {
   "cell_type": "code",
   "execution_count": 2,
   "id": "cbe93f3e",
   "metadata": {},
   "outputs": [
    {
     "name": "stdout",
     "output_type": "stream",
     "text": [
      "the number is odd\n"
     ]
    }
   ],
   "source": [
    " n = int(input(\"enter the number:\"))\n",
    "if n%2 == 0:\n",
    "    print(\"The given number is even\")\n",
    "else:\n",
    "    print(\"the number is odd\")\n"
   ]
  },
  {
   "cell_type": "markdown",
   "id": "fef6920e",
   "metadata": {},
   "source": [
    "BMI CALCULATOR"
   ]
  },
  {
   "cell_type": "code",
   "execution_count": 14,
   "id": "d83e36d8",
   "metadata": {},
   "outputs": [
    {
     "name": "stdout",
     "output_type": "stream",
     "text": [
      "enter the weight of your body:80\n",
      "enter the height of your body: 1.75\n",
      "The bmi of a given person is : 26\n"
     ]
    }
   ],
   "source": [
    "weight = int(input(\"enter the weight of your body:\"))\n",
    "height = float(input(\"enter the height of your body: \"))\n",
    "bmi = weight/height**2\n",
    "print(\"The bmi of a given person is : {}\".format(int(bmi)))"
   ]
  },
  {
   "cell_type": "code",
   "execution_count": 17,
   "id": "0d97133e",
   "metadata": {},
   "outputs": [
    {
     "data": {
      "text/plain": [
       "2.7"
      ]
     },
     "execution_count": 17,
     "metadata": {},
     "output_type": "execute_result"
    }
   ],
   "source": [
    "round(2.6666666,1)"
   ]
  },
  {
   "cell_type": "code",
   "execution_count": 19,
   "id": "c1d8379b",
   "metadata": {},
   "outputs": [
    {
     "data": {
      "text/plain": [
       "2"
      ]
     },
     "execution_count": 19,
     "metadata": {},
     "output_type": "execute_result"
    }
   ],
   "source": [
    "(8//3)"
   ]
  },
  {
   "cell_type": "markdown",
   "id": "eb4b941d",
   "metadata": {},
   "source": [
    "# to calculate the days week  and month"
   ]
  },
  {
   "cell_type": "code",
   "execution_count": 28,
   "id": "ab1aa45a",
   "metadata": {},
   "outputs": [
    {
     "name": "stdout",
     "output_type": "stream",
     "text": [
      "Enter your age: 56\n",
      "The total number of years remaining in your life is : 34\n",
      "The total number of days reamining in your life is : 12410\n",
      "The total number of weeks reamining in your life is : 238\n",
      "The total number of monthsremaining reamining in your life is : 408\n"
     ]
    }
   ],
   "source": [
    "x = int(input(\"Enter your age: \"))\n",
    "totalyear = 90\n",
    "totalmonth = 90*12\n",
    "totaldays = 365*90\n",
    "yearsremaining = 90 - x\n",
    "daysremaining = yearsremaining*365\n",
    "weeksremaining = yearsremaining*7\n",
    "monthsremaining = yearsremaining*12\n",
    "    \n",
    "print(f'The total number of years remaining in your life is : {yearsremaining}')\n",
    "print(f'The total number of days reamining in your life is : {daysremaining}')\n",
    "print(f'The total number of weeks reamining in your life is : {weeksremaining}')\n",
    "print(f'The total number of monthsremaining reamining in your life is : {monthsremaining}')\n",
    "\n"
   ]
  },
  {
   "cell_type": "code",
   "execution_count": 46,
   "id": "f748b52d",
   "metadata": {},
   "outputs": [],
   "source": [
    "k = 12/100"
   ]
  },
  {
   "cell_type": "code",
   "execution_count": 48,
   "id": "a9b77d18",
   "metadata": {},
   "outputs": [
    {
     "data": {
      "text/plain": [
       "12.0"
      ]
     },
     "execution_count": 48,
     "metadata": {},
     "output_type": "execute_result"
    }
   ],
   "source": [
    "k*5"
   ]
  },
  {
   "cell_type": "markdown",
   "id": "55d5bf40",
   "metadata": {},
   "source": [
    "# The tip calculator"
   ]
  },
  {
   "cell_type": "code",
   "execution_count": 51,
   "id": "1daada22",
   "metadata": {},
   "outputs": [
    {
     "name": "stdout",
     "output_type": "stream",
     "text": [
      "WELCOME TO THE TIP CALCULATOR!!!\n",
      "enter the total bill: 153.45\n",
      "what percentage of the tip would you like to give ( 10, 12 or 15) 15\n",
      "how many people to split the bill: 5\n",
      "Each person should pay: 35.29\n"
     ]
    }
   ],
   "source": [
    "print(\"WELCOME TO THE TIP CALCULATOR!!!\")\n",
    "x  = float(input(\"enter the total bill: \"))  \n",
    "p = int(input(\"what percentage of the tip would you like to give ( 10, 12 or 15) \"))\n",
    "k = int(input(\"how many people to split the bill: \"))\n",
    "if p == 10:\n",
    "    s = (x/k) * 1.10\n",
    "    print(f'Each person should pay: {round(s,2)}')\n",
    "elif p == 12:\n",
    "    r = (x/k) * 1.12\n",
    "    print(f'Each person should pay: {round(r,2)}')\n",
    "elif p == 15:\n",
    "    t = (x/k) * 1.15\n",
    "    print(f'Each person should pay: {round(t,2)}')    \n",
    "    \n",
    "    \n",
    "    \n",
    "    \n",
    "    \n",
    "    \n",
    "    \n",
    "    \n",
    "\n",
    "    \n",
    "    \n",
    "\n",
    "\n",
    "\n",
    "\n"
   ]
  },
  {
   "cell_type": "code",
   "execution_count": 21,
   "id": "bb115bc0",
   "metadata": {},
   "outputs": [
    {
     "name": "stdout",
     "output_type": "stream",
     "text": [
      "the sum of the two variable is 25\n"
     ]
    }
   ],
   "source": [
    "class add():\n",
    "    def __init__(self,a,b,adder):\n",
    "        self.a = a\n",
    "        self.b = b\n",
    "        self.adder = adder\n",
    "        \n",
    "    def sum(self):\n",
    "        self.adder = self.a + self.b\n",
    "        \n",
    "        return (self.adder)\n",
    "        \n",
    "        \n",
    "        \n",
    "         \n",
    "    def __str__(self):\n",
    "        return f\"the sum of the two variable is {self.adder}\"\n",
    "    \n",
    "    \n",
    "obj1 = add(10,15,0)    \n",
    "obj1.sum()\n",
    "print(obj1)\n",
    "\n",
    "    \n",
    "    \n",
    "    "
   ]
  },
  {
   "cell_type": "code",
   "execution_count": 1,
   "id": "78f4961a",
   "metadata": {},
   "outputs": [
    {
     "data": {
      "text/plain": [
       "'the car is varcar amd gt'"
      ]
     },
     "execution_count": 1,
     "metadata": {},
     "output_type": "execute_result"
    }
   ],
   "source": [
    "class hello():\n",
    "    def __init__(self,car,model) -> None:\n",
    "        self.car = car\n",
    "        self.model = model\n",
    "    def there(self):\n",
    "        return (f'the car is {self.car} amd {self.model}' )     \n",
    "object = hello(\"varcar\",\"gt\")\n",
    "object.car\n",
    "object.model\n",
    "object.there()\n",
    "\n",
    "\n",
    "        "
   ]
  },
  {
   "cell_type": "code",
   "execution_count": 5,
   "id": "49be9eb4",
   "metadata": {},
   "outputs": [
    {
     "name": "stdout",
     "output_type": "stream",
     "text": [
      "+--------+------------+\n",
      "| fruits | vegetables |\n",
      "+--------+------------+\n",
      "| apple  |   carrot   |\n",
      "| mango  |   onion    |\n",
      "| grapes |  cucumber  |\n",
      "+--------+------------+\n"
     ]
    }
   ],
   "source": [
    "from prettytable import PrettyTable\n",
    "table = PrettyTable()\n",
    "\n",
    "table.add_column(\"fruits\",[\"apple\",\"mango\",\"grapes\"])\n",
    "table.add_column(\"vegetables\",[\"carrot\",\"onion\",\"cucumber\"])\n",
    "print(table)\n",
    "\n",
    "\n"
   ]
  },
  {
   "cell_type": "code",
   "execution_count": 19,
   "id": "c60f9b17",
   "metadata": {},
   "outputs": [
    {
     "name": "stdout",
     "output_type": "stream",
     "text": [
      "+--------+------------+\n",
      "| fruits | vegetables |\n",
      "+--------+------------+\n",
      "| apple  |   carrot   |\n",
      "| mango  |   onion    |\n",
      "| grapes |  cucumber  |\n",
      "|  1295  |  1158259   |\n",
      "|  1295  |  1158259   |\n",
      "+--------+------------+\n"
     ]
    }
   ],
   "source": [
    "table.add_row ([1295, 1158259])\n",
    "print(table)\n"
   ]
  },
  {
   "cell_type": "code",
   "execution_count": 3,
   "id": "42f59c74",
   "metadata": {},
   "outputs": [
    {
     "name": "stdout",
     "output_type": "stream",
     "text": [
      "Water: 300ml\n",
      "Milk: 200ml\n",
      "Coffee: 100g\n",
      "Money: $0\n",
      "Please insert coins.\n",
      "Here is $3.42 in change.\n",
      "Here is your espresso ☕️. Enjoy!\n"
     ]
    },
    {
     "ename": "KeyboardInterrupt",
     "evalue": "Interrupted by user",
     "output_type": "error",
     "traceback": [
      "\u001b[1;31m---------------------------------------------------------------------------\u001b[0m",
      "\u001b[1;31mKeyboardInterrupt\u001b[0m                         Traceback (most recent call last)",
      "\u001b[1;32m<ipython-input-3-e91d3b3b92cb>\u001b[0m in \u001b[0;36m<module>\u001b[1;34m\u001b[0m\n\u001b[0;32m     15\u001b[0m \u001b[1;32mwhile\u001b[0m \u001b[0mis_on\u001b[0m\u001b[1;33m:\u001b[0m\u001b[1;33m\u001b[0m\u001b[1;33m\u001b[0m\u001b[0m\n\u001b[0;32m     16\u001b[0m     \u001b[0moptions\u001b[0m \u001b[1;33m=\u001b[0m \u001b[0mmenu\u001b[0m\u001b[1;33m.\u001b[0m\u001b[0mget_items\u001b[0m\u001b[1;33m(\u001b[0m\u001b[1;33m)\u001b[0m\u001b[1;33m\u001b[0m\u001b[1;33m\u001b[0m\u001b[0m\n\u001b[1;32m---> 17\u001b[1;33m     \u001b[0mchoice\u001b[0m \u001b[1;33m=\u001b[0m \u001b[0minput\u001b[0m\u001b[1;33m(\u001b[0m\u001b[1;34mf\"what would you like? {options}\"\u001b[0m\u001b[1;33m)\u001b[0m\u001b[1;33m\u001b[0m\u001b[1;33m\u001b[0m\u001b[0m\n\u001b[0m\u001b[0;32m     18\u001b[0m     \u001b[1;32mif\u001b[0m \u001b[0mchoice\u001b[0m \u001b[1;33m==\u001b[0m \u001b[1;34m\"off\"\u001b[0m\u001b[1;33m:\u001b[0m\u001b[1;33m\u001b[0m\u001b[1;33m\u001b[0m\u001b[0m\n\u001b[0;32m     19\u001b[0m         \u001b[0mis_on\u001b[0m   \u001b[1;33m==\u001b[0m \u001b[1;32mFalse\u001b[0m\u001b[1;33m\u001b[0m\u001b[1;33m\u001b[0m\u001b[0m\n",
      "\u001b[1;32m~\\anaconda3\\lib\\site-packages\\ipykernel\\kernelbase.py\u001b[0m in \u001b[0;36mraw_input\u001b[1;34m(self, prompt)\u001b[0m\n\u001b[0;32m    858\u001b[0m                 \u001b[1;34m\"raw_input was called, but this frontend does not support input requests.\"\u001b[0m\u001b[1;33m\u001b[0m\u001b[1;33m\u001b[0m\u001b[0m\n\u001b[0;32m    859\u001b[0m             )\n\u001b[1;32m--> 860\u001b[1;33m         return self._input_request(str(prompt),\n\u001b[0m\u001b[0;32m    861\u001b[0m             \u001b[0mself\u001b[0m\u001b[1;33m.\u001b[0m\u001b[0m_parent_ident\u001b[0m\u001b[1;33m,\u001b[0m\u001b[1;33m\u001b[0m\u001b[1;33m\u001b[0m\u001b[0m\n\u001b[0;32m    862\u001b[0m             \u001b[0mself\u001b[0m\u001b[1;33m.\u001b[0m\u001b[0m_parent_header\u001b[0m\u001b[1;33m,\u001b[0m\u001b[1;33m\u001b[0m\u001b[1;33m\u001b[0m\u001b[0m\n",
      "\u001b[1;32m~\\anaconda3\\lib\\site-packages\\ipykernel\\kernelbase.py\u001b[0m in \u001b[0;36m_input_request\u001b[1;34m(self, prompt, ident, parent, password)\u001b[0m\n\u001b[0;32m    902\u001b[0m             \u001b[1;32mexcept\u001b[0m \u001b[0mKeyboardInterrupt\u001b[0m\u001b[1;33m:\u001b[0m\u001b[1;33m\u001b[0m\u001b[1;33m\u001b[0m\u001b[0m\n\u001b[0;32m    903\u001b[0m                 \u001b[1;31m# re-raise KeyboardInterrupt, to truncate traceback\u001b[0m\u001b[1;33m\u001b[0m\u001b[1;33m\u001b[0m\u001b[1;33m\u001b[0m\u001b[0m\n\u001b[1;32m--> 904\u001b[1;33m                 \u001b[1;32mraise\u001b[0m \u001b[0mKeyboardInterrupt\u001b[0m\u001b[1;33m(\u001b[0m\u001b[1;34m\"Interrupted by user\"\u001b[0m\u001b[1;33m)\u001b[0m \u001b[1;32mfrom\u001b[0m \u001b[1;32mNone\u001b[0m\u001b[1;33m\u001b[0m\u001b[1;33m\u001b[0m\u001b[0m\n\u001b[0m\u001b[0;32m    905\u001b[0m             \u001b[1;32mexcept\u001b[0m \u001b[0mException\u001b[0m \u001b[1;32mas\u001b[0m \u001b[0me\u001b[0m\u001b[1;33m:\u001b[0m\u001b[1;33m\u001b[0m\u001b[1;33m\u001b[0m\u001b[0m\n\u001b[0;32m    906\u001b[0m                 \u001b[0mself\u001b[0m\u001b[1;33m.\u001b[0m\u001b[0mlog\u001b[0m\u001b[1;33m.\u001b[0m\u001b[0mwarning\u001b[0m\u001b[1;33m(\u001b[0m\u001b[1;34m\"Invalid Message:\"\u001b[0m\u001b[1;33m,\u001b[0m \u001b[0mexc_info\u001b[0m\u001b[1;33m=\u001b[0m\u001b[1;32mTrue\u001b[0m\u001b[1;33m)\u001b[0m\u001b[1;33m\u001b[0m\u001b[1;33m\u001b[0m\u001b[0m\n",
      "\u001b[1;31mKeyboardInterrupt\u001b[0m: Interrupted by user"
     ]
    }
   ],
   "source": [
    "from menu import Menu,MenuItem\n",
    "from coffee_maker import CoffeeMaker\n",
    "from money_machine import MoneyMachine  \n",
    "\n",
    "\n",
    "\n",
    "## add the method here\n",
    "\n",
    "\n",
    "money_machine = MoneyMachine()\n",
    "cofee_maker = CoffeeMaker()\n",
    "menu = Menu()\n",
    "is_on = True\n",
    "\n",
    "while is_on:\n",
    "    options = menu.get_items()\n",
    "    choice = input(f\"what would you like? {options}\")\n",
    "    if choice == \"off\":\n",
    "        is_on   == False\n",
    "    elif choice == \"report\":\n",
    "        cofee_maker.report()\n",
    "        money_machine.report()\n",
    "\n",
    "    else :\n",
    "        drink = menu.find_drink(choice)   \n",
    "        if cofee_maker.is_resource_sufficient(drink):\n",
    "            if money_machine.make_payment(drink.cost):\n",
    "                cofee_maker.make_coffee(drink)\n",
    "                \n",
    "\n",
    "\n",
    "\n",
    "\n",
    "        "
   ]
  },
  {
   "cell_type": "code",
   "execution_count": 57,
   "id": "5e236123",
   "metadata": {},
   "outputs": [],
   "source": [
    "class quiz():\n",
    "    def __init__(self) -> None:\n",
    "        pass\n",
    "\n",
    "    def qestionns(self):\n",
    "        \n",
    "        \n",
    "\n",
    "        self.answer = \"hello \"\n",
    "\n",
    "        while self.answer not in [\"True\",\"False\"]:\n",
    "            print(\" Q.1 The slugs blood is green??? (True,False)\")\n",
    "            \n",
    "            self.answer = input()\n",
    "            \n",
    "\n",
    "            if self.answer not in [\"True\",\"False\"]:\n",
    "                print(\"Please enter the valid input: \")\n",
    "\n",
    "\n",
    "            if self.answer == \"True\":\n",
    "                print(\"you got in right\")         \n",
    "                print(\"The correct asnwer was True\")\n",
    "            elif self.answer == \"False\":\n",
    "                print(\"your answer is wrong\")\n",
    "                print(\"The correct answer is True\")\n",
    "\n",
    "                \n",
    "\n",
    "\n",
    "\n",
    "        self.answer1 = \"hello \"\n",
    "\n",
    "        while self.answer1 not in [\"True\",\"False\"]:\n",
    "            print(\" Q.1 is U.S is an amazing country (True,False)\")\n",
    "            \n",
    "            self.answer1 = input()\n",
    "            \n",
    "\n",
    "            if self.answer1 not in [\"True\",\"False\"]:\n",
    "                print(\"Please enter the valid input: \")\n",
    "\n",
    "\n",
    "            if self.answer1 == \"True\":\n",
    "                print(\"you got in right\")         \n",
    "                print(\"The correct asnwer was True\")\n",
    "            elif self.answer1 == \"False\":\n",
    "                print(\"your answer is wrong\")\n",
    "                print(\"The correct answer is True\")   \n",
    "\n",
    "                   \n",
    "\n",
    "\n",
    "        return(self.answer)\n",
    "                 \n",
    "\n",
    "\n",
    "\n",
    "    def scorecalulator(self):\n",
    "        self.totalscore = 4\n",
    "        self.score = 0\n",
    "        if self.answer == \"True\":\n",
    "            self.score = self.score + 1\n",
    "        elif self.answer == \"False\":\n",
    "            if self.score == 0:\n",
    "                self.score = 0\n",
    "            else:\n",
    "                self.score = self.score-1 \n",
    "\n",
    "        return (str(f\"{self.score}/{self.totalscore}\"))       \n",
    "\n",
    "\n",
    "        \n",
    "\n",
    "\n",
    "\n",
    "\n",
    "        \n",
    "\n",
    "   \n",
    "       \n"
   ]
  },
  {
   "cell_type": "code",
   "execution_count": 58,
   "id": "6544243d",
   "metadata": {},
   "outputs": [
    {
     "name": "stdout",
     "output_type": "stream",
     "text": [
      " Q.1 The slugs blood is green??? (True,False)\n",
      "you got in right\n",
      "The correct asnwer was True\n",
      " Q.1 is U.S is an amazing country (True,False)\n",
      "you got in right\n",
      "The correct asnwer was True\n",
      "<map object at 0x00000216EB49C790>\n"
     ]
    }
   ],
   "source": [
    "object1 = quiz()  \n",
    "p = object1.qestionns()\n",
    "s = object1.scorecalulator()\n",
    "result = map(s,p)\n",
    "print(result)\n",
    "\n",
    "\n"
   ]
  },
  {
   "cell_type": "code",
   "execution_count": 16,
   "id": "db0a9bf9",
   "metadata": {},
   "outputs": [
    {
     "name": "stdout",
     "output_type": "stream",
     "text": [
      "the answer is not correct\n"
     ]
    }
   ],
   "source": [
    "j = bool(input())\n",
    "\n",
    "\n",
    "if j == bool:\n",
    "    print(\"the answer is coorect\")\n",
    "else:\n",
    "    print(\"the answer is not correct\")    "
   ]
  },
  {
   "cell_type": "code",
   "execution_count": null,
   "id": "f711c3f4",
   "metadata": {},
   "outputs": [],
   "source": []
  },
  {
   "cell_type": "code",
   "execution_count": null,
   "id": "451812b9",
   "metadata": {},
   "outputs": [],
   "source": []
  },
  {
   "cell_type": "code",
   "execution_count": null,
   "id": "84ab9016",
   "metadata": {},
   "outputs": [],
   "source": []
  },
  {
   "cell_type": "code",
   "execution_count": null,
   "id": "71caed47",
   "metadata": {},
   "outputs": [],
   "source": []
  },
  {
   "cell_type": "code",
   "execution_count": null,
   "id": "5939e7f6",
   "metadata": {},
   "outputs": [],
   "source": []
  },
  {
   "cell_type": "code",
   "execution_count": null,
   "id": "a1411555",
   "metadata": {},
   "outputs": [],
   "source": []
  },
  {
   "cell_type": "code",
   "execution_count": null,
   "id": "4d228f79",
   "metadata": {},
   "outputs": [],
   "source": []
  },
  {
   "cell_type": "code",
   "execution_count": null,
   "id": "d5dd0677",
   "metadata": {},
   "outputs": [],
   "source": []
  },
  {
   "cell_type": "code",
   "execution_count": null,
   "id": "5f0d1932",
   "metadata": {},
   "outputs": [],
   "source": []
  },
  {
   "cell_type": "code",
   "execution_count": null,
   "id": "2a9e5f86",
   "metadata": {},
   "outputs": [],
   "source": []
  }
 ],
 "metadata": {
  "interpreter": {
   "hash": "42588fd11209419b7c81abe23e31a1d2101f60811b02170c268e57ebb57d5d9a"
  },
  "kernelspec": {
   "display_name": "Python 3.8.8 64-bit ('base': conda)",
   "name": "python3"
  },
  "language_info": {
   "codemirror_mode": {
    "name": "ipython",
    "version": 3
   },
   "file_extension": ".py",
   "mimetype": "text/x-python",
   "name": "python",
   "nbconvert_exporter": "python",
   "pygments_lexer": "ipython3",
   "version": "3.8.8"
  }
 },
 "nbformat": 4,
 "nbformat_minor": 5
}
