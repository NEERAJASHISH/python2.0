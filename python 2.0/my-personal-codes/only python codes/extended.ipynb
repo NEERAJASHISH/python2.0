{
 "cells": [
  {
   "cell_type": "code",
   "execution_count": 3,
   "metadata": {},
   "outputs": [
    {
     "name": "stdout",
     "output_type": "stream",
     "text": [
      "12.0\n"
     ]
    }
   ],
   "source": [
    "my_student = {\n",
    "\n",
    "    \"name\": \"hello\",\n",
    "    \"grades\":[10,11,12,13,14]\n",
    "\n",
    "}\n",
    "\n",
    "\n",
    "def average(student):\n",
    "     return sum(student[\"grades\"])/len(student[\"grades\"])\n",
    "\n",
    "\n",
    "average(my_student)     \n",
    "print(average(my_student))\n"
   ]
  },
  {
   "cell_type": "code",
   "execution_count": 9,
   "metadata": {},
   "outputs": [
    {
     "data": {
      "text/plain": [
       "12.0"
      ]
     },
     "execution_count": 9,
     "metadata": {},
     "output_type": "execute_result"
    }
   ],
   "source": [
    "k = [10,11,12,13,14]\n",
    "p = len(k)\n",
    "s = sum(k)\n",
    "av = s/p\n",
    "av"
   ]
  },
  {
   "cell_type": "code",
   "execution_count": 13,
   "metadata": {},
   "outputs": [
    {
     "name": "stdout",
     "output_type": "stream",
     "text": [
      "The average of neeraj is given by 12.0\n"
     ]
    }
   ],
   "source": [
    "class student():\n",
    "\n",
    "    def __init__(self,name,grades) -> None:\n",
    "        self.name = name\n",
    "        self.grades = grades\n",
    "\n",
    "    def average(self):\n",
    "        p = sum(self.grades)\n",
    "        k = len(self.grades)\n",
    "        result = p/k\n",
    "        print(f'The average of {self.name} is given by {result}')\n",
    "\n",
    "c = student(\"neeraj\",[10,11,12,13,14])\n",
    "c.average()\n",
    "\n",
    "\n",
    "\n",
    "        "
   ]
  },
  {
   "cell_type": "code",
   "execution_count": 18,
   "metadata": {},
   "outputs": [
    {
     "name": "stdout",
     "output_type": "stream",
     "text": [
      "The average of neeraj is given by 12.0\n"
     ]
    }
   ],
   "source": [
    "class student():\n",
    "\n",
    "    def __init__(self,name,grades) -> None:\n",
    "        self.name = name\n",
    "        self.grades = grades\n",
    "\n",
    "    \n",
    "        \n",
    "    def __str__(self) -> str:\n",
    "        return f'The average of {self.name} is given by {sum(self.grades)/len(self.grades)}'\n",
    "\n",
    "c = student(\"neeraj\",[10,11,12,13,14])\n",
    "print(c)\n",
    "\n",
    "\n",
    "        "
   ]
  },
  {
   "cell_type": "code",
   "execution_count": 29,
   "metadata": {},
   "outputs": [
    {
     "name": "stdout",
     "output_type": "stream",
     "text": [
      "The respective student1 has grades 12.0\n"
     ]
    }
   ],
   "source": [
    "class student():\n",
    "\n",
    "    def __init__(self,name,grades) -> None:\n",
    "        self.name = name\n",
    "        self.grades = grades\n",
    "\n",
    "    def average(self):\n",
    "        return (sum(self.grades)/len(self.grades)) # use the retunn function instead of the print\n",
    "\n",
    "student1 = student(\"student1\",[10,11,12,13,14])\n",
    "student2  = student(\"student2\",[13,14,15,16,17])\n",
    "\n",
    "\n",
    "\n",
    "\n",
    "def display(report):\n",
    "    print ( f\"The respective {report.name} has grades {report.average()}\")\n",
    "\n",
    "\n",
    "\n",
    "display(student1)    \n",
    "    \n",
    "    \n",
    "\n",
    "\n",
    "\n"
   ]
  },
  {
   "cell_type": "code",
   "execution_count": 14,
   "metadata": {},
   "outputs": [
    {
     "name": "stdout",
     "output_type": "stream",
     "text": [
      "posh\n",
      "gru\n",
      "2\n"
     ]
    }
   ],
   "source": [
    "class garage():\n",
    "\n",
    "\n",
    "    def __init__(self) -> None:\n",
    "        self.cars = []\n",
    "\n",
    "\n",
    "    def __len__(self):\n",
    "\n",
    "        return len(self.cars)\n",
    "\n",
    "\n",
    "ford = garage()\n",
    "ford.cars.append(\"posh\")\n",
    "ford.cars.append(\"gru\")\n",
    "print(ford.cars[0])\n",
    "print(ford.cars[1])\n",
    "\n",
    "print(len(ford))\n",
    "\n",
    "\n",
    "        "
   ]
  },
  {
   "cell_type": "code",
   "execution_count": 16,
   "metadata": {},
   "outputs": [
    {
     "name": "stdout",
     "output_type": "stream",
     "text": [
      "posh\n",
      "gru\n"
     ]
    }
   ],
   "source": [
    "class garage():\n",
    "\n",
    "\n",
    "    def __init__(self) -> None:\n",
    "        self.cars = []\n",
    "\n",
    "\n",
    "    def __len__(self):\n",
    "\n",
    "        return len(self.cars)\n",
    "\n",
    "    def __getitem__(self):\n",
    "        for i in self.cars:\n",
    "            print(i)\n",
    "\n",
    "\n",
    "\n",
    "ford = garage()\n",
    "ford.cars.append(\"posh\")\n",
    "ford.cars.append(\"gru\")\n",
    "ford.__getitem__()"
   ]
  },
  {
   "cell_type": "code",
   "execution_count": 18,
   "metadata": {},
   "outputs": [
    {
     "name": "stdout",
     "output_type": "stream",
     "text": [
      "posh\n",
      "gru\n"
     ]
    }
   ],
   "source": [
    "class garage():\n",
    "\n",
    "\n",
    "    def __init__(self) -> None:\n",
    "        self.cars = []\n",
    "\n",
    "\n",
    "    def __len__(self):\n",
    "\n",
    "        return len(self.cars)\n",
    "\n",
    "    def __getitem__(self,i):\n",
    "        return self.cars[i]\n",
    "\n",
    "\n",
    "\n",
    "ford = garage()\n",
    "ford.cars.append(\"posh\")\n",
    "ford.cars.append(\"gru\")\n",
    "print(ford[0])\n",
    "print(ford[1])"
   ]
  },
  {
   "cell_type": "code",
   "execution_count": 6,
   "metadata": {},
   "outputs": [
    {
     "data": {
      "text/plain": [
       "150000"
      ]
     },
     "execution_count": 6,
     "metadata": {},
     "output_type": "execute_result"
    }
   ],
   "source": [
    "class student():\n",
    "    def __init__(self,name,school,marks) -> None:\n",
    "        self.name = name\n",
    "        self.school = school\n",
    "        self.marks = marks\n",
    "\n",
    "    def average(self):\n",
    "        return f'The marks of  {self.name} of {self.school} student is {self.marks}'   \n",
    "\n",
    "class workingstudent(student):\n",
    "\n",
    "    def __init__(self,name,school,marks,salary) -> None:\n",
    "        student.__init__(self,name,school,marks)\n",
    "        self.salary = salary\n",
    "\n",
    "    def income(self):    \n",
    "        return  self.salary * 15\n",
    "\n",
    "\n",
    "neeraj = workingstudent(\"neeraj\",\"MIT\",50.76,10000)\n",
    "neeraj.name\n",
    "neeraj.school\n",
    "neeraj.marks\n",
    "neeraj.salary\n",
    "neeraj.average()\n",
    "neeraj.income()\n",
    "\n",
    "#chris = student(\"chris\",\"harvard\",100)\n",
    "#chris.name\n",
    "#chris.school\n",
    "#chris.average()\n",
    "\n",
    "\n",
    "\n",
    "\n",
    "\n",
    "\n",
    "\n",
    "\n",
    "\n",
    "\n",
    "\n",
    "        "
   ]
  },
  {
   "cell_type": "code",
   "execution_count": 15,
   "metadata": {},
   "outputs": [
    {
     "name": "stdout",
     "output_type": "stream",
     "text": [
      "1\n"
     ]
    }
   ],
   "source": [
    "class list():\n",
    "\n",
    "    def __init__(self) -> None:\n",
    "        self.arr = []\n",
    "\n",
    "    def __len__(self):\n",
    "        return len(self.arr)    \n",
    "\n",
    "     \n",
    "\n",
    "    \n",
    "\n",
    "\n",
    "g = list()\n",
    "\n",
    "g.arr.append(154)\n",
    "print(len(g))\n",
    "\n",
    "\n",
    "\n",
    "        "
   ]
  },
  {
   "cell_type": "code",
   "execution_count": 4,
   "metadata": {},
   "outputs": [
    {
     "data": {
      "text/plain": [
       "'The average of the given data is 13.0'"
      ]
     },
     "execution_count": 4,
     "metadata": {},
     "output_type": "execute_result"
    }
   ],
   "source": [
    "class average():\n",
    "\n",
    "    def __init__(self,data) -> None:\n",
    "        self.data = data\n",
    "\n",
    "    def total(self):\n",
    "        t = sum(self.data)/len(self.data)\n",
    "        return f'The average of the given data is {t}'    \n",
    "\n",
    "k = list(map(int,input().split()))\n",
    "t = average(k)\n",
    "t.total()\n",
    "\n",
    "\n",
    "        "
   ]
  },
  {
   "cell_type": "code",
   "execution_count": 2,
   "metadata": {},
   "outputs": [
    {
     "name": "stdout",
     "output_type": "stream",
     "text": [
      "[12, 13, 14]\n"
     ]
    }
   ],
   "source": [
    "k = list(map(int,input().split()))\n",
    "print"
   ]
  },
  {
   "cell_type": "code",
   "execution_count": null,
   "metadata": {},
   "outputs": [],
   "source": [
    "# example programme\n",
    "i  = int(input(\"please enter the sum of the numbers: \"))\n",
    "\n",
    "sum = 0\n",
    "\n",
    "for i in range(i+1):\n",
    "    sum = sum + i \n",
    "\n",
    "print(sum)    "
   ]
  },
  {
   "cell_type": "markdown",
   "metadata": {},
   "source": [
    "# volume of a sphere\n"
   ]
  },
  {
   "cell_type": "code",
   "execution_count": 5,
   "metadata": {},
   "outputs": [
    {
     "name": "stdout",
     "output_type": "stream",
     "text": [
      "please enter the radius to find the volume of the sphere: 2\n"
     ]
    },
    {
     "data": {
      "text/plain": [
       "'The volume of the sphere is given by 33.510321638291124'"
      ]
     },
     "execution_count": 5,
     "metadata": {},
     "output_type": "execute_result"
    }
   ],
   "source": [
    "import math\n",
    "pie = math.pi\n",
    "def volume(r):\n",
    "    \n",
    "    output = (4/3)*(pie)*r**3\n",
    "    \n",
    "    return (f\"The volume of the sphere is given by {output}\")\n",
    "\n",
    "\n",
    "n = int(input(\"please enter the radius to find the volume of the sphere: \"))\n",
    "volume(n)\n",
    "\n",
    "    "
   ]
  },
  {
   "cell_type": "code",
   "execution_count": null,
   "metadata": {},
   "outputs": [],
   "source": []
  },
  {
   "cell_type": "code",
   "execution_count": 3,
   "metadata": {},
   "outputs": [
    {
     "data": {
      "text/plain": [
       "1000"
      ]
     },
     "execution_count": 3,
     "metadata": {},
     "output_type": "execute_result"
    }
   ],
   "source": [
    "k = 10\n",
    "p = k**3\n",
    "p"
   ]
  },
  {
   "cell_type": "code",
   "execution_count": null,
   "metadata": {},
   "outputs": [],
   "source": [
    "# the number in the range of the given function"
   ]
  },
  {
   "cell_type": "code",
   "execution_count": 24,
   "metadata": {},
   "outputs": [
    {
     "data": {
      "text/plain": [
       "True"
      ]
     },
     "execution_count": 24,
     "metadata": {},
     "output_type": "execute_result"
    }
   ],
   "source": [
    "def range_check(x,y,z):\n",
    "    \n",
    "    for i in range(y,z):\n",
    "        if i == x:\n",
    "            return True\n",
    "    else:\n",
    "        return False\n",
    "    \n",
    "    \n",
    "range_check(2,1,10)    \n",
    "    \n",
    "    \n",
    "    \n",
    "    "
   ]
  },
  {
   "cell_type": "code",
   "execution_count": null,
   "metadata": {},
   "outputs": [],
   "source": [
    "# pyhton function to calculate upper and lower case letters"
   ]
  },
  {
   "cell_type": "code",
   "execution_count": 1,
   "metadata": {
    "scrolled": true
   },
   "outputs": [
    {
     "name": "stdout",
     "output_type": "stream",
     "text": [
      "The orginal string is:  Hello Mr. Rogers, how are you this fine Tuesday? \n",
      "The number of upper case letter is 15\n",
      "The number of lower case letter is 44\n"
     ]
    }
   ],
   "source": [
    "def lengthcalculator(s):\n",
    "    upper = 0\n",
    "    lower = 0\n",
    "    \n",
    "    for i in range(len(s)):\n",
    "        if s[i] == s[i].upper():\n",
    "            upper = upper + 1\n",
    "        if s[i] == s[i].lower():\n",
    "            lower = lower + 1\n",
    "    print(f\"The orginal string is:  {s} \")        \n",
    "    print(f'The number of upper case letter is {upper}')\n",
    "    print(f'The number of lower case letter is {lower}')\n",
    "    \n",
    "    \n",
    "            \n",
    "            \n",
    "            \n",
    "            \n",
    "       \n",
    "            \n",
    "            \n",
    "        \n",
    "        \n",
    "            \n",
    "            \n",
    "            \n",
    "        \n",
    "lengthcalculator(\"Hello Mr. Rogers, how are you this fine Tuesday?\")           \n",
    "            \n",
    "            \n",
    "\n",
    "            \n",
    "            \n",
    "         \n",
    "    \n",
    "    \n",
    "\n",
    "\n",
    "\n",
    "\n",
    "\n"
   ]
  },
  {
   "cell_type": "code",
   "execution_count": null,
   "metadata": {},
   "outputs": [],
   "source": [
    "# inheritance in python"
   ]
  },
  {
   "cell_type": "code",
   "execution_count": 20,
   "metadata": {},
   "outputs": [
    {
     "data": {
      "text/plain": [
       "23.5"
      ]
     },
     "execution_count": 20,
     "metadata": {},
     "output_type": "execute_result"
    }
   ],
   "source": [
    "class student():\n",
    "    def __init__(self,name,school) -> None:\n",
    "        self.name  = name\n",
    "        self.school = school\n",
    "        self.marks = []\n",
    "\n",
    "    def average(self):\n",
    "        return sum(self.marks)/len(self.marks)\n",
    "\n",
    "class workingstudent(student):\n",
    "    def __init__(self, name, school,salary) -> None:\n",
    "        student.__init__(self,name, school)\n",
    "        self.salary = salary\n",
    "    \n",
    "\n",
    "    def weekly_salary(self):\n",
    "        return self.salary*37.5\n",
    "\n",
    "\n",
    "\n",
    "camp = student(\"camp\",\"mit\")\n",
    "camp.marks.extend([22,23,24,25]) \n",
    "camp.marks \n",
    "camp.average() \n",
    "\n",
    "    \n",
    "\n",
    "\n",
    "\n",
    "\n",
    "\n",
    "        "
   ]
  },
  {
   "cell_type": "code",
   "execution_count": 12,
   "metadata": {},
   "outputs": [
    {
     "data": {
      "text/plain": [
       "[22, 23, 24, 25]"
      ]
     },
     "execution_count": 12,
     "metadata": {},
     "output_type": "execute_result"
    }
   ],
   "source": [
    "camp.marks "
   ]
  },
  {
   "cell_type": "code",
   "execution_count": 13,
   "metadata": {},
   "outputs": [
    {
     "data": {
      "text/plain": [
       "23.5"
      ]
     },
     "execution_count": 13,
     "metadata": {},
     "output_type": "execute_result"
    }
   ],
   "source": [
    "camp.average() \n"
   ]
  },
  {
   "cell_type": "code",
   "execution_count": 24,
   "metadata": {},
   "outputs": [
    {
     "data": {
      "text/plain": [
       "60.0"
      ]
     },
     "execution_count": 24,
     "metadata": {},
     "output_type": "execute_result"
    }
   ],
   "source": [
    "james = workingstudent(\"james\",\"harvard\",3)\n",
    "james.weekly_salary()\n",
    "james.marks.extend([50,60,70])\n",
    "james.marks\n",
    "james.average()"
   ]
  },
  {
   "cell_type": "code",
   "execution_count": 1,
   "metadata": {},
   "outputs": [
    {
     "name": "stdout",
     "output_type": "stream",
     "text": [
      "0\n",
      "1\n",
      "2\n",
      "3\n",
      "4\n",
      "5\n",
      "6\n",
      "7\n",
      "8\n",
      "9\n"
     ]
    }
   ],
   "source": [
    "for i in range(10):\n",
    "    print(i)"
   ]
  },
  {
   "cell_type": "code",
   "execution_count": null,
   "metadata": {},
   "outputs": [],
   "source": [
    "def even(num):\n",
    "    if num%2 == 0:\n",
    "        return (\"the number is even number\")\n",
    "    else:\n",
    "        return(\"the number is odd number\")\n",
    "    \n",
    "k = int(input(\"enter the numer that you want to check : \"))    \n"
   ]
  },
  {
   "cell_type": "code",
   "execution_count": 3,
   "metadata": {},
   "outputs": [
    {
     "name": "stdout",
     "output_type": "stream",
     "text": [
      "This number is even 0\n",
      "This number is odd 1\n",
      "This number is even 2\n",
      "This number is odd 3\n",
      "This number is even 4\n",
      "This number is odd 5\n",
      "This number is even 6\n",
      "This number is odd 7\n",
      "This number is even 8\n",
      "This number is odd 9\n",
      "This number is even 10\n"
     ]
    }
   ],
   "source": [
    "def rangev(n):\n",
    "    for i in range(n+1):\n",
    "        if i%2 == 0:\n",
    "            print(f'This number is even {i}')\n",
    "        else:\n",
    "            print(f'This number is odd {i}')\n",
    "            \n",
    "            \n",
    "rangev(10)            "
   ]
  },
  {
   "cell_type": "code",
   "execution_count": 3,
   "metadata": {},
   "outputs": [
    {
     "name": "stdout",
     "output_type": "stream",
     "text": [
      "the number is odd 1\n",
      "the number is even 2\n",
      "the number is odd 3\n",
      "the number is even 4\n",
      "the number is odd 5\n"
     ]
    }
   ],
   "source": [
    "def evennum(m):\n",
    "    for i in range(len(m)):\n",
    "        if m[i] % 2 == 0:\n",
    "            print(f'the number is even {m[i]}')\n",
    "        else:\n",
    "            print(f'the number is odd {m[i]}')\n",
    "\n",
    "k = [1,2,3,4,5]\n",
    "evennum(k)\n",
    "\n",
    "            \n",
    "\n"
   ]
  },
  {
   "cell_type": "code",
   "execution_count": 8,
   "metadata": {},
   "outputs": [
    {
     "data": {
      "text/plain": [
       "20"
      ]
     },
     "execution_count": 8,
     "metadata": {},
     "output_type": "execute_result"
    }
   ],
   "source": [
    "class scorecalculator():\n",
    "\n",
    "    def __init__(self,gameover,score,levelcompleted,bonus) -> None:\n",
    "       self.gameover = gameover\n",
    "       self.score = score\n",
    "       self.levelcompleted = levelcompleted\n",
    "       self.bonus = bonus\n",
    "\n",
    "    def result(self):\n",
    "        if self.gameover == True:\n",
    "            finalscore = self.score + (self.levelcompleted * self.bonus)\n",
    "\n",
    "        newscore = finalscore + 1000\n",
    "\n",
    "\n",
    "        return(f'The final score is given by {newscore}')   \n",
    "\n",
    "\n",
    "obj1 = scorecalculator(True,10,5,20)\n",
    "obj1.result()\n",
    "\n",
    "\n",
    "    \n",
    "\n",
    "            \n",
    "\n",
    "        \n",
    "    "
   ]
  },
  {
   "cell_type": "code",
   "execution_count": 2,
   "metadata": {},
   "outputs": [
    {
     "name": "stdout",
     "output_type": "stream",
     "text": [
      "0\n",
      "1\n",
      "2\n",
      "3\n",
      "4\n",
      "5\n",
      "6\n",
      "7\n",
      "8\n",
      "9\n"
     ]
    }
   ],
   "source": [
    "for i in range(10):\n",
    "\n",
    "    print(i)"
   ]
  },
  {
   "cell_type": "code",
   "execution_count": 7,
   "metadata": {},
   "outputs": [
    {
     "ename": "TypeError",
     "evalue": "'int' object is not iterable",
     "output_type": "error",
     "traceback": [
      "\u001b[1;31m---------------------------------------------------------------------------\u001b[0m",
      "\u001b[1;31mTypeError\u001b[0m                                 Traceback (most recent call last)",
      "\u001b[1;32m<ipython-input-7-95efde377b24>\u001b[0m in \u001b[0;36m<module>\u001b[1;34m\u001b[0m\n\u001b[0;32m      5\u001b[0m     \u001b[1;32mfor\u001b[0m \u001b[0mj\u001b[0m \u001b[1;32min\u001b[0m \u001b[0mdic\u001b[0m\u001b[1;33m.\u001b[0m\u001b[0mvalues\u001b[0m\u001b[1;33m(\u001b[0m\u001b[1;33m)\u001b[0m\u001b[1;33m:\u001b[0m\u001b[1;33m\u001b[0m\u001b[1;33m\u001b[0m\u001b[0m\n\u001b[0;32m      6\u001b[0m         \u001b[0mlister\u001b[0m\u001b[1;33m.\u001b[0m\u001b[0mappend\u001b[0m\u001b[1;33m(\u001b[0m\u001b[0mi\u001b[0m\u001b[1;33m)\u001b[0m\u001b[1;33m\u001b[0m\u001b[1;33m\u001b[0m\u001b[0m\n\u001b[1;32m----> 7\u001b[1;33m         \u001b[0mlister\u001b[0m\u001b[1;33m.\u001b[0m\u001b[0mextend\u001b[0m\u001b[1;33m(\u001b[0m\u001b[0mj\u001b[0m\u001b[1;33m)\u001b[0m\u001b[1;33m\u001b[0m\u001b[1;33m\u001b[0m\u001b[0m\n\u001b[0m\u001b[0;32m      8\u001b[0m \u001b[1;33m\u001b[0m\u001b[0m\n\u001b[0;32m      9\u001b[0m \u001b[1;33m\u001b[0m\u001b[0m\n",
      "\u001b[1;31mTypeError\u001b[0m: 'int' object is not iterable"
     ]
    }
   ],
   "source": [
    "lister = []\n",
    "\n",
    "dic = {\"hello\":1,\"how\":2,\"there\":3}\n",
    "for i in dic.keys():\n",
    "    for j in dic.values():\n",
    "        lister.append(i)\n",
    "        \n",
    "        lister.extend(j)\n",
    "    \n",
    "    \n",
    "    \n",
    "print(lister)    \n",
    "    \n",
    "    \n",
    "\n"
   ]
  },
  {
   "cell_type": "code",
   "execution_count": 16,
   "metadata": {},
   "outputs": [
    {
     "name": "stdout",
     "output_type": "stream",
     "text": [
      "11\n",
      "22\n",
      "44\n",
      "55\n"
     ]
    }
   ],
   "source": [
    "k = [1,2,4,5]\n",
    "for i in k:\n",
    "    print(str(i) + str(i))\n",
    "    "
   ]
  },
  {
   "cell_type": "code",
   "execution_count": 47,
   "metadata": {},
   "outputs": [
    {
     "data": {
      "text/plain": [
       "'The given number 4 is even'"
      ]
     },
     "execution_count": 47,
     "metadata": {},
     "output_type": "execute_result"
    }
   ],
   "source": [
    "def evennumber(m):\n",
    "    for i in range(len(m)):\n",
    "        if m[i] % 2 == 0:\n",
    "            return (f'The given number {m[i]} is even')\n",
    "        else:\n",
    "            return(f'The given number {m[i]} is odd')\n",
    "   \n",
    "            \n",
    "        \n",
    "k = [4,2,3,4,6,8]\n",
    "evennumber(k)"
   ]
  },
  {
   "cell_type": "code",
   "execution_count": null,
   "metadata": {},
   "outputs": [],
   "source": []
  },
  {
   "cell_type": "code",
   "execution_count": 22,
   "metadata": {},
   "outputs": [
    {
     "name": "stdout",
     "output_type": "stream",
     "text": [
      "0\n",
      "1\n",
      "2\n",
      "3\n"
     ]
    },
    {
     "data": {
      "text/plain": [
       "4"
      ]
     },
     "execution_count": 22,
     "metadata": {},
     "output_type": "execute_result"
    }
   ],
   "source": [
    "k = [1,2,3,4]\n",
    "for i in range(len(k)):\n",
    "    print(i)\n",
    "    \n",
    "k[i]    "
   ]
  },
  {
   "cell_type": "code",
   "execution_count": 11,
   "metadata": {},
   "outputs": [
    {
     "name": "stdout",
     "output_type": "stream",
     "text": [
      "The areaa of the circle is 3.141592653589793\n",
      "The areaa of the circle is 12.566370614359172\n",
      "The areaa of the circle is 28.274333882308138\n",
      "The areaa of the circle is 50.26548245743669\n",
      "The areaa of the circle is 78.53981633974483\n",
      "The areaa of the circle is 113.09733552923255\n",
      "The areaa of the circle is 153.93804002589985\n",
      "The areaa of the circle is 201.06192982974676\n",
      "The areaa of the circle is 254.46900494077323\n",
      "The areaa of the circle is 314.1592653589793\n"
     ]
    }
   ],
   "source": [
    "import math\n",
    "pie = math.pi\n",
    "class hello():\n",
    "    def __init__(self,radius) -> None:\n",
    "        self.radius = radius\n",
    "\n",
    "    def calculate(self):\n",
    "        self.area = pie*self.radius**2\n",
    "\n",
    "        return (f'The areaa of the circle is {self.area}')\n",
    "\n",
    "\n",
    "for i in range(10):\n",
    "    while i not in (str(range(10))):\n",
    "        k= int(input(\"enter the radius to find the area of the circle:\"))\n",
    "        obj3 = hello(k)   \n",
    "        l = obj3.calculate()\n",
    "        print(l)\n",
    "    \n",
    "    \n",
    "\n",
    "    \n",
    "    \n",
    "\n",
    "    \n",
    "    \n",
    "\n",
    "    \n",
    "\n",
    "\n",
    "\n",
    "\n",
    "        "
   ]
  },
  {
   "cell_type": "code",
   "execution_count": 3,
   "metadata": {},
   "outputs": [
    {
     "data": {
      "text/plain": [
       "9"
      ]
     },
     "execution_count": 3,
     "metadata": {},
     "output_type": "execute_result"
    }
   ],
   "source": [
    "k  = 3\n",
    "k**2"
   ]
  },
  {
   "cell_type": "code",
   "execution_count": null,
   "metadata": {},
   "outputs": [],
   "source": [
    "n = int(input())\n",
    "student_marks = {}\n",
    "for _ in range(n):\n",
    "    name, *line = input().split()\n",
    "    scores = list(map(float, line))\n",
    "    student_marks[name] = scores"
   ]
  },
  {
   "cell_type": "code",
   "execution_count": 14,
   "metadata": {},
   "outputs": [
    {
     "name": "stdout",
     "output_type": "stream",
     "text": [
      "['h', 'e', 'l', 'l', 'o']\n"
     ]
    }
   ],
   "source": [
    "line = \"hello\"\n",
    "j = list(map(str,line)) #mapping each line to str\n",
    "print(j)"
   ]
  },
  {
   "cell_type": "code",
   "execution_count": 7,
   "metadata": {},
   "outputs": [
    {
     "name": "stdout",
     "output_type": "stream",
     "text": [
      "1 is a prime num \n",
      " 2 not a prine num \n",
      "3 is a prime num \n",
      " 4 not a prine num \n",
      "5 is a prime num \n",
      " 6 not a prine num \n",
      "7 is a prime num \n",
      " 8 not a prine num \n",
      "9 is a prime num \n",
      " 10 not a prine num \n"
     ]
    }
   ],
   "source": [
    "def primecheck(num):\n",
    "\n",
    "    for i in range(2,(num/2)+1):\n",
    "\n",
    "        \n",
    "        \n",
    "        if i%2 == 0:\n",
    "            print(f\" {i} not a prine num \")\n",
    "\n",
    "        else:\n",
    "            print(f\"{i} is a prime num \")    \n",
    "\n",
    "\n",
    "primecheck(10)\n",
    "\n",
    "\n",
    "           \n"
   ]
  },
  {
   "cell_type": "code",
   "execution_count": 3,
   "metadata": {},
   "outputs": [
    {
     "name": "stdout",
     "output_type": "stream",
     "text": [
      "2\n",
      "3\n",
      "4\n",
      "5\n",
      "6\n",
      "7\n",
      "8\n",
      "9\n",
      "10\n"
     ]
    }
   ],
   "source": [
    "for i in range(2,10+1):\n",
    "    print(i)"
   ]
  },
  {
   "cell_type": "code",
   "execution_count": 8,
   "metadata": {},
   "outputs": [
    {
     "data": {
      "text/plain": [
       "5"
      ]
     },
     "execution_count": 8,
     "metadata": {},
     "output_type": "execute_result"
    }
   ],
   "source": [
    "int(11/2)"
   ]
  },
  {
   "cell_type": "code",
   "execution_count": 14,
   "metadata": {},
   "outputs": [
    {
     "name": "stdout",
     "output_type": "stream",
     "text": [
      "prime\n"
     ]
    }
   ],
   "source": [
    "def prine(num):\n",
    "    if num % 2 == 0:\n",
    "        print(\"not a prime\")\n",
    "    else:\n",
    "        print(\"prime\")    \n",
    "\n",
    "\n",
    "prine(9)       "
   ]
  },
  {
   "cell_type": "code",
   "execution_count": 49,
   "metadata": {},
   "outputs": [
    {
     "name": "stdout",
     "output_type": "stream",
     "text": [
      "prime num \n"
     ]
    }
   ],
   "source": [
    "num = 13\n",
    "for i in range(2,int(num/2)+1):\n",
    "    \n",
    "  if num % i == 0:\n",
    "      print(\"not a prime num\")\n",
    "      break\n",
    "\n",
    "else:\n",
    "    print(\"prime num \") \n",
    "         \n",
    "\n",
    "\n",
    "     \n",
    "\n",
    "\n",
    "    "
   ]
  },
  {
   "cell_type": "code",
   "execution_count": 26,
   "metadata": {},
   "outputs": [
    {
     "name": "stdout",
     "output_type": "stream",
     "text": [
      "2\n",
      "3\n",
      "4\n",
      "5\n"
     ]
    }
   ],
   "source": [
    "num = 11\n",
    "for i in range(2,int(num/2)+1):\n",
    "    print(i)"
   ]
  },
  {
   "cell_type": "code",
   "execution_count": 58,
   "metadata": {},
   "outputs": [
    {
     "data": {
      "text/plain": [
       "[3,\n",
       " 5,\n",
       " 7,\n",
       " 11,\n",
       " 13,\n",
       " 17,\n",
       " 19,\n",
       " 23,\n",
       " 29,\n",
       " 31,\n",
       " 37,\n",
       " 41,\n",
       " 43,\n",
       " 47,\n",
       " 53,\n",
       " 59,\n",
       " 61,\n",
       " 67,\n",
       " 71,\n",
       " 73,\n",
       " 79,\n",
       " 83,\n",
       " 89,\n",
       " 97]"
      ]
     },
     "execution_count": 58,
     "metadata": {},
     "output_type": "execute_result"
    }
   ],
   "source": [
    "lister1 = []\n",
    "def listofprime(interval):\n",
    "    for i in range(interval+1):\n",
    "\n",
    "        if (i > 2):\n",
    "\n",
    "            for j in range(2,int(i/2)+1):\n",
    "                if i % j == 0:\n",
    "                    break\n",
    "\n",
    "            else:\n",
    "                lister1.append(i)\n",
    "                    \n",
    "\n",
    "\n",
    "listofprime(100)\n",
    "lister1\n",
    "\n",
    "\n",
    "\n",
    "\n",
    "\n",
    "\n",
    "                    \n",
    "                \n",
    "\n",
    "\n",
    "        \n",
    "\n"
   ]
  },
  {
   "cell_type": "code",
   "execution_count": 6,
   "metadata": {},
   "outputs": [
    {
     "name": "stdout",
     "output_type": "stream",
     "text": [
      "418\n"
     ]
    }
   ],
   "source": [
    "h = input(\"enter the input number:\")\n",
    "\n",
    "s = str(h)\n",
    "p = []\n",
    "for i in s:\n",
    "    p.append(int(i))\n",
    "\n",
    "print(sum(p))"
   ]
  },
  {
   "cell_type": "code",
   "execution_count": 6,
   "metadata": {},
   "outputs": [
    {
     "name": "stdout",
     "output_type": "stream",
     "text": [
      "10\n",
      "hello\n"
     ]
    }
   ],
   "source": [
    "k = int(input(\"Enter the input:\"))\n",
    "d = input(\"What are the objectives:\")\n",
    "print(k)\n",
    "print(d)\n",
    "\n"
   ]
  },
  {
   "cell_type": "code",
   "execution_count": 35,
   "metadata": {},
   "outputs": [
    {
     "name": "stdout",
     "output_type": "stream",
     "text": [
      "78\n"
     ]
    }
   ],
   "source": [
    "sum = 0\n",
    "for i in range(12):\n",
    "   try:\n",
    "      k = int(input(\"Enter the number:\"))\n",
    "   except:\n",
    "      print(\"enter an valid input\") \n",
    "\n",
    "   else:\n",
    "      sum = sum + k\n",
    "\n",
    "print(sum)         \n",
    "\n",
    "        \n",
    "        \n"
   ]
  },
  {
   "cell_type": "code",
   "execution_count": 20,
   "metadata": {},
   "outputs": [
    {
     "name": "stdout",
     "output_type": "stream",
     "text": [
      "please enter a  valid input!!\n",
      "please enter a  valid input!!\n"
     ]
    },
    {
     "data": {
      "text/plain": [
       "1"
      ]
     },
     "execution_count": 20,
     "metadata": {},
     "output_type": "execute_result"
    }
   ],
   "source": [
    "def index_choice():\n",
    "    \n",
    "    choice = \"wrong\"\n",
    "    \n",
    "    while choice not in [0,1,2]:\n",
    "        choice = int(input(\"Enter the index of your choice (0,1,2): \"))\n",
    "        \n",
    "        \n",
    "        \n",
    "        \n",
    "        if choice  not in [0,1,2]:\n",
    "            print(\"please enter a  valid input!!\")\n",
    "            \n",
    "    return(choice) \n",
    "\n",
    "index_choice()"
   ]
  },
  {
   "cell_type": "code",
   "execution_count": null,
   "metadata": {},
   "outputs": [],
   "source": [
    "for i in range(100):\n",
    "    print(i)\n",
    "\n",
    "    \n"
   ]
  }
 ],
 "metadata": {
  "interpreter": {
   "hash": "42588fd11209419b7c81abe23e31a1d2101f60811b02170c268e57ebb57d5d9a"
  },
  "kernelspec": {
   "display_name": "Python 3",
   "language": "python",
   "name": "python3"
  },
  "language_info": {
   "codemirror_mode": {
    "name": "ipython",
    "version": 3
   },
   "file_extension": ".py",
   "mimetype": "text/x-python",
   "name": "python",
   "nbconvert_exporter": "python",
   "pygments_lexer": "ipython3",
   "version": "3.8.8"
  }
 },
 "nbformat": 4,
 "nbformat_minor": 2
}
