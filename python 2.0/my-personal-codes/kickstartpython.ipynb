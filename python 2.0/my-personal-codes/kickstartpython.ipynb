{
 "cells": [
  {
   "cell_type": "code",
   "execution_count": 1,
   "id": "94ec0ea7",
   "metadata": {},
   "outputs": [
    {
     "name": "stdout",
     "output_type": "stream",
     "text": [
      "0\n",
      "1\n",
      "2\n",
      "3\n",
      "4\n",
      "5\n",
      "6\n",
      "7\n",
      "8\n",
      "9\n"
     ]
    }
   ],
   "source": [
    "for i in range(10):\n",
    "    print(i)"
   ]
  },
  {
   "cell_type": "code",
   "execution_count": 2,
   "id": "44540f14",
   "metadata": {},
   "outputs": [
    {
     "name": "stdout",
     "output_type": "stream",
     "text": [
      "[1, 4, 9, 16, 25]\n"
     ]
    }
   ],
   "source": [
    "def square(num):\n",
    "    num = num**2\n",
    "    \n",
    "    return num\n",
    "\n",
    "\n",
    "m = [1,2,3,4,5]\n",
    "print(list(map(square,m))) #important to note this line\n",
    "\n",
    "\n",
    "    "
   ]
  },
  {
   "cell_type": "code",
   "execution_count": 3,
   "id": "0460a066",
   "metadata": {},
   "outputs": [
    {
     "name": "stdout",
     "output_type": "stream",
     "text": [
      "the equipment m416 and  cost of the equipment is 48 and the country used is usa\n"
     ]
    }
   ],
   "source": [
    "class guns():\n",
    "    \n",
    "    def __init__(self,types,cost,used):\n",
    "        self.types = types\n",
    "        self.cost = cost\n",
    "        self.used = used\n",
    "    \n",
    "        \n",
    "obj1 = guns(\"m416\",48,\"usa\")\n",
    "obj2 = guns(\"ak47\",99,\"russia\")\n",
    "k = obj1.types\n",
    "p = obj1.cost\n",
    "i  = obj1.used\n",
    "\n",
    "print(\"the equipment {} and  cost of the equipment is {} and the country used is {}\".format(k,p,i))\n",
    "\n",
    "\n",
    "\n",
    "\n",
    "\n",
    "    "
   ]
  },
  {
   "cell_type": "code",
   "execution_count": 4,
   "id": "82904a30",
   "metadata": {
    "scrolled": true
   },
   "outputs": [
    {
     "name": "stdout",
     "output_type": "stream",
     "text": [
      "[1]\n",
      "1\n",
      "[1, 4]\n",
      "5\n",
      "[1, 4, 9]\n",
      "14\n",
      "[1, 4, 9, 16]\n",
      "30\n",
      "[1, 4, 9, 16, 25]\n",
      "55\n",
      "[1, 4, 9, 16, 25, 36]\n",
      "91\n"
     ]
    },
    {
     "data": {
      "text/plain": [
       "36"
      ]
     },
     "execution_count": 4,
     "metadata": {},
     "output_type": "execute_result"
    }
   ],
   "source": [
    "# use of the mapping function\n",
    "\n",
    "def sqaurelist(lister):\n",
    "    sumer = 0\n",
    "    k = []\n",
    "    \n",
    "    \n",
    "    for i in lister:\n",
    "        square = i**2\n",
    "        sumer = sumer + square\n",
    "        k.append(square)\n",
    "        print(k)\n",
    "        print(sumer)\n",
    "       \n",
    "        \n",
    "    return square    \n",
    "\n",
    "\n",
    "k = [1,2,3,4,5,6]\n",
    "sqaurelist(k)\n",
    "        \n",
    "        \n",
    "        \n",
    "        \n"
   ]
  },
  {
   "cell_type": "code",
   "execution_count": 5,
   "id": "24c281f9",
   "metadata": {},
   "outputs": [
    {
     "name": "stdout",
     "output_type": "stream",
     "text": [
      "[1, 4, 9, 16, 25, 36]\n",
      "91\n"
     ]
    }
   ],
   "source": [
    "def sqaurelist(lister):\n",
    "    sumer = 0\n",
    "    k = []\n",
    "    \n",
    "    \n",
    "    for i in lister:\n",
    "        square = i**2\n",
    "        sumer = sumer + square\n",
    "        k.append(square)\n",
    "        \n",
    "       \n",
    "        \n",
    "    print(k)\n",
    "    print(sumer)  \n",
    "\n",
    "\n",
    "k = [1,2,3,4,5,6]\n",
    "sqaurelist(k)\n",
    "        "
   ]
  },
  {
   "cell_type": "code",
   "execution_count": 6,
   "id": "1ff7db98",
   "metadata": {},
   "outputs": [
    {
     "name": "stdout",
     "output_type": "stream",
     "text": [
      "the number is odd 1\n",
      "the number is even  2\n",
      "the number is odd 3\n",
      "the number is even  4\n",
      "the number is odd 5\n",
      "the number is even  6\n",
      "the number is odd 7\n",
      "the number is even  8\n"
     ]
    }
   ],
   "source": [
    "#programme to find the even number in the list\n",
    "def evennumber(s):\n",
    "    \n",
    "    for i in s:\n",
    "        if i % 2 == 0:\n",
    "            print(f'the number is even  {i}')\n",
    "        else:\n",
    "            print(f'the number is odd {i}')\n",
    "            \n",
    "            \n",
    "s= [1,2,3,4,5,6,7,8]    \n",
    "evennumber(s)\n",
    "        "
   ]
  },
  {
   "cell_type": "code",
   "execution_count": 7,
   "id": "318f2e9b",
   "metadata": {},
   "outputs": [],
   "source": [
    "#using the mapping function\n"
   ]
  },
  {
   "cell_type": "code",
   "execution_count": 8,
   "id": "52dae1e1",
   "metadata": {},
   "outputs": [
    {
     "ename": "TypeError",
     "evalue": "map() must have at least two arguments.",
     "output_type": "error",
     "traceback": [
      "\u001b[1;31m---------------------------------------------------------------------------\u001b[0m",
      "\u001b[1;31mTypeError\u001b[0m                                 Traceback (most recent call last)",
      "\u001b[1;32m<ipython-input-8-e56740a6557e>\u001b[0m in \u001b[0;36m<module>\u001b[1;34m\u001b[0m\n\u001b[1;32m----> 1\u001b[1;33m \u001b[0mmap\u001b[0m\u001b[1;33m(\u001b[0m\u001b[1;33m)\u001b[0m\u001b[1;33m\u001b[0m\u001b[1;33m\u001b[0m\u001b[0m\n\u001b[0m",
      "\u001b[1;31mTypeError\u001b[0m: map() must have at least two arguments."
     ]
    }
   ],
   "source": [
    "map()"
   ]
  },
  {
   "cell_type": "code",
   "execution_count": null,
   "id": "e9cf7a7e",
   "metadata": {},
   "outputs": [],
   "source": [
    "dic = {\"hello\":1,\"how are you\":2}\n",
    "for i in dic.keys():\n",
    "    print(i)\n",
    "    \n",
    "for j in dic.values():\n",
    "    print(j)\n",
    "    \n",
    "    "
   ]
  },
  {
   "cell_type": "code",
   "execution_count": null,
   "id": "de70c42a",
   "metadata": {},
   "outputs": [],
   "source": [
    "#obbs overview again not jose portilla"
   ]
  },
  {
   "cell_type": "code",
   "execution_count": null,
   "id": "55dddb23",
   "metadata": {},
   "outputs": [],
   "source": [
    "my_student = {\"name\" : \"harry\",\"grades\":[10,20,30,40,50,60]}\n",
    "\n",
    "def avrgrade(mystudent):\n",
    "    return sum(my_student[\"grades\"])/len(my_student[\"name\"])\n",
    "\n",
    "\n",
    "k = avrgrade(my_student)   \n",
    "print(k) \n",
    "\n"
   ]
  },
  {
   "cell_type": "code",
   "execution_count": null,
   "id": "0b0c6a86",
   "metadata": {},
   "outputs": [],
   "source": [
    "class student():\n",
    "    \n",
    "    def __init__(self,name,grades):\n",
    "        self.name = name\n",
    "        self.grades = grades\n",
    "        \n",
    "    def average(self):\n",
    "        return sum(self.grades)/len(self.grades)\n",
    "        #print(sum(self.grades)/len(self.grades))\n",
    "    \n",
    "    \n",
    "    \n",
    "student1 = student(\"potus\",[10,20,30,40,50]) \n",
    "student2 = student(\"trump\",[50,60,70,80,90])\n",
    "print(student1.name)\n",
    "print(student2.name)\n",
    "#student1.name\n",
    "#student1.grades\n",
    "\n",
    "#print(student1.__class__)\n",
    "  "
   ]
  },
  {
   "cell_type": "code",
   "execution_count": null,
   "id": "2dc9fdf5",
   "metadata": {},
   "outputs": [],
   "source": [
    "student.average(student1) #important point to note this thing this is one of the method to calculate"
   ]
  },
  {
   "cell_type": "code",
   "execution_count": null,
   "id": "23bb27c6",
   "metadata": {},
   "outputs": [],
   "source": [
    "print(student1.average())"
   ]
  },
  {
   "cell_type": "code",
   "execution_count": null,
   "id": "5176de50",
   "metadata": {},
   "outputs": [],
   "source": [
    "student1.grades #we cannot use the student.grades() like this because it is a fuction"
   ]
  },
  {
   "cell_type": "code",
   "execution_count": null,
   "id": "4bd3f1f0",
   "metadata": {},
   "outputs": [],
   "source": [
    "class cars():\n",
    "    \n",
    "    def __init__(self,doors,wheels,model,engine,colour):\n",
    "        self.doors = doors\n",
    "        self.wheels = wheels\n",
    "        self.model = model\n",
    "        self.engine = engine\n",
    "        self.colour = colour;\n",
    "        \n",
    "    def __str__(self):\n",
    "        return f'The car is having the model {self.model}'\n",
    "    \n",
    "    \n",
    "porsche = cars(5,4,\"comodore\",\"bh16\",\"red\");\n",
    "benz = cars(5,4,\"loiot\",\"bh16\",\"red\")\n",
    "\n",
    "porsche.__str__()\n",
    "        \n",
    "        \n",
    "    \n",
    "    "
   ]
  },
  {
   "cell_type": "code",
   "execution_count": null,
   "id": "e739bd1e",
   "metadata": {},
   "outputs": [],
   "source": [
    "benz.__str__()"
   ]
  },
  {
   "cell_type": "code",
   "execution_count": null,
   "id": "2b2b8e39",
   "metadata": {},
   "outputs": [],
   "source": [
    "for i in range(10):\n",
    "    print(i)"
   ]
  },
  {
   "cell_type": "code",
   "execution_count": null,
   "id": "147a5b4f",
   "metadata": {},
   "outputs": [],
   "source": []
  },
  {
   "cell_type": "code",
   "execution_count": null,
   "id": "cf1b9ecf",
   "metadata": {},
   "outputs": [],
   "source": []
  },
  {
   "cell_type": "code",
   "execution_count": null,
   "id": "ceeb9522",
   "metadata": {},
   "outputs": [],
   "source": []
  },
  {
   "cell_type": "code",
   "execution_count": null,
   "id": "b36f4d82",
   "metadata": {},
   "outputs": [],
   "source": []
  },
  {
   "cell_type": "code",
   "execution_count": null,
   "id": "e752a19f",
   "metadata": {},
   "outputs": [],
   "source": []
  }
 ],
 "metadata": {
  "kernelspec": {
   "display_name": "Python 3",
   "language": "python",
   "name": "python3"
  },
  "language_info": {
   "codemirror_mode": {
    "name": "ipython",
    "version": 3
   },
   "file_extension": ".py",
   "mimetype": "text/x-python",
   "name": "python",
   "nbconvert_exporter": "python",
   "pygments_lexer": "ipython3",
   "version": "3.8.8"
  }
 },
 "nbformat": 4,
 "nbformat_minor": 5
}
