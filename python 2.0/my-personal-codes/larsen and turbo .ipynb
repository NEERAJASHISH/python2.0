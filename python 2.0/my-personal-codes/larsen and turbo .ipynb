{
 "cells": [
  {
   "cell_type": "code",
   "execution_count": 108,
   "id": "69b78d3e",
   "metadata": {},
   "outputs": [
    {
     "name": "stdout",
     "output_type": "stream",
     "text": [
      "hello\n",
      "hello\n"
     ]
    }
   ],
   "source": [
    "a=input()\n",
    "\n",
    "b= input()\n",
    "\n",
    "m,n=len(a),len(b)\n",
    "\n",
    "\n",
    "\n",
    "DP= [[0 for i in range(n + 1)]for j in range(m + 1)]\n",
    "\n",
    "i, j = 0, 0\n",
    "\n",
    "for i in range(m + 1):\n",
    "\n",
    "    for j in range(n + 1):\n",
    "\n",
    "        if (i == 0 or j == 0):\n",
    "\n",
    "            DP[i][j] = 0\n",
    "        \n",
    "\n",
    "            \n"
   ]
  },
  {
   "cell_type": "code",
   "execution_count": 109,
   "id": "e32d7d7a",
   "metadata": {},
   "outputs": [
    {
     "data": {
      "text/plain": [
       "[[0, 0, 0, 0, 0, 0],\n",
       " [0, 0, 0, 0, 0, 0],\n",
       " [0, 0, 0, 0, 0, 0],\n",
       " [0, 0, 0, 0, 0, 0],\n",
       " [0, 0, 0, 0, 0, 0],\n",
       " [0, 0, 0, 0, 0, 0]]"
      ]
     },
     "execution_count": 109,
     "metadata": {},
     "output_type": "execute_result"
    }
   ],
   "source": [
    "DP"
   ]
  },
  {
   "cell_type": "code",
   "execution_count": 1,
   "id": "ef95a89d",
   "metadata": {},
   "outputs": [],
   "source": [
    "\n",
    "n=int(input())\n",
    "\n",
    "arr = list(map(int,input().split()))\n",
    "\n",
    "tokens = [1]*n\n",
    "for i in range(1,n):\n",
    "    for j in range(i):\n",
    "        \n",
    "\n"
   ]
  },
  {
   "cell_type": "code",
   "execution_count": 3,
   "id": "c9540187",
   "metadata": {},
   "outputs": [
    {
     "data": {
      "text/plain": [
       "[1, 1, 1, 1, 1]"
      ]
     },
     "execution_count": 3,
     "metadata": {},
     "output_type": "execute_result"
    }
   ],
   "source": [
    "tokens"
   ]
  },
  {
   "cell_type": "code",
   "execution_count": 9,
   "id": "e9bef3e1",
   "metadata": {},
   "outputs": [
    {
     "name": "stdout",
     "output_type": "stream",
     "text": [
      "0\n"
     ]
    }
   ],
   "source": [
    "for j in range(1):\n",
    "    print(j)"
   ]
  },
  {
   "cell_type": "code",
   "execution_count": 8,
   "id": "7d9125b7",
   "metadata": {},
   "outputs": [
    {
     "data": {
      "text/plain": [
       "7"
      ]
     },
     "execution_count": 8,
     "metadata": {},
     "output_type": "execute_result"
    }
   ],
   "source": [
    "abs(5-1)+abs(4-1)"
   ]
  },
  {
   "cell_type": "code",
   "execution_count": 22,
   "id": "d73fff59",
   "metadata": {},
   "outputs": [
    {
     "name": "stdout",
     "output_type": "stream",
     "text": [
      "7\n"
     ]
    }
   ],
   "source": [
    "n = int(input())\n",
    "arr = list(map(int,input().split()))\n",
    "arr.sort()\n",
    "s = abs(arr[0]-arr[1])+abs(arr[-1]-arr[-2])\n",
    "for i in range(1,n-1):\n",
    "    s += min(abs(arr[i]-arr[i-1]),abs(arr[i]-arr[i+1]))\n",
    "\n",
    "print(s)\n",
    "\n"
   ]
  },
  {
   "cell_type": "code",
   "execution_count": 1,
   "id": "23d973f6",
   "metadata": {},
   "outputs": [
    {
     "ename": "IndexError",
     "evalue": "list index out of range",
     "output_type": "error",
     "traceback": [
      "\u001b[1;31m---------------------------------------------------------------------------\u001b[0m",
      "\u001b[1;31mIndexError\u001b[0m                                Traceback (most recent call last)",
      "\u001b[1;32mc:\\Users\\Lenevo\\python2.0\\python 2.0\\my-personal-codes\\larsen and turbo .ipynb Cell 8\u001b[0m in \u001b[0;36m<cell line: 5>\u001b[1;34m()\u001b[0m\n\u001b[0;32m      <a href='vscode-notebook-cell:/c%3A/Users/Lenevo/python2.0/python%202.0/my-personal-codes/larsen%20and%20turbo%20.ipynb#X10sZmlsZQ%3D%3D?line=0'>1</a>\u001b[0m n\u001b[39m=\u001b[39m\u001b[39mint\u001b[39m(\u001b[39minput\u001b[39m())\n\u001b[0;32m      <a href='vscode-notebook-cell:/c%3A/Users/Lenevo/python2.0/python%202.0/my-personal-codes/larsen%20and%20turbo%20.ipynb#X10sZmlsZQ%3D%3D?line=2'>3</a>\u001b[0m arr \u001b[39m=\u001b[39m \u001b[39msorted\u001b[39m(\u001b[39mlist\u001b[39m(\u001b[39mmap\u001b[39m(\u001b[39mint\u001b[39m,\u001b[39minput\u001b[39m()\u001b[39m.\u001b[39msplit())))\n\u001b[1;32m----> <a href='vscode-notebook-cell:/c%3A/Users/Lenevo/python2.0/python%202.0/my-personal-codes/larsen%20and%20turbo%20.ipynb#X10sZmlsZQ%3D%3D?line=4'>5</a>\u001b[0m s\u001b[39m=\u001b[39m\u001b[39mabs\u001b[39m(arr[\u001b[39m0\u001b[39m]\u001b[39m-\u001b[39marr[\u001b[39m1\u001b[39;49m])\u001b[39m+\u001b[39m\u001b[39mabs\u001b[39m(arr[\u001b[39m-\u001b[39m\u001b[39m1\u001b[39m]\u001b[39m-\u001b[39marr[\u001b[39m-\u001b[39m\u001b[39m2\u001b[39m])\n\u001b[0;32m      <a href='vscode-notebook-cell:/c%3A/Users/Lenevo/python2.0/python%202.0/my-personal-codes/larsen%20and%20turbo%20.ipynb#X10sZmlsZQ%3D%3D?line=6'>7</a>\u001b[0m \u001b[39mfor\u001b[39;00m i \u001b[39min\u001b[39;00m \u001b[39mrange\u001b[39m(\u001b[39m1\u001b[39m,n\u001b[39m-\u001b[39m\u001b[39m1\u001b[39m):\n\u001b[0;32m      <a href='vscode-notebook-cell:/c%3A/Users/Lenevo/python2.0/python%202.0/my-personal-codes/larsen%20and%20turbo%20.ipynb#X10sZmlsZQ%3D%3D?line=8'>9</a>\u001b[0m     s\u001b[39m+\u001b[39m\u001b[39m=\u001b[39m\u001b[39mmin\u001b[39m(\u001b[39mabs\u001b[39m(arr[i]\u001b[39m-\u001b[39marr[i\u001b[39m-\u001b[39m\u001b[39m1\u001b[39m]),\u001b[39mabs\u001b[39m(arr[i]\u001b[39m-\u001b[39marr[i\u001b[39m+\u001b[39m\u001b[39m1\u001b[39m]))\n",
      "\u001b[1;31mIndexError\u001b[0m: list index out of range"
     ]
    }
   ],
   "source": [
    "n=int(input())\n",
    "\n",
    "arr = sorted(list(map(int,input().split())))\n",
    "\n",
    "s=abs(arr[0]-arr[1])+abs(arr[-1]-arr[-2])\n",
    "\n",
    "for i in range(1,n-1):\n",
    "\n",
    "    s+=min(abs(arr[i]-arr[i-1]),abs(arr[i]-arr[i+1]))\n",
    "\n",
    "print(s)"
   ]
  },
  {
   "cell_type": "markdown",
   "id": "9420b01c",
   "metadata": {},
   "source": [
    "Given an array arr[] of integers, find out the maximum difference between any two elements such that the larger element appears after the smaller number.\n",
    "\n",
    "Examples :\n",
    "Input : arr = {2, 3, 10, 6, 4, 8, 1}\n",
    "Output : 8\n",
    "Explanation : The maximum difference is between 10 and 2.\n",
    "\n",
    "Input : arr = {7, 9, 5, 6, 3, 2}\n",
    "Output : 2\n",
    "Explanation : The maximum difference is between 9 and 7."
   ]
  },
  {
   "cell_type": "code",
   "execution_count": 1,
   "id": "fccf1af8",
   "metadata": {},
   "outputs": [],
   "source": [
    "def editorMiss(text):\n",
    "\n",
    "    count=0\n",
    "\n",
    "    for ch in text:\n",
    "\n",
    "        if((ch >= 'a' and ch <= 'z') or (ch >= 'A' and ch <= 'Z')):\n",
    "\n",
    "            pass\n",
    "\n",
    "        elif(ch >= '0' and ch <= '9'):\n",
    "\n",
    "            pass\n",
    "\n",
    "        else:\n",
    "\n",
    "            if(ch==\" \"):\n",
    "\n",
    "                pass\n",
    "\n",
    "            else:\n",
    "\n",
    "                count=count+1\n",
    "\n",
    "    return count\n",
    "\n",
    "s = input()"
   ]
  },
  {
   "cell_type": "code",
   "execution_count": 1,
   "id": "f37af738",
   "metadata": {},
   "outputs": [],
   "source": [
    "class complex():\n",
    "    def __init__(self,real,img) -> None:\n",
    "        self.real = real\n",
    "        self.img  = img\n",
    "\n",
    "    def __add__(self):\n",
    "        \n",
    "\n",
    "    \n",
    "        \n",
    "\n",
    "        "
   ]
  },
  {
   "cell_type": "code",
   "execution_count": 5,
   "id": "049d6806",
   "metadata": {},
   "outputs": [
    {
     "data": {
      "text/plain": [
       "'The addition of the two number is 30'"
      ]
     },
     "execution_count": 5,
     "metadata": {},
     "output_type": "execute_result"
    }
   ],
   "source": [
    "class dummy():\n",
    "    def __init__(self,real,img) -> None:\n",
    "        self.real = real\n",
    "        self.img = img\n",
    "\n",
    "    def __str__(self) -> str:\n",
    "        \n",
    "            \n",
    "      \n",
    "\n",
    "\n",
    "k = list(map(int,input().split()))\n",
    "s = list(map(int,input().splt()))\n",
    "num = dummy(k,s)\n",
    "#num.__str__()\n",
    "\n",
    "\n",
    "        "
   ]
  },
  {
   "cell_type": "code",
   "execution_count": 11,
   "id": "3704282a",
   "metadata": {},
   "outputs": [],
   "source": [
    "c = list(map(float,input().split()))"
   ]
  },
  {
   "cell_type": "code",
   "execution_count": 12,
   "id": "84eaf5b8",
   "metadata": {},
   "outputs": [
    {
     "data": {
      "text/plain": [
       "list"
      ]
     },
     "execution_count": 12,
     "metadata": {},
     "output_type": "execute_result"
    }
   ],
   "source": [
    "type(c)"
   ]
  },
  {
   "cell_type": "code",
   "execution_count": 3,
   "id": "f651f1d0",
   "metadata": {},
   "outputs": [
    {
     "name": "stdout",
     "output_type": "stream",
     "text": [
      "25.0\n",
      "26.0\n"
     ]
    }
   ],
   "source": [
    "def simply(n):\n",
    "    print(n)\n",
    "c = map(float, input().split())\n",
    "d = map(float, input().split())\n",
    "x =simply(*c)\n",
    "y =simply(*d)"
   ]
  },
  {
   "cell_type": "code",
   "execution_count": 1,
   "id": "331ef5c7",
   "metadata": {},
   "outputs": [
    {
     "name": "stdout",
     "output_type": "stream",
     "text": [
      "0\n",
      "2\n",
      "4\n",
      "6\n",
      "8\n",
      "10\n"
     ]
    }
   ],
   "source": [
    "for i in range(10+1):\n",
    "    if (i%2==0):\n",
    "        print(i)\n"
   ]
  },
  {
   "cell_type": "code",
   "execution_count": 3,
   "id": "87fc9564",
   "metadata": {},
   "outputs": [
    {
     "name": "stdout",
     "output_type": "stream",
     "text": [
      "20\n",
      "10\n"
     ]
    }
   ],
   "source": [
    "#programme to swap two number\n",
    "a = 10\n",
    "b = 20\n",
    "a,b = b,a\n",
    "print(a)\n",
    "print(b)\n"
   ]
  },
  {
   "cell_type": "code",
   "execution_count": null,
   "id": "312b3d3a",
   "metadata": {},
   "outputs": [],
   "source": []
  },
  {
   "cell_type": "code",
   "execution_count": 18,
   "id": "c90a0be8",
   "metadata": {},
   "outputs": [
    {
     "data": {
      "text/plain": [
       "10"
      ]
     },
     "execution_count": 18,
     "metadata": {},
     "output_type": "execute_result"
    }
   ],
   "source": [
    "class car:\n",
    "    def __init__(self,a,b,c) -> None:\n",
    "        self.a = 10\n",
    "        self._b = 11\n",
    "        self.__c = 12\n",
    "    def set_speed(self,val1):\n",
    "        print(self._b == val1) \n",
    "        \n",
    "    def get_speed(self):\n",
    "        return self.__b\n",
    "\n",
    "ob = car(10,20,30)\n",
    "ob.a\n",
    "\n",
    "\n",
    "\n",
    "        "
   ]
  },
  {
   "cell_type": "code",
   "execution_count": 19,
   "id": "52908e5e",
   "metadata": {},
   "outputs": [
    {
     "data": {
      "text/plain": [
       "11"
      ]
     },
     "execution_count": 19,
     "metadata": {},
     "output_type": "execute_result"
    }
   ],
   "source": [
    "ob._b"
   ]
  },
  {
   "cell_type": "code",
   "execution_count": 38,
   "id": "ee79c1df",
   "metadata": {},
   "outputs": [
    {
     "name": "stdout",
     "output_type": "stream",
     "text": [
      "This is the parent class\n",
      "This is the second line in main class\n",
      "This is the parent class\n",
      "This is the parent class in the child class\n",
      "This is the second line in main class\n",
      "This is the line from second child class\n"
     ]
    }
   ],
   "source": [
    "#inheritance\n",
    "class parentclass:\n",
    "    def __init__(self,a) -> None:\n",
    "        self.a = a\n",
    "        print(\"This is the parent class\")\n",
    "    def sub(self):\n",
    "        print(\"This is the second line in main class\")\n",
    "\n",
    "class childclass(parentclass):\n",
    "    def __init__(self) -> None:\n",
    "        parentclass.__init__(self,parentclass)\n",
    "        print(\"This is the parent class in the child class\")\n",
    "\n",
    "    def calfmain(self):\n",
    "        print(\"This is the line from second child class\")\n",
    "        \n",
    "        \n",
    "    \n",
    "    \n",
    "        \n",
    "s = parentclass(1) \n",
    "s.sub()   \n",
    "\n",
    "k = childclass()\n",
    "k.sub()\n",
    "k.calfmain()\n"
   ]
  },
  {
   "cell_type": "code",
   "execution_count": 10,
   "id": "2ca45336",
   "metadata": {},
   "outputs": [
    {
     "name": "stdout",
     "output_type": "stream",
     "text": [
      "The name of the grandfather is govindan\n",
      "The name of the father is Ramesh\n"
     ]
    },
    {
     "ename": "TypeError",
     "evalue": "__init__() missing 1 required positional argument: 'grandfathername'",
     "output_type": "error",
     "traceback": [
      "\u001b[1;31m---------------------------------------------------------------------------\u001b[0m",
      "\u001b[1;31mTypeError\u001b[0m                                 Traceback (most recent call last)",
      "\u001b[1;32mc:\\Users\\Lenevo\\python2.0\\python 2.0\\my-personal-codes\\larsen and turbo .ipynb Cell 22\u001b[0m in \u001b[0;36m<cell line: 26>\u001b[1;34m()\u001b[0m\n\u001b[0;32m     <a href='vscode-notebook-cell:/c%3A/Users/Lenevo/python2.0/python%202.0/my-personal-codes/larsen%20and%20turbo%20.ipynb#X30sZmlsZQ%3D%3D?line=21'>22</a>\u001b[0m         \u001b[39mself\u001b[39m\u001b[39m.\u001b[39msonname \u001b[39m=\u001b[39m sonname\n\u001b[0;32m     <a href='vscode-notebook-cell:/c%3A/Users/Lenevo/python2.0/python%202.0/my-personal-codes/larsen%20and%20turbo%20.ipynb#X30sZmlsZQ%3D%3D?line=24'>25</a>\u001b[0m g \u001b[39m=\u001b[39m grandfather(\u001b[39m\"\u001b[39m\u001b[39mgovindan\u001b[39m\u001b[39m\"\u001b[39m)\n\u001b[1;32m---> <a href='vscode-notebook-cell:/c%3A/Users/Lenevo/python2.0/python%202.0/my-personal-codes/larsen%20and%20turbo%20.ipynb#X30sZmlsZQ%3D%3D?line=25'>26</a>\u001b[0m f \u001b[39m=\u001b[39m father(\u001b[39m\"\u001b[39;49m\u001b[39mRamesh\u001b[39;49m\u001b[39m\"\u001b[39;49m)\n",
      "\u001b[1;32mc:\\Users\\Lenevo\\python2.0\\python 2.0\\my-personal-codes\\larsen and turbo .ipynb Cell 22\u001b[0m in \u001b[0;36mfather.__init__\u001b[1;34m(self, fathername)\u001b[0m\n\u001b[0;32m     <a href='vscode-notebook-cell:/c%3A/Users/Lenevo/python2.0/python%202.0/my-personal-codes/larsen%20and%20turbo%20.ipynb#X30sZmlsZQ%3D%3D?line=13'>14</a>\u001b[0m \u001b[39mself\u001b[39m\u001b[39m.\u001b[39mfathername \u001b[39m=\u001b[39m fathername\n\u001b[0;32m     <a href='vscode-notebook-cell:/c%3A/Users/Lenevo/python2.0/python%202.0/my-personal-codes/larsen%20and%20turbo%20.ipynb#X30sZmlsZQ%3D%3D?line=14'>15</a>\u001b[0m \u001b[39mprint\u001b[39m(\u001b[39mf\u001b[39m\u001b[39m\"\u001b[39m\u001b[39mThe name of the father is \u001b[39m\u001b[39m{\u001b[39;00mfathername\u001b[39m}\u001b[39;00m\u001b[39m\"\u001b[39m)\n\u001b[1;32m---> <a href='vscode-notebook-cell:/c%3A/Users/Lenevo/python2.0/python%202.0/my-personal-codes/larsen%20and%20turbo%20.ipynb#X30sZmlsZQ%3D%3D?line=16'>17</a>\u001b[0m grandfather\u001b[39m.\u001b[39;49m\u001b[39m__init__\u001b[39;49m(\u001b[39mself\u001b[39;49m)\n",
      "\u001b[1;31mTypeError\u001b[0m: __init__() missing 1 required positional argument: 'grandfathername'"
     ]
    }
   ],
   "source": [
    "#multilevel inheritance\n",
    "from cmath import sin\n",
    "\n",
    "\n",
    "class grandfather:\n",
    "    def __init__(self,grandfathername) -> None:\n",
    "        self.grandfathername = grandfathername\n",
    "        print(f'The name of the grandfather is {self.grandfathername}')\n",
    "    #def __str__(self) -> str:\n",
    "        #return(f\"The name of the grandfather is {self.grandfathername}\")\n",
    "\n",
    "class father(grandfather):\n",
    "    def __init__(self,fathername,grandfathername) -> None:\n",
    "        self.fathername = fathername\n",
    "        print(f\"The name of the father is {fathername}\")\n",
    "\n",
    "        grandfather.__init__(self,grandfathername)\n",
    "        print(\"This is name of the  \")\n",
    "        \n",
    "\n",
    "class child(father):\n",
    "    def __init__(self,sonname) -> None:\n",
    "        self.sonname = sonname\n",
    "\n",
    "    \n",
    "g = grandfather(\"govindan\")\n",
    "f = father(\"Ramesh\")\n",
    "  \n",
    "\n",
    "\n",
    "\n",
    "        \n",
    "\n",
    "    \n",
    "\n"
   ]
  },
  {
   "cell_type": "code",
   "execution_count": 7,
   "id": "8c7ffbd1",
   "metadata": {},
   "outputs": [
    {
     "name": "stdout",
     "output_type": "stream",
     "text": [
      "The element has been found at the position 0\n"
     ]
    }
   ],
   "source": [
    "#linaer search\n",
    "l = [1,2,3,4,5]\n",
    "n = int(input())\n",
    "for  i in range(len(l)):\n",
    "    if l[i] == n:\n",
    "        print(f\"The element has been found at the position {i}\")\n",
    "        break\n",
    "\n",
    "    "
   ]
  },
  {
   "cell_type": "code",
   "execution_count": 2,
   "id": "b6a5da7d",
   "metadata": {},
   "outputs": [
    {
     "name": "stdout",
     "output_type": "stream",
     "text": [
      "hello\n",
      "1\n"
     ]
    }
   ],
   "source": [
    "l = [\"hello\",1]\n",
    "for i in l:\n",
    "    print(i)"
   ]
  },
  {
   "cell_type": "code",
   "execution_count": 4,
   "id": "ff5428ac",
   "metadata": {},
   "outputs": [],
   "source": [
    "s = \"hello\""
   ]
  }
 ],
 "metadata": {
  "kernelspec": {
   "display_name": "Python 3.9.12 ('base')",
   "language": "python",
   "name": "python3"
  },
  "language_info": {
   "codemirror_mode": {
    "name": "ipython",
    "version": 3
   },
   "file_extension": ".py",
   "mimetype": "text/x-python",
   "name": "python",
   "nbconvert_exporter": "python",
   "pygments_lexer": "ipython3",
   "version": "3.9.12"
  },
  "vscode": {
   "interpreter": {
    "hash": "7cd4be3047bd5ffa4a6217a4ec9c5b806d07832cf03132b3ab007d11ed0054fa"
   }
  }
 },
 "nbformat": 4,
 "nbformat_minor": 5
}
