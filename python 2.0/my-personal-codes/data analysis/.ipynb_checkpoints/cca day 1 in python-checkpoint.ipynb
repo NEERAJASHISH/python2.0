{
 "cells": [
  {
   "cell_type": "code",
   "execution_count": 8,
   "id": "20c95216",
   "metadata": {},
   "outputs": [],
   "source": [
    "import pandas as pd\n",
    "\n",
    "\n",
    "# import the csv file directly from an s3 bucket\n",
    "data = pd.read_csv(\"CanonicalCorrelationAnalysisData.csv\")\n"
   ]
  },
  {
   "cell_type": "code",
   "execution_count": 13,
   "id": "283f1b03",
   "metadata": {},
   "outputs": [
    {
     "ename": "ModuleNotFoundError",
     "evalue": "No module named 'scikitlearn'",
     "output_type": "error",
     "traceback": [
      "\u001b[1;31m---------------------------------------------------------------------------\u001b[0m",
      "\u001b[1;31mModuleNotFoundError\u001b[0m                       Traceback (most recent call last)",
      "\u001b[1;32m<ipython-input-13-0e3114074b2e>\u001b[0m in \u001b[0;36m<module>\u001b[1;34m\u001b[0m\n\u001b[1;32m----> 1\u001b[1;33m \u001b[1;32mfrom\u001b[0m \u001b[0mscikitlearn\u001b[0m\u001b[1;33m.\u001b[0m\u001b[0mcross_decomposition\u001b[0m \u001b[1;32mimport\u001b[0m \u001b[0mCCA\u001b[0m\u001b[1;33m\u001b[0m\u001b[1;33m\u001b[0m\u001b[0m\n\u001b[0m\u001b[0;32m      2\u001b[0m \u001b[1;33m\u001b[0m\u001b[0m\n\u001b[0;32m      3\u001b[0m \u001b[1;31m# Split the data in X and Y\u001b[0m\u001b[1;33m\u001b[0m\u001b[1;33m\u001b[0m\u001b[1;33m\u001b[0m\u001b[0m\n\u001b[0;32m      4\u001b[0m \u001b[0mX\u001b[0m \u001b[1;33m=\u001b[0m \u001b[0mdata\u001b[0m\u001b[1;33m[\u001b[0m\u001b[1;33m[\u001b[0m\u001b[1;34m'PsychTest1'\u001b[0m\u001b[1;33m,\u001b[0m \u001b[1;34m'PsychTest2'\u001b[0m\u001b[1;33m,\u001b[0m \u001b[1;34m'YrsEdu'\u001b[0m\u001b[1;33m,\u001b[0m \u001b[1;34m'IQ'\u001b[0m\u001b[1;33m,\u001b[0m \u001b[1;34m'HrsTrn'\u001b[0m\u001b[1;33m,\u001b[0m \u001b[1;34m'HrsWrk'\u001b[0m\u001b[1;33m]\u001b[0m\u001b[1;33m]\u001b[0m\u001b[1;33m\u001b[0m\u001b[1;33m\u001b[0m\u001b[0m\n\u001b[0;32m      5\u001b[0m \u001b[0mY\u001b[0m \u001b[1;33m=\u001b[0m \u001b[0mdata\u001b[0m\u001b[1;33m[\u001b[0m\u001b[1;33m[\u001b[0m\u001b[1;34m'ClientSat'\u001b[0m\u001b[1;33m,\u001b[0m  \u001b[1;34m'SuperSat'\u001b[0m\u001b[1;33m,\u001b[0m     \u001b[1;34m'ProjCompl'\u001b[0m\u001b[1;33m]\u001b[0m\u001b[1;33m]\u001b[0m\u001b[1;33m\u001b[0m\u001b[1;33m\u001b[0m\u001b[0m\n",
      "\u001b[1;31mModuleNotFoundError\u001b[0m: No module named 'scikitlearn'"
     ]
    }
   ],
   "source": [
    "from scikitlearn.cross_decomposition import CCA\n",
    "\n",
    "# Split the data in X and Y\n",
    "X = data[['PsychTest1',\t'PsychTest2', 'YrsEdu', 'IQ', 'HrsTrn', 'HrsWrk']]\n",
    "Y = data[['ClientSat',\t'SuperSat',\t'ProjCompl']]\n",
    "\n",
    "# Instantiate the Canonical Correlation Analysis with 2 components\n",
    "my_cca = CCA(n_components=2)\n",
    "\n",
    "# Fit the model\n",
    "my_cca.fit(X, Y)"
   ]
  },
  {
   "cell_type": "code",
   "execution_count": 14,
   "id": "43f9d1b6",
   "metadata": {},
   "outputs": [
    {
     "ename": "SyntaxError",
     "evalue": "invalid syntax (<ipython-input-14-c41d1cb58a9b>, line 1)",
     "output_type": "error",
     "traceback": [
      "\u001b[1;36m  File \u001b[1;32m\"<ipython-input-14-c41d1cb58a9b>\"\u001b[1;36m, line \u001b[1;32m1\u001b[0m\n\u001b[1;33m    sudo yum -y update\u001b[0m\n\u001b[1;37m         ^\u001b[0m\n\u001b[1;31mSyntaxError\u001b[0m\u001b[1;31m:\u001b[0m invalid syntax\n"
     ]
    }
   ],
   "source": [
    "sudo yum -y update\n"
   ]
  },
  {
   "cell_type": "code",
   "execution_count": 19,
   "id": "3e3d5c64",
   "metadata": {},
   "outputs": [
    {
     "name": "stdout",
     "output_type": "stream",
     "text": [
      "Requirement already satisfied: fsspec in c:\\users\\user\\anaconda3\\lib\\site-packages (2021.11.1)\n",
      "Requirement already satisfied: s3fs in c:\\users\\user\\anaconda3\\lib\\site-packages (2021.11.1)\n",
      "Requirement already satisfied: aiobotocore~=2.0.1 in c:\\users\\user\\anaconda3\\lib\\site-packages (from s3fs) (2.0.1)\n",
      "Requirement already satisfied: aiohttp<=4 in c:\\users\\user\\anaconda3\\lib\\site-packages (from s3fs) (3.8.1)\n",
      "Requirement already satisfied: fsspec==2021.11.1 in c:\\users\\user\\anaconda3\\lib\\site-packages (from s3fs) (2021.11.1)\n",
      "Requirement already satisfied: wrapt>=1.10.10 in c:\\users\\user\\anaconda3\\lib\\site-packages (from aiobotocore~=2.0.1->s3fs) (1.12.1)\n",
      "Requirement already satisfied: botocore<1.22.9,>=1.22.8 in c:\\users\\user\\anaconda3\\lib\\site-packages (from aiobotocore~=2.0.1->s3fs) (1.22.8)\n",
      "Requirement already satisfied: aioitertools>=0.5.1 in c:\\users\\user\\anaconda3\\lib\\site-packages (from aiobotocore~=2.0.1->s3fs) (0.8.0)\n",
      "Requirement already satisfied: async-timeout<5.0,>=4.0.0a3 in c:\\users\\user\\anaconda3\\lib\\site-packages (from aiohttp<=4->s3fs) (4.0.1)\n",
      "Requirement already satisfied: yarl<2.0,>=1.0 in c:\\users\\user\\anaconda3\\lib\\site-packages (from aiohttp<=4->s3fs) (1.7.2)\n",
      "Requirement already satisfied: attrs>=17.3.0 in c:\\users\\user\\anaconda3\\lib\\site-packages (from aiohttp<=4->s3fs) (21.2.0)\n",
      "Requirement already satisfied: charset-normalizer<3.0,>=2.0 in c:\\users\\user\\anaconda3\\lib\\site-packages (from aiohttp<=4->s3fs) (2.0.8)\n",
      "Requirement already satisfied: frozenlist>=1.1.1 in c:\\users\\user\\anaconda3\\lib\\site-packages (from aiohttp<=4->s3fs) (1.2.0)\n",
      "Requirement already satisfied: multidict<7.0,>=4.5 in c:\\users\\user\\anaconda3\\lib\\site-packages (from aiohttp<=4->s3fs) (5.2.0)\n",
      "Requirement already satisfied: aiosignal>=1.1.2 in c:\\users\\user\\anaconda3\\lib\\site-packages (from aiohttp<=4->s3fs) (1.2.0)\n",
      "Requirement already satisfied: typing-extensions>=3.6.5 in c:\\users\\user\\anaconda3\\lib\\site-packages (from async-timeout<5.0,>=4.0.0a3->aiohttp<=4->s3fs) (4.0.1)\n",
      "Requirement already satisfied: python-dateutil<3.0.0,>=2.1 in c:\\users\\user\\anaconda3\\lib\\site-packages (from botocore<1.22.9,>=1.22.8->aiobotocore~=2.0.1->s3fs) (2.8.2)\n",
      "Requirement already satisfied: urllib3<1.27,>=1.25.4 in c:\\users\\user\\anaconda3\\lib\\site-packages (from botocore<1.22.9,>=1.22.8->aiobotocore~=2.0.1->s3fs) (1.26.6)\n",
      "Requirement already satisfied: jmespath<1.0.0,>=0.7.1 in c:\\users\\user\\anaconda3\\lib\\site-packages (from botocore<1.22.9,>=1.22.8->aiobotocore~=2.0.1->s3fs) (0.10.0)\n",
      "Requirement already satisfied: six>=1.5 in c:\\users\\user\\anaconda3\\lib\\site-packages (from python-dateutil<3.0.0,>=2.1->botocore<1.22.9,>=1.22.8->aiobotocore~=2.0.1->s3fs) (1.16.0)\n",
      "Requirement already satisfied: idna>=2.0 in c:\\users\\user\\anaconda3\\lib\\site-packages (from yarl<2.0,>=1.0->aiohttp<=4->s3fs) (2.10)\n",
      "Requirement already satisfied: boto in c:\\users\\user\\anaconda3\\lib\\site-packages (2.49.0)\n"
     ]
    }
   ],
   "source": [
    "!pip install fsspec\n",
    "!pip install s3fs\n",
    "!pip install boto\n",
    "\n",
    "import pandas as pd\n",
    "import boto\n",
    "\n",
    "# import the csv file directly from an s3 bucket\n",
    "data = pd.read_csv('CanonicalCorrelationAnalysisData.csv')"
   ]
  },
  {
   "cell_type": "code",
   "execution_count": 20,
   "id": "b18df8ce",
   "metadata": {},
   "outputs": [
    {
     "ename": "ModuleNotFoundError",
     "evalue": "No module named 'sklearn'",
     "output_type": "error",
     "traceback": [
      "\u001b[1;31m---------------------------------------------------------------------------\u001b[0m",
      "\u001b[1;31mModuleNotFoundError\u001b[0m                       Traceback (most recent call last)",
      "\u001b[1;32m<ipython-input-20-34d05d1fa352>\u001b[0m in \u001b[0;36m<module>\u001b[1;34m\u001b[0m\n\u001b[1;32m----> 1\u001b[1;33m \u001b[1;32mfrom\u001b[0m \u001b[0msklearn\u001b[0m\u001b[1;33m.\u001b[0m\u001b[0mcross_decomposition\u001b[0m \u001b[1;32mimport\u001b[0m \u001b[0mCCA\u001b[0m\u001b[1;33m\u001b[0m\u001b[1;33m\u001b[0m\u001b[0m\n\u001b[0m\u001b[0;32m      2\u001b[0m \u001b[1;33m\u001b[0m\u001b[0m\n\u001b[0;32m      3\u001b[0m \u001b[1;31m# Split the data in X and Y\u001b[0m\u001b[1;33m\u001b[0m\u001b[1;33m\u001b[0m\u001b[1;33m\u001b[0m\u001b[0m\n\u001b[0;32m      4\u001b[0m \u001b[0mX\u001b[0m \u001b[1;33m=\u001b[0m \u001b[0mdata\u001b[0m\u001b[1;33m[\u001b[0m\u001b[1;33m[\u001b[0m\u001b[1;34m'PsychTest1'\u001b[0m\u001b[1;33m,\u001b[0m \u001b[1;34m'PsychTest2'\u001b[0m\u001b[1;33m,\u001b[0m \u001b[1;34m'YrsEdu'\u001b[0m\u001b[1;33m,\u001b[0m \u001b[1;34m'IQ'\u001b[0m\u001b[1;33m,\u001b[0m \u001b[1;34m'HrsTrn'\u001b[0m\u001b[1;33m,\u001b[0m \u001b[1;34m'HrsWrk'\u001b[0m\u001b[1;33m]\u001b[0m\u001b[1;33m]\u001b[0m\u001b[1;33m\u001b[0m\u001b[1;33m\u001b[0m\u001b[0m\n\u001b[0;32m      5\u001b[0m \u001b[0mY\u001b[0m \u001b[1;33m=\u001b[0m \u001b[0mdata\u001b[0m\u001b[1;33m[\u001b[0m\u001b[1;33m[\u001b[0m\u001b[1;34m'ClientSat'\u001b[0m\u001b[1;33m,\u001b[0m  \u001b[1;34m'SuperSat'\u001b[0m\u001b[1;33m,\u001b[0m     \u001b[1;34m'ProjCompl'\u001b[0m\u001b[1;33m]\u001b[0m\u001b[1;33m]\u001b[0m\u001b[1;33m\u001b[0m\u001b[1;33m\u001b[0m\u001b[0m\n",
      "\u001b[1;31mModuleNotFoundError\u001b[0m: No module named 'sklearn'"
     ]
    }
   ],
   "source": [
    "from sklearn.cross_decomposition import CCA\n",
    "\n",
    "# Split the data in X and Y\n",
    "X = data[['PsychTest1',\t'PsychTest2', 'YrsEdu', 'IQ', 'HrsTrn', 'HrsWrk']]\n",
    "Y = data[['ClientSat',\t'SuperSat',\t'ProjCompl']]\n",
    "\n",
    "# Instantiate the Canonical Correlation Analysis with 2 components\n",
    "my_cca = CCA(n_components=2)\n",
    "\n",
    "# Fit the model\n",
    "my_cca.fit(X, Y)"
   ]
  },
  {
   "cell_type": "code",
   "execution_count": null,
   "id": "ec6978c8",
   "metadata": {},
   "outputs": [],
   "source": []
  },
  {
   "cell_type": "code",
   "execution_count": null,
   "id": "05dd3b0f",
   "metadata": {},
   "outputs": [],
   "source": []
  }
 ],
 "metadata": {
  "kernelspec": {
   "display_name": "Python 3 (ipykernel)",
   "language": "python",
   "name": "python3"
  },
  "language_info": {
   "codemirror_mode": {
    "name": "ipython",
    "version": 3
   },
   "file_extension": ".py",
   "mimetype": "text/x-python",
   "name": "python",
   "nbconvert_exporter": "python",
   "pygments_lexer": "ipython3",
   "version": "3.9.12"
  }
 },
 "nbformat": 4,
 "nbformat_minor": 5
}
