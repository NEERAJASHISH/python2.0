{
 "cells": [
  {
   "cell_type": "code",
   "execution_count": 1,
   "id": "6bd156de",
   "metadata": {},
   "outputs": [],
   "source": [
    "n = int(input(\"Enter the input number:\"))\n",
    "if n%2!=0:\n",
    "    print(\"wierd\")\n",
    "elif n%2==0 and n in range(2,6):\n",
    "    print(\"not wierd\")\n",
    "elif n%2==0 and n in range(6,20):\n",
    "    print('wierd')\n",
    "elif n%2==0 and n>20:\n",
    "    print('not wierd')\n"
   ]
  },
  {
   "cell_type": "code",
   "execution_count": null,
   "id": "8ba1e15e",
   "metadata": {},
   "outputs": [
    {
     "name": "stdout",
     "output_type": "stream",
     "text": [
      "100\n",
      "not in range\n"
     ]
    }
   ],
   "source": [
    "k = int(input())\n",
    "if k in range(0,10):\n",
    "    print('correct')\n",
    "else:\n",
    "    print(\"not in range\")"
   ]
  },
  {
   "cell_type": "code",
   "execution_count": null,
   "id": "ec18a421",
   "metadata": {},
   "outputs": [],
   "source": [
    "###"
   ]
  },
  {
   "cell_type": "code",
   "execution_count": null,
   "id": "745cc149",
   "metadata": {},
   "outputs": [
    {
     "data": {
      "text/plain": [
       "'hello_how_are_you'"
      ]
     },
     "execution_count": 23,
     "metadata": {},
     "output_type": "execute_result"
    }
   ],
   "source": [
    "k = \"hello how are you\"\n",
    "s = k.split()\n",
    "a = \"_\"\n",
    "r = a.join(s)\n",
    "r"
   ]
  },
  {
   "cell_type": "code",
   "execution_count": null,
   "id": "2aa108aa",
   "metadata": {},
   "outputs": [
    {
     "name": "stdout",
     "output_type": "stream",
     "text": [
      "this is a string\n",
      "this-is-a-string\n"
     ]
    }
   ],
   "source": [
    "def split_and_join(line):\n",
    "    line = line.split()\n",
    "    a = \"-\"\n",
    "    a = a.join(line)\n",
    "    return(a)\n",
    "    \n",
    "    \n",
    "    \n",
    "\n",
    "if __name__ == '__main__':\n",
    "    line = input()\n",
    "    result = split_and_join(line)\n",
    "    print(result)"
   ]
  },
  {
   "cell_type": "code",
   "execution_count": null,
   "id": "5c92c65d",
   "metadata": {},
   "outputs": [],
   "source": [
    "def acc(r,unit,arr):\n",
    "    r = r+1\n",
    "    unit = unit + 1\n",
    "    print(arr)\n",
    "    \n",
    "k = int(input(\"Enter the array:\"))\n",
    "s = int(input(\"enter the array config\"))\n",
    "f = \n",
    "    "
   ]
  },
  {
   "cell_type": "code",
   "execution_count": null,
   "id": "9f6d89ca",
   "metadata": {},
   "outputs": [
    {
     "name": "stdout",
     "output_type": "stream",
     "text": [
      "Enter number of elements : 3\n",
      "\n",
      "Enter the numbers : 1 2 3 4 5 6 7 7\n",
      "\n",
      "List is -  [1, 2, 3]\n"
     ]
    }
   ],
   "source": [
    "# number of elements \n",
    "n = int(input(\"Enter number of elements : \")) \n",
    "  \n",
    "# Below line read inputs from user using map() function  \n",
    "a = list(map(int,input(\"\\nEnter the numbers : \").strip().split()))[:n] \n",
    "  \n",
    "print(\"\\nList is - \", a)\n",
    "\n"
   ]
  },
  {
   "cell_type": "code",
   "execution_count": null,
   "id": "e31b9903",
   "metadata": {},
   "outputs": [
    {
     "name": "stdout",
     "output_type": "stream",
     "text": [
      "Enter the number of element3\n",
      "Entert the numbers123456\n"
     ]
    },
    {
     "data": {
      "text/plain": [
       "[1, 2, 3, 4, 5, 6]"
      ]
     },
     "execution_count": 88,
     "metadata": {},
     "output_type": "execute_result"
    }
   ],
   "source": [
    "s = int(input(\"Enter the number of element\"))\n",
    "l = list(map(int,input(\"Entert the numbers\")))\n",
    "l"
   ]
  },
  {
   "cell_type": "code",
   "execution_count": null,
   "id": "2ad647aa",
   "metadata": {},
   "outputs": [
    {
     "name": "stdout",
     "output_type": "stream",
     "text": [
      "12344\n",
      "Entert the numbers122444\n"
     ]
    },
    {
     "data": {
      "text/plain": [
       "[122444]"
      ]
     },
     "execution_count": 49,
     "metadata": {},
     "output_type": "execute_result"
    }
   ],
   "source": [
    "n = int(input())\n",
    "l = list(map(int,input(\"Entert the numbers\").strip().split()))[:n] # important syntax\n",
    "l"
   ]
  },
  {
   "cell_type": "code",
   "execution_count": null,
   "id": "7b0aa5ff",
   "metadata": {
    "scrolled": true
   },
   "outputs": [
    {
     "name": "stdout",
     "output_type": "stream",
     "text": [
      "enter the number of input:\n",
      "2\n",
      "Enter the numbers\n",
      "1 2 3 4\n"
     ]
    }
   ],
   "source": [
    "#practise\n",
    "k = int(input(\"enter the number of input:\\n\"))\n",
    "s = list(map(int,input(\"Enter the numbers\\n\").strip().split()))[:k] #it takes the argument within the k specified numbers\n",
    "\n",
    "\n",
    "\n",
    "\n",
    "\n",
    "                "
   ]
  },
  {
   "cell_type": "code",
   "execution_count": null,
   "id": "33dca70c",
   "metadata": {},
   "outputs": [],
   "source": [
    "#important function to be noted"
   ]
  },
  {
   "cell_type": "code",
   "execution_count": null,
   "id": "7bbf2b36",
   "metadata": {},
   "outputs": [
    {
     "name": "stdout",
     "output_type": "stream",
     "text": [
      "0\n",
      "1\n",
      "2\n",
      "3\n",
      "4\n",
      "5\n",
      "6\n",
      "7\n",
      "8\n",
      "9\n"
     ]
    }
   ],
   "source": [
    "#passing array as argumnet to the function\n",
    "def arr(a):\n",
    "    l = len(a)\n",
    "    for i in range(l):\n",
    "        print(a[i])\n",
    "    \n",
    "arr(range(10))"
   ]
  },
  {
   "cell_type": "code",
   "execution_count": null,
   "id": "1e1c864b",
   "metadata": {},
   "outputs": [
    {
     "name": "stdout",
     "output_type": "stream",
     "text": [
      "Enter the number of rats\n",
      "10\n",
      "The amount of food present\n",
      "5\n",
      "Enter the length of the array\n",
      "6\n",
      "Enter the food present in the houses\n",
      "123456\n",
      "[123456]\n",
      "50\n",
      "0\n"
     ]
    }
   ],
   "source": [
    "#accenture question\n",
    "def rat(r,unit,arr,n):\n",
    "    sumer = 0\n",
    "                         \n",
    "    total = r*unit\n",
    "    print(total)\n",
    "    if len(arr) == 0:\n",
    "        return(-1)\n",
    "    if sum(arr) < total:\n",
    "        return(0)\n",
    "    for i in range(len(arr)):\n",
    "        sumer = sumer + arr[i]\n",
    "        if sumer > total:\n",
    "            print(i+1)\n",
    "            break\n",
    "re = int(input(\"Enter the number of rats\\n\"))\n",
    "unite = int(input(\"The amount of food present\\n\"))\n",
    "ne = int(input(\"Enter the length of the array\\n\"))\n",
    "are = list(map(int,input(\"Enter the food present in the houses\\n\").split()))\n",
    "print(are)\n",
    "rat(re,unite,are,ne)\n",
    "    \n",
    "    \n",
    "    \n",
    "    \n"
   ]
  },
  {
   "cell_type": "code",
   "execution_count": null,
   "id": "1eb18561",
   "metadata": {},
   "outputs": [
    {
     "name": "stdout",
     "output_type": "stream",
     "text": [
      "12\n"
     ]
    }
   ],
   "source": [
    "arr = range(12)\n",
    "if len(arr) != 0:\n",
    "    print(len(arr))"
   ]
  },
  {
   "cell_type": "code",
   "execution_count": null,
   "id": "b600a064",
   "metadata": {},
   "outputs": [
    {
     "data": {
      "text/plain": [
       "10"
      ]
     },
     "execution_count": 73,
     "metadata": {},
     "output_type": "execute_result"
    }
   ],
   "source": [
    "s = range(5)\n",
    "p = sum(s)\n",
    "p"
   ]
  },
  {
   "cell_type": "code",
   "execution_count": null,
   "id": "e3aa1b69",
   "metadata": {},
   "outputs": [
    {
     "data": {
      "text/plain": [
       "10"
      ]
     },
     "execution_count": 75,
     "metadata": {},
     "output_type": "execute_result"
    }
   ],
   "source": [
    "s = 0+1+2+3+4\n",
    "s"
   ]
  },
  {
   "cell_type": "code",
   "execution_count": null,
   "id": "142b2820",
   "metadata": {},
   "outputs": [
    {
     "name": "stdout",
     "output_type": "stream",
     "text": [
      "1\n",
      "3\n",
      "6\n",
      "10\n",
      "15\n",
      "21\n",
      "28\n"
     ]
    }
   ],
   "source": [
    "l = [1,2,3,4,5,6,7]\n",
    "c = 0\n",
    "for i in range(len(l)):\n",
    "    c = c + l[i]\n",
    "    print(c)\n",
    "    "
   ]
  },
  {
   "cell_type": "code",
   "execution_count": null,
   "id": "817bf938",
   "metadata": {},
   "outputs": [],
   "source": [
    "#binary numnber system"
   ]
  },
  {
   "cell_type": "code",
   "execution_count": 7,
   "id": "3282949b",
   "metadata": {},
   "outputs": [
    {
     "name": "stdout",
     "output_type": "stream",
     "text": [
      "hello\n"
     ]
    },
    {
     "data": {
      "text/plain": [
       "['hello']"
      ]
     },
     "execution_count": 7,
     "metadata": {},
     "output_type": "execute_result"
    }
   ],
   "source": [
    "v = list(map(str,input().split()))\n",
    "v\n",
    "\n",
    "    \n",
    "    \n",
    "    \n",
    "    \n",
    "    \n",
    "\n",
    "\n",
    "\n",
    "\n",
    "\n",
    "\n",
    "\n"
   ]
  },
  {
   "cell_type": "code",
   "execution_count": null,
   "id": "e10763c0",
   "metadata": {},
   "outputs": [],
   "source": []
  },
  {
   "cell_type": "code",
   "execution_count": null,
   "id": "0ccfb9df",
   "metadata": {},
   "outputs": [
    {
     "data": {
      "text/plain": [
       "1"
      ]
     },
     "execution_count": 11,
     "metadata": {},
     "output_type": "execute_result"
    }
   ],
   "source": [
    "p = 1 ^ 0\n",
    "p"
   ]
  },
  {
   "cell_type": "code",
   "execution_count": null,
   "id": "ca820e59",
   "metadata": {},
   "outputs": [
    {
     "name": "stdout",
     "output_type": "stream",
     "text": [
      "010101\n",
      "101101\n",
      "3\n"
     ]
    }
   ],
   "source": [
    "l = list(map(int,input()))\n",
    "l1  = list(map(int,input()))\n",
    "count = 0\n",
    "i = 0\n",
    "ml = max(len(l),len(l1))\n",
    "\n",
    "while(i<ml):\n",
    "    if l[i] == l1[i]:\n",
    "        count = count + 1\n",
    "        \n",
    "    \n",
    "    i = i+1\n",
    "    \n",
    "        \n",
    "    \n",
    "    \n",
    "    \n",
    "    \n",
    "    \n",
    "    \n",
    "            \n",
    "print(count)\n",
    "            \n",
    "\n",
    "\n",
    "    \n",
    "    \n",
    "    \n",
    "\n"
   ]
  },
  {
   "cell_type": "code",
   "execution_count": null,
   "id": "3e650ef3",
   "metadata": {},
   "outputs": [],
   "source": [
    "# the real code goes here\n"
   ]
  },
  {
   "cell_type": "code",
   "execution_count": null,
   "id": "bd8789ab",
   "metadata": {
    "scrolled": true
   },
   "outputs": [
    {
     "name": "stdout",
     "output_type": "stream",
     "text": [
      "3 2\n",
      "1 5 3\n",
      "3 1\n",
      "5 7\n",
      "1\n"
     ]
    }
   ],
   "source": [
    "T = list(map(int,input().strip().split()))\n",
    "n = list(map(int,input().strip().split()))[:T[0]]\n",
    "A = list(map(int,input().strip().split()))[:T[1]]\n",
    "B = list(map(int,input().strip().split()))[:T[1]]\n",
    "like = 0\n",
    "\n",
    "for i in n:\n",
    "    for j in A:\n",
    "        if i == j:\n",
    "            like = like + 1\n",
    "        \n",
    "        \n",
    "for k in n:\n",
    "    for c in B:\n",
    "        if k == c:\n",
    "            like = like-1\n",
    "            \n",
    "            \n",
    "            \n",
    "        \n",
    "        \n",
    "        \n",
    "print(like)\n",
    "\n",
    "\n",
    "\n"
   ]
  },
  {
   "cell_type": "code",
   "execution_count": null,
   "id": "c842a832",
   "metadata": {},
   "outputs": [
    {
     "name": "stdout",
     "output_type": "stream",
     "text": [
      "3 2\n",
      "1 5 3\n",
      "3 1\n",
      "5 7\n",
      "1\n"
     ]
    }
   ],
   "source": [
    "n1,m1 = map(int,input().split())\n",
    "N = list(map(int,input().strip().split()))[:n1]\n",
    "a = list(map(int,input().strip().split()))[:m1]\n",
    "b = list(map(int,input().strip().split()))[:m1]\n",
    "like = 0\n",
    "i = 0\n",
    "while i < len(N):\n",
    "    if N[i] in a:\n",
    "        like += 1\n",
    "    elif N[i] in b:\n",
    "        like -= 1\n",
    "        \n",
    "    i+=1\n",
    "print(like)\n",
    "\n",
    "\n"
   ]
  },
  {
   "cell_type": "code",
   "execution_count": null,
   "id": "2651ef85",
   "metadata": {},
   "outputs": [],
   "source": [
    "l = [1,2,3,4]\n",
    "l2 = [3,4,5,6]\n",
    "for i  in l:\n",
    "    h = list(map())\n"
   ]
  },
  {
   "cell_type": "code",
   "execution_count": null,
   "id": "447a83c6",
   "metadata": {},
   "outputs": [],
   "source": [
    "squares = map(lambda x:x*x,numbers)"
   ]
  },
  {
   "cell_type": "code",
   "execution_count": null,
   "id": "47e80051",
   "metadata": {},
   "outputs": [
    {
     "name": "stdout",
     "output_type": "stream",
     "text": [
      "504\n"
     ]
    }
   ],
   "source": [
    "x = lambda a, b,c: a * b *c\n",
    "print(x(7,8,9))"
   ]
  },
  {
   "cell_type": "code",
   "execution_count": null,
   "id": "d60d035a",
   "metadata": {},
   "outputs": [
    {
     "name": "stdout",
     "output_type": "stream",
     "text": [
      "222\n"
     ]
    }
   ],
   "source": [
    "def myfunc(n):\n",
    "    \n",
    "  return lambda a : a * n\n",
    "\n",
    "mydoubler = myfunc(2)\n",
    "\n",
    "print(mydoubler(111))"
   ]
  },
  {
   "cell_type": "code",
   "execution_count": null,
   "id": "529a367c",
   "metadata": {},
   "outputs": [
    {
     "data": {
      "text/plain": [
       "144"
      ]
     },
     "execution_count": 6,
     "metadata": {},
     "output_type": "execute_result"
    }
   ],
   "source": [
    "x = lambda a : a*a\n",
    "x(12)"
   ]
  },
  {
   "cell_type": "code",
   "execution_count": null,
   "id": "70920f4c",
   "metadata": {},
   "outputs": [
    {
     "data": {
      "text/plain": [
       "24"
      ]
     },
     "execution_count": 12,
     "metadata": {},
     "output_type": "execute_result"
    }
   ],
   "source": [
    "def ccc(n):\n",
    "    x = lambda s : s * n\n",
    "    return(x)\n",
    "z = ccc(2)\n",
    "z(12)\n",
    "\n",
    "\n",
    "    "
   ]
  },
  {
   "cell_type": "code",
   "execution_count": null,
   "id": "58068df3",
   "metadata": {},
   "outputs": [],
   "source": [
    "import itertools\n",
    "itertools.groupby()"
   ]
  },
  {
   "cell_type": "code",
   "execution_count": null,
   "id": "36d43ad6",
   "metadata": {},
   "outputs": [
    {
     "data": {
      "text/plain": [
       "6"
      ]
     },
     "execution_count": 2,
     "metadata": {},
     "output_type": "execute_result"
    }
   ],
   "source": [
    "import operator\n",
    "s = operator.mul(2,3)\n",
    "s\n"
   ]
  },
  {
   "cell_type": "code",
   "execution_count": null,
   "id": "961c32f6",
   "metadata": {},
   "outputs": [],
   "source": []
  },
  {
   "cell_type": "code",
   "execution_count": null,
   "id": "aa3b01a2",
   "metadata": {},
   "outputs": [],
   "source": []
  },
  {
   "cell_type": "code",
   "execution_count": null,
   "id": "90791505",
   "metadata": {},
   "outputs": [],
   "source": []
  },
  {
   "cell_type": "code",
   "execution_count": null,
   "id": "74c6cde2",
   "metadata": {},
   "outputs": [],
   "source": []
  },
  {
   "cell_type": "code",
   "execution_count": null,
   "id": "fd071ee9",
   "metadata": {},
   "outputs": [],
   "source": []
  },
  {
   "cell_type": "code",
   "execution_count": null,
   "id": "41e28bee",
   "metadata": {},
   "outputs": [],
   "source": []
  },
  {
   "cell_type": "code",
   "execution_count": null,
   "id": "c751600e",
   "metadata": {},
   "outputs": [],
   "source": []
  },
  {
   "cell_type": "code",
   "execution_count": null,
   "id": "e9e994f7",
   "metadata": {},
   "outputs": [],
   "source": []
  },
  {
   "cell_type": "code",
   "execution_count": null,
   "id": "e6b1d23e",
   "metadata": {},
   "outputs": [],
   "source": []
  },
  {
   "cell_type": "code",
   "execution_count": null,
   "id": "b33a3e83",
   "metadata": {},
   "outputs": [],
   "source": []
  },
  {
   "cell_type": "code",
   "execution_count": null,
   "id": "0a5714de",
   "metadata": {},
   "outputs": [],
   "source": []
  },
  {
   "cell_type": "code",
   "execution_count": null,
   "id": "a29ffbdb",
   "metadata": {},
   "outputs": [],
   "source": []
  },
  {
   "cell_type": "code",
   "execution_count": null,
   "id": "c5016f24",
   "metadata": {},
   "outputs": [],
   "source": []
  },
  {
   "cell_type": "code",
   "execution_count": null,
   "id": "7f3e5e52",
   "metadata": {},
   "outputs": [],
   "source": []
  },
  {
   "cell_type": "code",
   "execution_count": null,
   "id": "153a65b6",
   "metadata": {},
   "outputs": [],
   "source": []
  },
  {
   "cell_type": "code",
   "execution_count": null,
   "id": "02edd6f6",
   "metadata": {},
   "outputs": [],
   "source": []
  },
  {
   "cell_type": "code",
   "execution_count": null,
   "id": "b36140de",
   "metadata": {},
   "outputs": [],
   "source": []
  },
  {
   "cell_type": "code",
   "execution_count": null,
   "id": "4327621b",
   "metadata": {},
   "outputs": [],
   "source": []
  },
  {
   "cell_type": "code",
   "execution_count": null,
   "id": "a1fae98e",
   "metadata": {},
   "outputs": [],
   "source": []
  },
  {
   "cell_type": "code",
   "execution_count": null,
   "id": "fed113ed",
   "metadata": {},
   "outputs": [],
   "source": []
  },
  {
   "cell_type": "code",
   "execution_count": null,
   "id": "d64e2c1e",
   "metadata": {},
   "outputs": [],
   "source": []
  },
  {
   "cell_type": "code",
   "execution_count": null,
   "id": "91e0402c",
   "metadata": {},
   "outputs": [],
   "source": []
  }
 ],
 "metadata": {
  "kernelspec": {
   "display_name": "Python 3",
   "language": "python",
   "name": "python3"
  },
  "language_info": {
   "codemirror_mode": {
    "name": "ipython",
    "version": 3
   },
   "file_extension": ".py",
   "mimetype": "text/x-python",
   "name": "python",
   "nbconvert_exporter": "python",
   "pygments_lexer": "ipython3",
   "version": "3.8.8"
  },
  "vscode": {
   "interpreter": {
    "hash": "7cd4be3047bd5ffa4a6217a4ec9c5b806d07832cf03132b3ab007d11ed0054fa"
   }
  }
 },
 "nbformat": 4,
 "nbformat_minor": 5
}
