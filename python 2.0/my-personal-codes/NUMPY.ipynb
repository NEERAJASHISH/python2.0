{
 "cells": [
  {
   "cell_type": "code",
   "execution_count": 3,
   "id": "61ce9f39",
   "metadata": {},
   "outputs": [],
   "source": [
    "import numpy as np"
   ]
  },
  {
   "cell_type": "code",
   "execution_count": 2,
   "id": "9ce422c4",
   "metadata": {},
   "outputs": [
    {
     "name": "stdout",
     "output_type": "stream",
     "text": [
      "[1 2 3]\n",
      "(3,)\n",
      "3\n",
      "1\n"
     ]
    }
   ],
   "source": [
    "a1 = np.array([1,2,3]) #one dimensional array\n",
    "print(a1)\n",
    "print(a1.shape)\n",
    "print(a1.size)\n",
    "print(a1.ndim)"
   ]
  },
  {
   "cell_type": "code",
   "execution_count": 3,
   "id": "4e7109c8",
   "metadata": {},
   "outputs": [
    {
     "name": "stdout",
     "output_type": "stream",
     "text": [
      "[[1 2 3]\n",
      " [4 5 6]]\n",
      "2\n",
      "6\n",
      "(2, 3)\n"
     ]
    }
   ],
   "source": [
    "ex1 = np.array([[1,2,3],[4,5,6]])\n",
    "print(ex1)\n",
    "print(ex1.ndim)\n",
    "print(ex1.size)\n",
    "print(ex1.shape)\n"
   ]
  },
  {
   "cell_type": "code",
   "execution_count": 4,
   "id": "c4588866",
   "metadata": {},
   "outputs": [
    {
     "name": "stdout",
     "output_type": "stream",
     "text": [
      "[[1 2 3]\n",
      " [4 5 6]]\n",
      "(2, 3)\n",
      "6\n"
     ]
    }
   ],
   "source": [
    "a2  = np.array([[1,2,3],\n",
    "               [4,5,6]]) \n",
    "print(a2)\n",
    "print(a2.shape)\n",
    "print(a2.size)\n"
   ]
  },
  {
   "cell_type": "code",
   "execution_count": 5,
   "id": "c091fe3f",
   "metadata": {},
   "outputs": [
    {
     "name": "stdout",
     "output_type": "stream",
     "text": [
      "[[[ 1  2  3]\n",
      "  [ 4  5  6]\n",
      "  [ 7  8  9]\n",
      "  [67 89 99]]\n",
      "\n",
      " [[10 11 12]\n",
      "  [13 14 15]\n",
      "  [16 17 18]\n",
      "  [19 20 21]]]\n",
      "(2, 4, 3)\n",
      "24\n",
      "3\n"
     ]
    }
   ],
   "source": [
    "a3 = np.array([[[1,2,3],\n",
    "                [4,5,6],\n",
    "                [7,8,9],\n",
    "                [67,89,99]],\n",
    "              [[10,11,12],\n",
    "               [13,14,15],\n",
    "               [16,17,18],\n",
    "               [19,20,21]]])\n",
    "              \n",
    "print(a3)\n",
    "print(a3.shape)\n",
    "print(a3.size)\n",
    "print(a3.ndim)\n"
   ]
  },
  {
   "cell_type": "code",
   "execution_count": 6,
   "id": "3c59dee2",
   "metadata": {},
   "outputs": [
    {
     "name": "stdout",
     "output_type": "stream",
     "text": [
      "[[[1 2 3]\n",
      "  [4 5 6]\n",
      "  [7 8 9]]\n",
      "\n",
      " [[1 2 3]\n",
      "  [4 5 6]\n",
      "  [7 8 9]]\n",
      "\n",
      " [[1 2 3]\n",
      "  [4 5 6]\n",
      "  [7 8 9]]]\n",
      "(3, 3, 3)\n",
      "3\n"
     ]
    }
   ],
   "source": [
    "a4 = np.array([\n",
    "    [[1,2,3],[4,5,6],[7,8,9]],\n",
    "    [[1,2,3],[4,5,6],[7,8,9]],\n",
    "    [[1,2,3],[4,5,6],[7,8,9]]\n",
    "])\n",
    "print(a4)\n",
    "print(a4.shape)\n",
    "print(a4.ndim)"
   ]
  },
  {
   "cell_type": "code",
   "execution_count": 7,
   "id": "d8cf25cd",
   "metadata": {},
   "outputs": [
    {
     "data": {
      "text/plain": [
       "array([[[1, 2, 3],\n",
       "        [4, 5, 6],\n",
       "        [7, 8, 9]],\n",
       "\n",
       "       [[1, 2, 3],\n",
       "        [4, 5, 6],\n",
       "        [7, 8, 9]],\n",
       "\n",
       "       [[1, 2, 3],\n",
       "        [4, 5, 6],\n",
       "        [7, 8, 9]]])"
      ]
     },
     "execution_count": 7,
     "metadata": {},
     "output_type": "execute_result"
    }
   ],
   "source": [
    "a4"
   ]
  },
  {
   "cell_type": "code",
   "execution_count": 8,
   "id": "c4c23abb",
   "metadata": {},
   "outputs": [
    {
     "data": {
      "text/html": [
       "<div>\n",
       "<style scoped>\n",
       "    .dataframe tbody tr th:only-of-type {\n",
       "        vertical-align: middle;\n",
       "    }\n",
       "\n",
       "    .dataframe tbody tr th {\n",
       "        vertical-align: top;\n",
       "    }\n",
       "\n",
       "    .dataframe thead th {\n",
       "        text-align: right;\n",
       "    }\n",
       "</style>\n",
       "<table border=\"1\" class=\"dataframe\">\n",
       "  <thead>\n",
       "    <tr style=\"text-align: right;\">\n",
       "      <th></th>\n",
       "      <th>0</th>\n",
       "      <th>1</th>\n",
       "      <th>2</th>\n",
       "    </tr>\n",
       "  </thead>\n",
       "  <tbody>\n",
       "    <tr>\n",
       "      <th>0</th>\n",
       "      <td>1</td>\n",
       "      <td>2</td>\n",
       "      <td>3</td>\n",
       "    </tr>\n",
       "    <tr>\n",
       "      <th>1</th>\n",
       "      <td>4</td>\n",
       "      <td>5</td>\n",
       "      <td>6</td>\n",
       "    </tr>\n",
       "  </tbody>\n",
       "</table>\n",
       "</div>"
      ],
      "text/plain": [
       "   0  1  2\n",
       "0  1  2  3\n",
       "1  4  5  6"
      ]
     },
     "execution_count": 8,
     "metadata": {},
     "output_type": "execute_result"
    }
   ],
   "source": [
    "import pandas as pd\n",
    "a5 = pd.DataFrame(a2)\n",
    "a5"
   ]
  },
  {
   "cell_type": "code",
   "execution_count": 9,
   "id": "b73ef943",
   "metadata": {},
   "outputs": [
    {
     "name": "stdout",
     "output_type": "stream",
     "text": [
      "   0  1  2\n",
      "0  1  2  3\n",
      "1  4  5  6\n"
     ]
    }
   ],
   "source": [
    "print(a5)"
   ]
  },
  {
   "cell_type": "code",
   "execution_count": 10,
   "id": "793cf97e",
   "metadata": {},
   "outputs": [
    {
     "name": "stdout",
     "output_type": "stream",
     "text": [
      "float64\n",
      "[[1. 1. 1.]\n",
      " [1. 1. 1.]]\n",
      "2\n",
      "<class 'numpy.ndarray'>\n",
      "(2, 3)\n"
     ]
    }
   ],
   "source": [
    "#creating a array of ones and zeros\n",
    "sample_array = np.ones((2,3))\n",
    "print(sample_array.dtype)\n",
    "print(sample_array)\n",
    "print(sample_array.ndim)\n",
    "print(type(sample_array))\n",
    "print(sample_array.shape)"
   ]
  },
  {
   "cell_type": "code",
   "execution_count": 11,
   "id": "eb1bedfe",
   "metadata": {},
   "outputs": [
    {
     "name": "stdout",
     "output_type": "stream",
     "text": [
      "(1, 3, 3)\n",
      "3\n",
      "9\n"
     ]
    }
   ],
   "source": [
    "exp2 = np.array([[[1,2,3],\n",
    "                 [4,5,6],\n",
    "                 [7,8,9]]])\n",
    "print(exp2.shape)\n",
    "print(exp2.ndim)\n",
    "print(exp2.size)"
   ]
  },
  {
   "cell_type": "code",
   "execution_count": 2,
   "id": "8042ee70",
   "metadata": {},
   "outputs": [],
   "source": [
    "import numpy as np"
   ]
  },
  {
   "cell_type": "code",
   "execution_count": 4,
   "id": "11e658b6",
   "metadata": {},
   "outputs": [
    {
     "name": "stdout",
     "output_type": "stream",
     "text": [
      "[[1. 1. 1. 1. 1.]]\n"
     ]
    }
   ],
   "source": [
    "#creating  a array of ones and zeros\n",
    "one = np.ones((1,5))\n",
    "print(one)"
   ]
  },
  {
   "cell_type": "code",
   "execution_count": 6,
   "id": "a9e294da",
   "metadata": {},
   "outputs": [
    {
     "name": "stdout",
     "output_type": "stream",
     "text": [
      "[[1. 1. 1.]\n",
      " [1. 1. 1.]]\n"
     ]
    }
   ],
   "source": [
    "#2d\n",
    "d20 = np.ones((2,3))\n",
    "print(d20)"
   ]
  },
  {
   "cell_type": "code",
   "execution_count": 9,
   "id": "4b4faf75",
   "metadata": {},
   "outputs": [
    {
     "name": "stdout",
     "output_type": "stream",
     "text": [
      "[[1. 1. 1.]\n",
      " [1. 1. 1.]\n",
      " [1. 1. 1.]]\n"
     ]
    }
   ],
   "source": [
    "#for creating three domensional array\n",
    "d30 = np.ones((3,3))\n",
    "print(d30)"
   ]
  },
  {
   "cell_type": "code",
   "execution_count": 10,
   "id": "9e946749",
   "metadata": {},
   "outputs": [],
   "source": [
    "import random "
   ]
  },
  {
   "cell_type": "code",
   "execution_count": 24,
   "id": "64925497",
   "metadata": {},
   "outputs": [
    {
     "name": "stdout",
     "output_type": "stream",
     "text": [
      "[[7 2 4 6 5]\n",
      " [5 2 2 1 4]\n",
      " [4 4 1 6 4]]\n"
     ]
    }
   ],
   "source": [
    "exp4 = np.random.randint(1,10,size = (3,5))\n",
    "print(exp4)"
   ]
  },
  {
   "cell_type": "code",
   "execution_count": null,
   "id": "a4857671",
   "metadata": {},
   "outputs": [],
   "source": [
    "#numpy youtube"
   ]
  },
  {
   "cell_type": "code",
   "execution_count": null,
   "id": "b88e3cb5",
   "metadata": {},
   "outputs": [],
   "source": [
    "#CREATING AN EMPTY ARRAY"
   ]
  },
  {
   "cell_type": "code",
   "execution_count": 14,
   "id": "9f70597d",
   "metadata": {},
   "outputs": [
    {
     "name": "stdout",
     "output_type": "stream",
     "text": [
      "[6.23042070e-307 4.67296746e-307 1.69121096e-306 1.33511290e-306]\n"
     ]
    }
   ],
   "source": [
    "emp = np.empty(4)\n",
    "print(emp)"
   ]
  },
  {
   "cell_type": "code",
   "execution_count": null,
   "id": "1ee60035",
   "metadata": {},
   "outputs": [],
   "source": [
    "#to arrange the element "
   ]
  },
  {
   "cell_type": "code",
   "execution_count": 16,
   "id": "00b09cc7",
   "metadata": {},
   "outputs": [
    {
     "name": "stdout",
     "output_type": "stream",
     "text": [
      "[0 1 2 3 4 5 6 7 8 9]\n"
     ]
    }
   ],
   "source": [
    "exp5 = np.arange(10)\n",
    "print(exp5)"
   ]
  },
  {
   "cell_type": "code",
   "execution_count": null,
   "id": "662e0865",
   "metadata": {},
   "outputs": [],
   "source": [
    "#linspace and diognal element used in python\n"
   ]
  },
  {
   "cell_type": "code",
   "execution_count": 25,
   "id": "e1f2239d",
   "metadata": {},
   "outputs": [
    {
     "name": "stdout",
     "output_type": "stream",
     "text": [
      "2\n",
      "[[1. 0. 0.]\n",
      " [0. 1. 0.]\n",
      " [0. 0. 1.]]\n"
     ]
    }
   ],
   "source": [
    "#for creating a diognal matrix\n",
    "exp8 = np.eye(3,3) #retrun only 2d array\n",
    "print(exp8.ndim)\n",
    "print(exp8)"
   ]
  },
  {
   "cell_type": "code",
   "execution_count": 37,
   "id": "14e2ba54",
   "metadata": {},
   "outputs": [
    {
     "name": "stdout",
     "output_type": "stream",
     "text": [
      "2\n",
      "[[0. 1. 0.]\n",
      " [0. 0. 1.]\n",
      " [0. 0. 0.]]\n"
     ]
    }
   ],
   "source": [
    "exp9 =np.eye(3,3,1) # we can change the diognal to be in first second and the third row\n",
    "print(exp9.ndim)\n",
    "print(exp9)"
   ]
  },
  {
   "cell_type": "code",
   "execution_count": 48,
   "id": "91170423",
   "metadata": {},
   "outputs": [
    {
     "name": "stdout",
     "output_type": "stream",
     "text": [
      "2\n",
      "[[0. 0. 0.]\n",
      " [1. 0. 0.]\n",
      " [0. 1. 0.]]\n"
     ]
    }
   ],
   "source": [
    "exp10 =np.eye(3,3,-1) # we can change the diognal to be in first second and the third row\n",
    "print(exp10.ndim)\n",
    "print(exp10)"
   ]
  },
  {
   "cell_type": "code",
   "execution_count": 54,
   "id": "772c444d",
   "metadata": {},
   "outputs": [
    {
     "name": "stdout",
     "output_type": "stream",
     "text": [
      "2\n",
      "[[0. 0. 0.]\n",
      " [0. 0. 0.]\n",
      " [1. 0. 0.]]\n"
     ]
    }
   ],
   "source": [
    "exp11 =np.eye(3,3,-2) # we can change the diognal to be in first second and the third row in lower rows using the index elemnt\n",
    "print(exp11.ndim)\n",
    "print(exp11)"
   ]
  },
  {
   "cell_type": "code",
   "execution_count": null,
   "id": "2d1cfc9c",
   "metadata": {},
   "outputs": [],
   "source": [
    "#creating a random value in numpy\n",
    "#using the import function for random use"
   ]
  },
  {
   "cell_type": "code",
   "execution_count": 55,
   "id": "381e3f02",
   "metadata": {},
   "outputs": [],
   "source": [
    "import random"
   ]
  },
  {
   "cell_type": "code",
   "execution_count": 59,
   "id": "53f7a1ff",
   "metadata": {},
   "outputs": [
    {
     "name": "stdout",
     "output_type": "stream",
     "text": [
      "[0.26305485 0.95442823 0.53534499 0.67036195 0.07385869 0.51030102\n",
      " 0.77787876 0.04745519 0.47714716 0.53915139]\n"
     ]
    }
   ],
   "source": [
    "n1 = np.random.rand((10)) # return the positive value between 0 and 1\n",
    "print(n1) #creating a one dimensional array"
   ]
  },
  {
   "cell_type": "code",
   "execution_count": 80,
   "id": "e31b2b50",
   "metadata": {},
   "outputs": [
    {
     "data": {
      "text/plain": [
       "array([[0.23292179, 0.82037845, 0.0406688 ],\n",
       "       [0.67497678, 0.09834379, 0.45032276]])"
      ]
     },
     "execution_count": 80,
     "metadata": {},
     "output_type": "execute_result"
    }
   ],
   "source": [
    "n2 = np.random.rand(2,3) #the (2,3) indicates the size of the matrix\n",
    "n2"
   ]
  },
  {
   "cell_type": "code",
   "execution_count": 84,
   "id": "2dd32d0b",
   "metadata": {},
   "outputs": [
    {
     "name": "stdout",
     "output_type": "stream",
     "text": [
      "[[[0.64647943 0.68296422 0.81713899]\n",
      "  [0.50600034 0.40593404 0.86893914]\n",
      "  [0.91288542 0.21182832 0.61620485]]\n",
      "\n",
      " [[0.34077513 0.48713579 0.67405191]\n",
      "  [0.35369642 0.76126885 0.44492232]\n",
      "  [0.71011127 0.18888896 0.70429885]]\n",
      "\n",
      " [[0.32531727 0.18060915 0.49694036]\n",
      "  [0.26519844 0.33563804 0.93094494]\n",
      "  [0.27770615 0.44461342 0.45297526]]]\n"
     ]
    },
    {
     "data": {
      "text/plain": [
       "3"
      ]
     },
     "execution_count": 84,
     "metadata": {},
     "output_type": "execute_result"
    }
   ],
   "source": [
    "n2 = np.random.rand(3,3,3) #the (2,3) indicates the size of the matrix\n",
    "print(n2)\n",
    "n2.ndim"
   ]
  },
  {
   "cell_type": "code",
   "execution_count": 97,
   "id": "379bcb92",
   "metadata": {},
   "outputs": [
    {
     "data": {
      "text/plain": [
       "array([-0.00219199])"
      ]
     },
     "execution_count": 97,
     "metadata": {},
     "output_type": "execute_result"
    }
   ],
   "source": [
    "#using the randn\n",
    "n2 = np.random.randn(1)  # the 1 indicates the the dimensional of the array created and the randn retrurn the valaue positive and negative\n",
    "n2"
   ]
  },
  {
   "cell_type": "code",
   "execution_count": 101,
   "id": "3c26c4a9",
   "metadata": {},
   "outputs": [
    {
     "name": "stdout",
     "output_type": "stream",
     "text": [
      "[[ 0.49188684  0.3826841  -0.77466747]\n",
      " [ 1.23350968  1.50882567 -0.33589265]]\n"
     ]
    },
    {
     "data": {
      "text/plain": [
       "2"
      ]
     },
     "execution_count": 101,
     "metadata": {},
     "output_type": "execute_result"
    }
   ],
   "source": [
    "n2 = np.random.randn(2,3)  # the 1 indicates the the dimensional of the array created and the randn retrurn the valaue positive and negative\n",
    "print(n2)\n",
    "n2.ndim"
   ]
  },
  {
   "cell_type": "code",
   "execution_count": 103,
   "id": "7aa349cb",
   "metadata": {},
   "outputs": [
    {
     "name": "stdout",
     "output_type": "stream",
     "text": [
      "[[[ 0.53462856 -0.30487048 -1.04833719]\n",
      "  [ 0.40348055  0.30359841 -0.88203825]]\n",
      "\n",
      " [[ 0.89249468  0.07369736  0.3445285 ]\n",
      "  [ 1.62033851 -1.41650358  0.03743037]]\n",
      "\n",
      " [[ 2.82617832 -0.22673382  0.2089018 ]\n",
      "  [-2.79542618  0.86555164 -0.2505538 ]]]\n"
     ]
    },
    {
     "data": {
      "text/plain": [
       "3"
      ]
     },
     "execution_count": 103,
     "metadata": {},
     "output_type": "execute_result"
    }
   ],
   "source": [
    "n2 = np.random.randn(3,2,3)  # the 1 indicates the the dimensional of the array created and the randn retrurn the valaue positive and negative\n",
    "print(n2)\n",
    "n2.ndim"
   ]
  },
  {
   "cell_type": "code",
   "execution_count": 112,
   "id": "45ae5528",
   "metadata": {},
   "outputs": [
    {
     "data": {
      "text/plain": [
       "[324072,\n",
       " 2828876,\n",
       " 2502904,\n",
       " 7660966,\n",
       " 9024722,\n",
       " 6679001,\n",
       " 8579068,\n",
       " 3982459,\n",
       " 6929774,\n",
       " 6904247]"
      ]
     },
     "execution_count": 112,
     "metadata": {},
     "output_type": "execute_result"
    }
   ],
   "source": [
    "random.sample(range(10000000),10)"
   ]
  },
  {
   "cell_type": "code",
   "execution_count": 114,
   "id": "8c5f52b3",
   "metadata": {},
   "outputs": [
    {
     "data": {
      "text/plain": [
       "['red', 'blue', 'red', 'blue', 'red']"
      ]
     },
     "execution_count": 114,
     "metadata": {},
     "output_type": "execute_result"
    }
   ],
   "source": [
    "random.sample(['red', 'blue'], counts=[4, 2], k=5)"
   ]
  },
  {
   "cell_type": "code",
   "execution_count": null,
   "id": "8f2b7f4f",
   "metadata": {},
   "outputs": [],
   "source": [
    "#to use the ranint\n"
   ]
  },
  {
   "cell_type": "code",
   "execution_count": 137,
   "id": "6acfd421",
   "metadata": {},
   "outputs": [
    {
     "name": "stdout",
     "output_type": "stream",
     "text": [
      "[[[3 2 5]\n",
      "  [8 5 2]\n",
      "  [3 5 0]]\n",
      "\n",
      " [[1 7 1]\n",
      "  [6 1 6]\n",
      "  [1 6 2]]\n",
      "\n",
      " [[6 8 0]\n",
      "  [5 1 4]\n",
      "  [7 0 5]]]\n"
     ]
    }
   ],
   "source": [
    "n2 = np.random.randint(0,10,size = (3,3,3))  # the 1 indicates the the dimensional of the array created and the randn retrurn the valaue positive and negative\n",
    "print(n2)\n"
   ]
  },
  {
   "cell_type": "code",
   "execution_count": null,
   "id": "e7b58bd7",
   "metadata": {},
   "outputs": [],
   "source": [
    "#data type in numpy array"
   ]
  },
  {
   "cell_type": "code",
   "execution_count": null,
   "id": "da0be898",
   "metadata": {},
   "outputs": [],
   "source": [
    "#converting from one datatype to another datatype"
   ]
  },
  {
   "cell_type": "code",
   "execution_count": 139,
   "id": "09239aa0",
   "metadata": {},
   "outputs": [
    {
     "name": "stdout",
     "output_type": "stream",
     "text": [
      "[1. 2. 3. 4.]\n"
     ]
    }
   ],
   "source": [
    "np1 = np.array([1,2,3,4],dtype=\"f\")\n",
    "print(np1)"
   ]
  },
  {
   "cell_type": "code",
   "execution_count": 6,
   "id": "74deadfd",
   "metadata": {},
   "outputs": [
    {
     "data": {
      "text/plain": [
       "(5,)"
      ]
     },
     "execution_count": 6,
     "metadata": {},
     "output_type": "execute_result"
    }
   ],
   "source": [
    "#shape in numpy array\n",
    "sh1 = np.array([1,2,3,4,5])\n",
    "np.shape(sh1)"
   ]
  },
  {
   "cell_type": "code",
   "execution_count": 8,
   "id": "4a58e844",
   "metadata": {},
   "outputs": [
    {
     "data": {
      "text/plain": [
       "(3, 3)"
      ]
     },
     "execution_count": 8,
     "metadata": {},
     "output_type": "execute_result"
    }
   ],
   "source": [
    "sh2 = np.random.randint(1,10,size = (3,3))\n",
    "np.shape(sh2)"
   ]
  },
  {
   "cell_type": "markdown",
   "id": "79e94939",
   "metadata": {},
   "source": [
    "#reshape"
   ]
  },
  {
   "cell_type": "code",
   "execution_count": 18,
   "id": "d8a83f91",
   "metadata": {},
   "outputs": [
    {
     "ename": "ValueError",
     "evalue": "cannot reshape array of size 9 into shape (2,3)",
     "output_type": "error",
     "traceback": [
      "\u001b[1;31m---------------------------------------------------------------------------\u001b[0m",
      "\u001b[1;31mValueError\u001b[0m                                Traceback (most recent call last)",
      "\u001b[1;32mc:\\Users\\Lenevo\\python2.0\\python 2.0\\my-personal-codes\\NUMPY.ipynb Cell 46\u001b[0m in \u001b[0;36m<cell line: 2>\u001b[1;34m()\u001b[0m\n\u001b[0;32m      <a href='vscode-notebook-cell:/c%3A/Users/Lenevo/python2.0/python%202.0/my-personal-codes/NUMPY.ipynb#X63sZmlsZQ%3D%3D?line=0'>1</a>\u001b[0m sh3 \u001b[39m=\u001b[39m np\u001b[39m.\u001b[39mrandom\u001b[39m.\u001b[39mrandint(\u001b[39m1\u001b[39m,\u001b[39m10\u001b[39m,(\u001b[39m3\u001b[39m,\u001b[39m3\u001b[39m))\n\u001b[1;32m----> <a href='vscode-notebook-cell:/c%3A/Users/Lenevo/python2.0/python%202.0/my-personal-codes/NUMPY.ipynb#X63sZmlsZQ%3D%3D?line=1'>2</a>\u001b[0m x1 \u001b[39m=\u001b[39m sh3\u001b[39m.\u001b[39;49mreshape(\u001b[39m2\u001b[39;49m,\u001b[39m3\u001b[39;49m)\n",
      "\u001b[1;31mValueError\u001b[0m: cannot reshape array of size 9 into shape (2,3)"
     ]
    }
   ],
   "source": [
    "sh3 = np.random.randint(1,10,(3,3))\n",
    "x1 = sh3.reshape(2,3) #this cannot be done from 2d to 3d only one dimesional to another dimensional is possibel"
   ]
  },
  {
   "cell_type": "code",
   "execution_count": 42,
   "id": "18679bf9",
   "metadata": {},
   "outputs": [
    {
     "name": "stdout",
     "output_type": "stream",
     "text": [
      "[1.87681343e-01 4.70510760e-01 4.40327478e-01 2.32047770e-01\n",
      " 6.90627813e-01 7.57805389e-01 5.61470672e-03 7.12765448e-01\n",
      " 5.73674244e-01 8.73330190e-01 5.57623378e-01 4.89197608e-02\n",
      " 5.17483896e-01 8.58733485e-01 1.49505402e-01 9.27199092e-01\n",
      " 9.01533528e-01 5.62323249e-02 8.27019277e-01 7.40712648e-01\n",
      " 1.09764825e-01 7.02718561e-02 3.86514558e-01 4.43855538e-02\n",
      " 9.37693946e-01 3.01180552e-01 6.78803635e-01 3.84592968e-01\n",
      " 5.36302600e-01 9.76639397e-01 7.17885978e-01 4.94012342e-01\n",
      " 8.26305877e-01 6.07630548e-01 6.94677713e-01 6.24161735e-01\n",
      " 7.20539151e-01 9.23410669e-01 4.26717304e-01 7.22318813e-01\n",
      " 5.13184855e-01 9.08351540e-01 6.23779078e-01 5.56390648e-01\n",
      " 3.10276858e-01 5.96027593e-01 4.22361046e-01 1.19488496e-01\n",
      " 4.57560086e-01 3.44131880e-01 1.42373555e-01 3.28040563e-01\n",
      " 6.46235341e-01 2.36983332e-01 7.22259736e-01 4.38188770e-01\n",
      " 2.45245340e-02 7.39674543e-01 4.83201176e-01 2.41140337e-01\n",
      " 7.00571082e-01 2.58588218e-01 8.31453539e-02 5.71694441e-01\n",
      " 2.74049465e-01 7.92566070e-01 2.48997804e-01 4.29510661e-01\n",
      " 9.77737485e-01 2.09114824e-01 5.49909106e-01 4.09062695e-01\n",
      " 3.99340052e-01 7.75406783e-01 5.76348808e-01 2.09592054e-01\n",
      " 7.52931924e-01 6.71394266e-03 3.72609873e-01 5.51959685e-01\n",
      " 4.66558748e-01 8.77376929e-01 8.50916506e-01 1.41449780e-01\n",
      " 7.90039480e-01 9.51868515e-01 9.38752649e-01 6.37558398e-01\n",
      " 1.52485369e-01 5.51846191e-01 1.66500063e-01 7.76695585e-01\n",
      " 7.45640681e-01 9.96331873e-02 3.96200812e-01 3.21416037e-01\n",
      " 3.72722743e-01 9.11460925e-01 7.24203482e-01 5.86654240e-02\n",
      " 5.33649874e-03 6.08488807e-04 1.13626543e-01 9.61890911e-01\n",
      " 1.35284662e-01 6.98630211e-01 6.35030857e-01 3.56443059e-01\n",
      " 1.87319958e-02 2.69394985e-01]\n",
      "now concverting the 1d to array to other arrays\n"
     ]
    }
   ],
   "source": [
    "sh4 =np.random.rand(110)\n",
    "print(sh4)\n",
    "sh4.ndim\n",
    "\n",
    "print(\"now concverting the 1d to array to other arrays\")\n",
    "x = sh4.reshape(1,110)"
   ]
  },
  {
   "cell_type": "code",
   "execution_count": 48,
   "id": "af664150",
   "metadata": {},
   "outputs": [
    {
     "name": "stdout",
     "output_type": "stream",
     "text": [
      "[[1 2 3]\n",
      " [4 5 6]\n",
      " [7 8 9]]\n"
     ]
    }
   ],
   "source": [
    "sh5 = np.array([1,2,3,4,5,6,7,8,9])\n",
    "x1 = sh5.reshape(3,3)\n",
    "print(x1)"
   ]
  },
  {
   "cell_type": "code",
   "execution_count": 1,
   "id": "b57404b5",
   "metadata": {},
   "outputs": [
    {
     "name": "stdout",
     "output_type": "stream",
     "text": [
      "0\n",
      "1\n",
      "2\n",
      "3\n",
      "4\n",
      "5\n",
      "6\n",
      "7\n",
      "8\n",
      "9\n"
     ]
    }
   ],
   "source": [
    "for i in range(10):\n",
    "    print(i)"
   ]
  },
  {
   "cell_type": "code",
   "execution_count": 5,
   "id": "c47120be",
   "metadata": {},
   "outputs": [
    {
     "name": "stdout",
     "output_type": "stream",
     "text": [
      "hello my name is neeraj and my age is 18\n"
     ]
    }
   ],
   "source": [
    "class hello():\n",
    "\n",
    "    def __init__(self,name,age) -> None:\n",
    "        self.name = name\n",
    "        self.age = age\n",
    "    def __str__(self) -> str:\n",
    "        print(f\"hello my name is {self.name} and my age is {self.age}\")\n",
    "\n",
    "obj1 = hello(\"neeraj\",18)\n",
    "obj1.__str__()\n",
    "        "
   ]
  },
  {
   "cell_type": "code",
   "execution_count": 1,
   "id": "3c176921",
   "metadata": {},
   "outputs": [
    {
     "name": "stdout",
     "output_type": "stream",
     "text": [
      "0\n",
      "1\n",
      "2\n",
      "3\n",
      "4\n",
      "5\n",
      "6\n",
      "7\n",
      "8\n",
      "9\n"
     ]
    }
   ],
   "source": [
    "for i in range(10):\n",
    "    print(i)"
   ]
  },
  {
   "cell_type": "code",
   "execution_count": 1,
   "id": "11c439be",
   "metadata": {},
   "outputs": [
    {
     "data": {
      "text/plain": [
       "100"
      ]
     },
     "execution_count": 1,
     "metadata": {},
     "output_type": "execute_result"
    }
   ],
   "source": [
    "def square(num):\n",
    "    ans = num*num\n",
    "\n",
    "    return ans\n",
    "\n",
    "k = int(input(\"please enter the number that you want to find the sqyuare\"))\n",
    "square(k)"
   ]
  },
  {
   "cell_type": "code",
   "execution_count": 13,
   "id": "02c620d3",
   "metadata": {},
   "outputs": [
    {
     "name": "stdout",
     "output_type": "stream",
     "text": [
      "o \n"
     ]
    }
   ],
   "source": [
    "def reverse(y):\n",
    "    for i in range(len(y)):\n",
    "        s = y[i] + \" \"\n",
    "    print(s)\n",
    "\n",
    "l = input(\"Enter the name of the text:\")\n",
    "reverse(l)"
   ]
  },
  {
   "cell_type": "code",
   "execution_count": 9,
   "id": "69989ce4",
   "metadata": {},
   "outputs": [
    {
     "name": "stdout",
     "output_type": "stream",
     "text": [
      "h\n",
      "e\n",
      "l\n",
      "l\n",
      "o\n"
     ]
    }
   ],
   "source": [
    "v = \"hello\"\n",
    "for i in range(len(v)):\n",
    "    print(v[i])"
   ]
  },
  {
   "cell_type": "code",
   "execution_count": 1,
   "id": "6b9c7650",
   "metadata": {},
   "outputs": [],
   "source": [
    "import tkinter as tk\n",
    "from math import *\n",
    "\n",
    "def calculate():\n",
    "    expression = entry.get()\n",
    "    try:\n",
    "        result = eval(expression)\n",
    "        entry.delete(0, tk.END)\n",
    "        entry.insert(tk.END, result)\n",
    "    except:\n",
    "        entry.delete(0, tk.END)\n",
    "        entry.insert(tk.END, \"Error\")\n",
    "\n",
    "root = tk.Tk()\n",
    "root.title(\"Scientific Calculator\")\n",
    "\n",
    "entry = tk.Entry(root, width=35, borderwidth=5)\n",
    "entry.grid(row=0, column=0, columnspan=4, padx=10, pady=10)\n",
    "\n",
    "button_frame = tk.Frame(root)\n",
    "button_frame.grid(row=1, column=0, columnspan=4)\n",
    "\n",
    "# Create buttons for digits and operators\n",
    "button_list = [\n",
    "    \"7\", \"8\", \"9\", \"+\",\n",
    "    \"4\", \"5\", \"6\", \"-\",\n",
    "    \"1\", \"2\", \"3\", \"*\",\n",
    "    \".\", \"0\", \"C\", \"/\"\n",
    "]\n",
    "\n",
    "# Create buttons and add them to the button frame\n",
    "for i in range(16):\n",
    "    button = tk.Button(button_frame, text=button_list[i], width=5, height=2)\n",
    "    button.grid(row=i // 4, column=i % 4)\n",
    "\n",
    "# Create the equal button\n",
    "equal_button = tk.Button(root, text=\"=\", width=5, height=2, command=calculate)\n",
    "equal_button.grid(row=5, column=3, pady=10)\n",
    "\n",
    "root.mainloop()\n"
   ]
  },
  {
   "cell_type": "code",
   "execution_count": 1,
   "id": "a5f76d13",
   "metadata": {},
   "outputs": [
    {
     "ename": "KeyboardInterrupt",
     "evalue": "Interrupted by user",
     "output_type": "error",
     "traceback": [
      "\u001b[1;31m---------------------------------------------------------------------------\u001b[0m",
      "\u001b[1;31mKeyboardInterrupt\u001b[0m                         Traceback (most recent call last)",
      "\u001b[1;32mc:\\Users\\Lenevo\\python2.0\\python 2.0\\my-personal-codes\\NUMPY.ipynb Cell 56\u001b[0m in \u001b[0;36m<cell line: 34>\u001b[1;34m()\u001b[0m\n\u001b[0;32m     <a href='vscode-notebook-cell:/c%3A/Users/Lenevo/python2.0/python%202.0/my-personal-codes/NUMPY.ipynb#Y106sZmlsZQ%3D%3D?line=31'>32</a>\u001b[0m       \u001b[39mprint\u001b[39m(\u001b[39m\"\u001b[39m\u001b[39mInvalid input, try again.\u001b[39m\u001b[39m\"\u001b[39m)\n\u001b[0;32m     <a href='vscode-notebook-cell:/c%3A/Users/Lenevo/python2.0/python%202.0/my-personal-codes/NUMPY.ipynb#Y106sZmlsZQ%3D%3D?line=33'>34</a>\u001b[0m \u001b[39mif\u001b[39;00m \u001b[39m__name__\u001b[39m \u001b[39m==\u001b[39m \u001b[39m'\u001b[39m\u001b[39m__main__\u001b[39m\u001b[39m'\u001b[39m:\n\u001b[1;32m---> <a href='vscode-notebook-cell:/c%3A/Users/Lenevo/python2.0/python%202.0/my-personal-codes/NUMPY.ipynb#Y106sZmlsZQ%3D%3D?line=34'>35</a>\u001b[0m   calc()\n",
      "\u001b[1;32mc:\\Users\\Lenevo\\python2.0\\python 2.0\\my-personal-codes\\NUMPY.ipynb Cell 56\u001b[0m in \u001b[0;36mcalc\u001b[1;34m()\u001b[0m\n\u001b[0;32m      <a href='vscode-notebook-cell:/c%3A/Users/Lenevo/python2.0/python%202.0/my-personal-codes/NUMPY.ipynb#Y106sZmlsZQ%3D%3D?line=3'>4</a>\u001b[0m \u001b[39mwhile\u001b[39;00m \u001b[39mTrue\u001b[39;00m:\n\u001b[0;32m      <a href='vscode-notebook-cell:/c%3A/Users/Lenevo/python2.0/python%202.0/my-personal-codes/NUMPY.ipynb#Y106sZmlsZQ%3D%3D?line=4'>5</a>\u001b[0m   \u001b[39mtry\u001b[39;00m:\n\u001b[1;32m----> <a href='vscode-notebook-cell:/c%3A/Users/Lenevo/python2.0/python%202.0/my-personal-codes/NUMPY.ipynb#Y106sZmlsZQ%3D%3D?line=5'>6</a>\u001b[0m     operation \u001b[39m=\u001b[39m \u001b[39minput\u001b[39;49m(\u001b[39m\"\u001b[39;49m\u001b[39mEnter operation (q to quit): \u001b[39;49m\u001b[39m\"\u001b[39;49m)\n\u001b[0;32m      <a href='vscode-notebook-cell:/c%3A/Users/Lenevo/python2.0/python%202.0/my-personal-codes/NUMPY.ipynb#Y106sZmlsZQ%3D%3D?line=6'>7</a>\u001b[0m     \u001b[39mif\u001b[39;00m operation \u001b[39m==\u001b[39m \u001b[39m'\u001b[39m\u001b[39mq\u001b[39m\u001b[39m'\u001b[39m:\n\u001b[0;32m      <a href='vscode-notebook-cell:/c%3A/Users/Lenevo/python2.0/python%202.0/my-personal-codes/NUMPY.ipynb#Y106sZmlsZQ%3D%3D?line=7'>8</a>\u001b[0m       \u001b[39mbreak\u001b[39;00m\n",
      "File \u001b[1;32mc:\\Users\\Lenevo\\anaconda3\\lib\\site-packages\\ipykernel\\kernelbase.py:1075\u001b[0m, in \u001b[0;36mKernel.raw_input\u001b[1;34m(self, prompt)\u001b[0m\n\u001b[0;32m   1071\u001b[0m \u001b[39mif\u001b[39;00m \u001b[39mnot\u001b[39;00m \u001b[39mself\u001b[39m\u001b[39m.\u001b[39m_allow_stdin:\n\u001b[0;32m   1072\u001b[0m     \u001b[39mraise\u001b[39;00m StdinNotImplementedError(\n\u001b[0;32m   1073\u001b[0m         \u001b[39m\"\u001b[39m\u001b[39mraw_input was called, but this frontend does not support input requests.\u001b[39m\u001b[39m\"\u001b[39m\n\u001b[0;32m   1074\u001b[0m     )\n\u001b[1;32m-> 1075\u001b[0m \u001b[39mreturn\u001b[39;00m \u001b[39mself\u001b[39;49m\u001b[39m.\u001b[39;49m_input_request(\n\u001b[0;32m   1076\u001b[0m     \u001b[39mstr\u001b[39;49m(prompt),\n\u001b[0;32m   1077\u001b[0m     \u001b[39mself\u001b[39;49m\u001b[39m.\u001b[39;49m_parent_ident[\u001b[39m\"\u001b[39;49m\u001b[39mshell\u001b[39;49m\u001b[39m\"\u001b[39;49m],\n\u001b[0;32m   1078\u001b[0m     \u001b[39mself\u001b[39;49m\u001b[39m.\u001b[39;49mget_parent(\u001b[39m\"\u001b[39;49m\u001b[39mshell\u001b[39;49m\u001b[39m\"\u001b[39;49m),\n\u001b[0;32m   1079\u001b[0m     password\u001b[39m=\u001b[39;49m\u001b[39mFalse\u001b[39;49;00m,\n\u001b[0;32m   1080\u001b[0m )\n",
      "File \u001b[1;32mc:\\Users\\Lenevo\\anaconda3\\lib\\site-packages\\ipykernel\\kernelbase.py:1120\u001b[0m, in \u001b[0;36mKernel._input_request\u001b[1;34m(self, prompt, ident, parent, password)\u001b[0m\n\u001b[0;32m   1117\u001b[0m             \u001b[39mbreak\u001b[39;00m\n\u001b[0;32m   1118\u001b[0m \u001b[39mexcept\u001b[39;00m \u001b[39mKeyboardInterrupt\u001b[39;00m:\n\u001b[0;32m   1119\u001b[0m     \u001b[39m# re-raise KeyboardInterrupt, to truncate traceback\u001b[39;00m\n\u001b[1;32m-> 1120\u001b[0m     \u001b[39mraise\u001b[39;00m \u001b[39mKeyboardInterrupt\u001b[39;00m(\u001b[39m\"\u001b[39m\u001b[39mInterrupted by user\u001b[39m\u001b[39m\"\u001b[39m) \u001b[39mfrom\u001b[39;00m \u001b[39mNone\u001b[39m\n\u001b[0;32m   1121\u001b[0m \u001b[39mexcept\u001b[39;00m \u001b[39mException\u001b[39;00m:\n\u001b[0;32m   1122\u001b[0m     \u001b[39mself\u001b[39m\u001b[39m.\u001b[39mlog\u001b[39m.\u001b[39mwarning(\u001b[39m\"\u001b[39m\u001b[39mInvalid Message:\u001b[39m\u001b[39m\"\u001b[39m, exc_info\u001b[39m=\u001b[39m\u001b[39mTrue\u001b[39;00m)\n",
      "\u001b[1;31mKeyboardInterrupt\u001b[0m: Interrupted by user"
     ]
    }
   ],
   "source": [
    "import math\n",
    "\n",
    "def calc():\n",
    "  while True:\n",
    "    try:\n",
    "      operation = input(\"Enter operation (q to quit): \")\n",
    "      if operation == 'q':\n",
    "        break\n",
    "      num1 = float(input(\"Enter first number: \"))\n",
    "      num2 = float(input(\"Enter second number: \"))\n",
    "      if operation == '+':\n",
    "        print(\"Result: \", num1 + num2)\n",
    "      elif operation == '-':\n",
    "        print(\"Result: \", num1 - num2)\n",
    "      elif operation == '*':\n",
    "        print(\"Result: \", num1 * num2)\n",
    "      elif operation == '/':\n",
    "        print(\"Result: \", num1 / num2)\n",
    "      elif operation == '^':\n",
    "        print(\"Result: \", num1 ** num2)\n",
    "      elif operation == 'sin':\n",
    "        print(\"Result: \", math.sin(num1))\n",
    "      elif operation == 'cos':\n",
    "        print(\"Result: \", math.cos(num1))\n",
    "      elif operation == 'tan':\n",
    "        print(\"Result: \", math.tan(num1))\n",
    "      elif operation == 'log':\n",
    "        print(\"Result: \", math.log(num1, num2))\n",
    "      else:\n",
    "        print(\"Invalid operator, try again.\")\n",
    "    except ValueError:\n",
    "      print(\"Invalid input, try again.\")\n",
    "\n",
    "if __name__ == '__main__':\n",
    "  calc()\n"
   ]
  },
  {
   "cell_type": "code",
   "execution_count": null,
   "id": "9396d2fe",
   "metadata": {},
   "outputs": [],
   "source": []
  },
  {
   "cell_type": "code",
   "execution_count": null,
   "id": "151afc2d",
   "metadata": {},
   "outputs": [],
   "source": []
  },
  {
   "cell_type": "code",
   "execution_count": null,
   "id": "1b079dec",
   "metadata": {},
   "outputs": [],
   "source": []
  },
  {
   "cell_type": "code",
   "execution_count": null,
   "id": "57c88c03",
   "metadata": {},
   "outputs": [],
   "source": []
  },
  {
   "cell_type": "code",
   "execution_count": null,
   "id": "cfedfe24",
   "metadata": {},
   "outputs": [],
   "source": []
  },
  {
   "cell_type": "code",
   "execution_count": null,
   "id": "6ca5f017",
   "metadata": {},
   "outputs": [],
   "source": []
  },
  {
   "cell_type": "code",
   "execution_count": null,
   "id": "08f29ba2",
   "metadata": {},
   "outputs": [],
   "source": []
  },
  {
   "cell_type": "code",
   "execution_count": null,
   "id": "bb88d37b",
   "metadata": {},
   "outputs": [],
   "source": []
  },
  {
   "cell_type": "code",
   "execution_count": null,
   "id": "e3eaf7f8",
   "metadata": {},
   "outputs": [],
   "source": []
  },
  {
   "cell_type": "code",
   "execution_count": null,
   "id": "bd333357",
   "metadata": {},
   "outputs": [],
   "source": []
  },
  {
   "cell_type": "code",
   "execution_count": null,
   "id": "b84415b7",
   "metadata": {},
   "outputs": [],
   "source": []
  },
  {
   "cell_type": "code",
   "execution_count": null,
   "id": "fef2188c",
   "metadata": {},
   "outputs": [],
   "source": []
  },
  {
   "cell_type": "code",
   "execution_count": null,
   "id": "e27064dc",
   "metadata": {},
   "outputs": [],
   "source": []
  },
  {
   "cell_type": "code",
   "execution_count": null,
   "id": "36a47bac",
   "metadata": {},
   "outputs": [],
   "source": []
  },
  {
   "cell_type": "code",
   "execution_count": null,
   "id": "df1b629d",
   "metadata": {},
   "outputs": [],
   "source": []
  },
  {
   "cell_type": "code",
   "execution_count": null,
   "id": "d25d5074",
   "metadata": {},
   "outputs": [],
   "source": []
  },
  {
   "cell_type": "code",
   "execution_count": null,
   "id": "d705d6de",
   "metadata": {},
   "outputs": [],
   "source": []
  },
  {
   "cell_type": "code",
   "execution_count": null,
   "id": "c380a5a5",
   "metadata": {},
   "outputs": [],
   "source": []
  },
  {
   "cell_type": "code",
   "execution_count": null,
   "id": "4554f098",
   "metadata": {},
   "outputs": [],
   "source": []
  },
  {
   "cell_type": "code",
   "execution_count": null,
   "id": "0ce814f7",
   "metadata": {},
   "outputs": [],
   "source": []
  },
  {
   "cell_type": "code",
   "execution_count": null,
   "id": "a8e54579",
   "metadata": {},
   "outputs": [],
   "source": []
  },
  {
   "cell_type": "code",
   "execution_count": null,
   "id": "922628f4",
   "metadata": {},
   "outputs": [],
   "source": []
  },
  {
   "cell_type": "code",
   "execution_count": null,
   "id": "363bde3c",
   "metadata": {},
   "outputs": [],
   "source": []
  }
 ],
 "metadata": {
  "kernelspec": {
   "display_name": "Python 3 (ipykernel)",
   "language": "python",
   "name": "python3"
  },
  "language_info": {
   "codemirror_mode": {
    "name": "ipython",
    "version": 3
   },
   "file_extension": ".py",
   "mimetype": "text/x-python",
   "name": "python",
   "nbconvert_exporter": "python",
   "pygments_lexer": "ipython3",
   "version": "3.9.12 (main, Apr  4 2022, 05:22:27) [MSC v.1916 64 bit (AMD64)]"
  },
  "vscode": {
   "interpreter": {
    "hash": "7cd4be3047bd5ffa4a6217a4ec9c5b806d07832cf03132b3ab007d11ed0054fa"
   }
  }
 },
 "nbformat": 4,
 "nbformat_minor": 5
}
