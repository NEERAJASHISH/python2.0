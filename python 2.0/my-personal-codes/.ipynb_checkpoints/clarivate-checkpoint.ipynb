{
 "cells": [
  {
   "cell_type": "code",
   "execution_count": 18,
   "id": "58b0e829",
   "metadata": {},
   "outputs": [
    {
     "name": "stdout",
     "output_type": "stream",
     "text": [
      "11"
     ]
    }
   ],
   "source": [
    "n = int(input(\"enter the decimal number:\"))\n",
    "l = []\n",
    "while(n>0):\n",
    "    dig = n%2\n",
    "    l.append(dig)\n",
    "    n = n//2\n",
    "    l.reverse()\n",
    "    \n",
    "\n",
    "for i in l:\n",
    "    print(i,end=\"\")\n",
    "\n",
    "\n",
    "\n",
    "    \n",
    "  \n",
    "   \n",
    "\n",
    "    \n",
    "    \n",
    "    "
   ]
  },
  {
   "cell_type": "code",
   "execution_count": 2,
   "id": "1566a07c",
   "metadata": {},
   "outputs": [
    {
     "name": "stdout",
     "output_type": "stream",
     "text": [
      "[1, 2, 1, 1, 1, 1, 1, 1, 1, 1]\n"
     ]
    }
   ],
   "source": [
    "lst = list(map(int,input()))\n",
    "z = list(0 for i in range(0,max(lst)+1))\n",
    "dic = {}\n",
    "j=0\n",
    "m =[]\n",
    "for i in lst:\n",
    "    if i in dic:\n",
    "        dic[i] +=1\n",
    "    else:\n",
    "        dic[i] = 1\n",
    "for n in dic.values():\n",
    "    m.append(n)\n",
    "\n",
    "for i in dic.keys():\n",
    "    z[i] = m[j]\n",
    "    j = j+1\n",
    "\n",
    "print(z)\n",
    "\n",
    "\n",
    "\n",
    "\n",
    "\n",
    "\n"
   ]
  },
  {
   "cell_type": "code",
   "execution_count": 7,
   "id": "3d31ca80",
   "metadata": {},
   "outputs": [
    {
     "data": {
      "text/plain": [
       "2"
      ]
     },
     "execution_count": 7,
     "metadata": {},
     "output_type": "execute_result"
    }
   ],
   "source": [
    "from numpy import *\n",
    "s = array([\n",
    "    [1,2,3],\n",
    "    [4,5,6]\n",
    "])\n",
    "s.ndim"
   ]
  },
  {
   "cell_type": "code",
   "execution_count": 1,
   "id": "6d9b1d23",
   "metadata": {},
   "outputs": [
    {
     "name": "stdout",
     "output_type": "stream",
     "text": [
      "Enter the number of elements in matrix1:3\n",
      "Enter the numebr of elements in matrix2:3\n",
      "Enter the element of matrix1: \n",
      "1\n",
      "2\n",
      "3\n",
      "4\n",
      "5\n",
      "6\n",
      "7\n",
      "8\n",
      "9\n",
      "1  2  3  \n",
      "4  5  6  \n",
      "7  8  9  \n",
      "10\n",
      "11\n",
      "12\n",
      "14\n",
      "15\n",
      "16\n",
      "17\n",
      "18\n",
      "19\n",
      "10 11 12 \n",
      "14 15 16 \n",
      "17 18 19 \n"
     ]
    }
   ],
   "source": [
    "row = int(input(\"Enter the number of elements in matrix1:\"))\n",
    "col = int(input(\"Enter the numebr of elements in matrix2:\"))\n",
    "\n",
    "print(\"Enter the element of matrix1: \")\n",
    "matrix1 = [[int(input())for i in range(row)]for j in range(col)]\n",
    "for i in range(row):\n",
    "    for j in range(col):\n",
    "        print(format(matrix1[i][j],\"<3\"),end=\"\")\n",
    "    print()\n",
    "\n",
    "matrix2 = [[int(input())for i in range(row)]for j in range(col)]\n",
    "for i in range(row):\n",
    "    for j in range(col):\n",
    "        print(format(matrix2[i][j],\"<3\"),end=\"\")\n",
    "    print()\n"
   ]
  },
  {
   "cell_type": "code",
   "execution_count": null,
   "id": "59842b06",
   "metadata": {},
   "outputs": [],
   "source": []
  },
  {
   "cell_type": "code",
   "execution_count": null,
   "id": "b2193683",
   "metadata": {},
   "outputs": [],
   "source": []
  },
  {
   "cell_type": "code",
   "execution_count": null,
   "id": "f32b15ee",
   "metadata": {},
   "outputs": [],
   "source": []
  },
  {
   "cell_type": "code",
   "execution_count": null,
   "id": "ef61d248",
   "metadata": {},
   "outputs": [],
   "source": []
  },
  {
   "cell_type": "code",
   "execution_count": null,
   "id": "ca39731c",
   "metadata": {},
   "outputs": [],
   "source": []
  },
  {
   "cell_type": "code",
   "execution_count": null,
   "id": "ba54c7e6",
   "metadata": {},
   "outputs": [],
   "source": []
  },
  {
   "cell_type": "code",
   "execution_count": null,
   "id": "276f9ac6",
   "metadata": {},
   "outputs": [],
   "source": []
  },
  {
   "cell_type": "code",
   "execution_count": null,
   "id": "0f1829bc",
   "metadata": {},
   "outputs": [],
   "source": []
  },
  {
   "cell_type": "code",
   "execution_count": null,
   "id": "3ae621c4",
   "metadata": {},
   "outputs": [],
   "source": []
  },
  {
   "cell_type": "code",
   "execution_count": null,
   "id": "76c60740",
   "metadata": {},
   "outputs": [],
   "source": []
  },
  {
   "cell_type": "code",
   "execution_count": null,
   "id": "a73d68ef",
   "metadata": {},
   "outputs": [],
   "source": []
  },
  {
   "cell_type": "code",
   "execution_count": null,
   "id": "a5f069d0",
   "metadata": {},
   "outputs": [],
   "source": []
  },
  {
   "cell_type": "code",
   "execution_count": null,
   "id": "2664c7a7",
   "metadata": {},
   "outputs": [],
   "source": []
  },
  {
   "cell_type": "code",
   "execution_count": null,
   "id": "92a30842",
   "metadata": {},
   "outputs": [],
   "source": []
  },
  {
   "cell_type": "code",
   "execution_count": null,
   "id": "a9dbea6d",
   "metadata": {},
   "outputs": [],
   "source": []
  },
  {
   "cell_type": "code",
   "execution_count": null,
   "id": "86866f5b",
   "metadata": {},
   "outputs": [],
   "source": []
  },
  {
   "cell_type": "code",
   "execution_count": null,
   "id": "058ff7c4",
   "metadata": {},
   "outputs": [],
   "source": []
  },
  {
   "cell_type": "code",
   "execution_count": null,
   "id": "2b3bf44e",
   "metadata": {},
   "outputs": [],
   "source": []
  },
  {
   "cell_type": "code",
   "execution_count": null,
   "id": "62fa6348",
   "metadata": {},
   "outputs": [],
   "source": []
  },
  {
   "cell_type": "code",
   "execution_count": null,
   "id": "94c341dd",
   "metadata": {},
   "outputs": [],
   "source": []
  },
  {
   "cell_type": "code",
   "execution_count": null,
   "id": "2ba26899",
   "metadata": {},
   "outputs": [],
   "source": []
  },
  {
   "cell_type": "code",
   "execution_count": null,
   "id": "9be92911",
   "metadata": {},
   "outputs": [],
   "source": []
  },
  {
   "cell_type": "code",
   "execution_count": null,
   "id": "e853e247",
   "metadata": {},
   "outputs": [],
   "source": []
  }
 ],
 "metadata": {
  "kernelspec": {
   "display_name": "Python 3 (ipykernel)",
   "language": "python",
   "name": "python3"
  },
  "language_info": {
   "codemirror_mode": {
    "name": "ipython",
    "version": 3
   },
   "file_extension": ".py",
   "mimetype": "text/x-python",
   "name": "python",
   "nbconvert_exporter": "python",
   "pygments_lexer": "ipython3",
   "version": "3.9.12"
  },
  "vscode": {
   "interpreter": {
    "hash": "7cd4be3047bd5ffa4a6217a4ec9c5b806d07832cf03132b3ab007d11ed0054fa"
   }
  }
 },
 "nbformat": 4,
 "nbformat_minor": 5
}
