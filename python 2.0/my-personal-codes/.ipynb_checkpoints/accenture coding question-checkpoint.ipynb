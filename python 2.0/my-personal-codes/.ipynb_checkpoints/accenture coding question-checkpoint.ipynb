{
 "cells": [
  {
   "cell_type": "markdown",
   "id": "4e12df36",
   "metadata": {},
   "source": [
    "#The function accepts two positive integers ‘r’ and ‘unit’ and a positive integer array ‘arr’ of size ‘n’ as its argument ‘r’ represents the number of rats present in an area, ‘unit’ is the amount of food each rat consumes and each ith element of array ‘arr’ represents the amount of food present in ‘i+1’ house number, where 0 <= i\n",
    "\n",
    "Note:\n",
    "\n",
    "Return -1 if the array is null\n",
    "Return 0 if the total amount of food from all houses is not sufficient for all the rats.\n",
    "Computed values lie within the integer range.\n",
    "Example:\n",
    "\n",
    "Input:\n",
    "\n",
    "r: 7\n",
    "unit: 2\n",
    "n: 8\n",
    "arr: 2 8 3 5 7 4 1 2\n",
    "Output:\n",
    "\n",
    "4\n",
    "\n",
    "Explanation:\n",
    "\n",
    "Total amount of food required for all rats = r * unit\n",
    "\n",
    "= 7 * 2 = 14.\n",
    "\n",
    "The amount of food in 1st houses = 2+8+3+5 = 18. Since, amount of food in 1st 4 houses is sufficient for all the rats. Thus, output is 4."
   ]
  },
  {
   "cell_type": "code",
   "execution_count": 4,
   "id": "8cc13ff4",
   "metadata": {},
   "outputs": [
    {
     "name": "stdout",
     "output_type": "stream",
     "text": [
      "Enter the number of rats\n",
      "10\n",
      "The amount of food present\n",
      "5\n",
      "Enter the length of the array\n",
      "6\n",
      "Enter the food present in the houses\n",
      "123456\n",
      "50\n",
      "1\n"
     ]
    }
   ],
   "source": [
    "# my solution\n",
    "#accenture question\n",
    "def rat(r,unit,arr,n):\n",
    "    sumer = 0\n",
    "                         \n",
    "    total = r*unit\n",
    "    print(total)\n",
    "    if len(arr) == 0:\n",
    "        return(-1)\n",
    "    if sum(arr) < total:\n",
    "        return(0)\n",
    "    for i in range(len(arr)):\n",
    "        sumer = sumer + arr[i]\n",
    "        if sumer > total:\n",
    "            print(i+1)\n",
    "            break\n",
    "re = int(input(\"Enter the number of rats\\n\"))\n",
    "unite = int(input(\"The amount of food present\\n\"))\n",
    "ne = int(input(\"Enter the length of the array\\n\"))\n",
    "are = list(map(int,input(\"Enter the food present in the houses\\n\").split()))\n",
    "rat(re,unite,are,ne)\n"
   ]
  },
  {
   "cell_type": "code",
   "execution_count": 1,
   "id": "7a08e003",
   "metadata": {
    "scrolled": true
   },
   "outputs": [
    {
     "name": "stdout",
     "output_type": "stream",
     "text": [
      "10\n",
      "5\n",
      "6\n",
      "123456\n",
      "1\n"
     ]
    }
   ],
   "source": [
    "#websolution\n",
    "def calculate(r,unit,arr,n):\n",
    "    if n==0:\n",
    "        return -1\n",
    "\n",
    "    totalFoodRequired=r*unit\n",
    "    foodTillNow=0\n",
    "    house=0\n",
    "\n",
    "    for house in range(n):\n",
    "        foodTillNow+=arr[house]\n",
    "        if foodTillNow >= totalFoodRequired:\n",
    "            break\n",
    "\n",
    "    if totalFoodRequired > foodTillNow:\n",
    "        return 0\n",
    "\n",
    "    return house+1\n",
    "\n",
    "r = int(input())\n",
    "unit = int(input())\n",
    "n = int(input())\n",
    "\n",
    "arr = list(map(int,input().split()))\n",
    "print(calculate(r,unit,arr,n))"
   ]
  },
  {
   "cell_type": "code",
   "execution_count": null,
   "id": "d905ead0",
   "metadata": {},
   "outputs": [],
   "source": [
    "##"
   ]
  },
  {
   "cell_type": "markdown",
   "id": "81e76fcf",
   "metadata": {},
   "source": [
    "The Binary number system only uses two digits, 0 and 1 and number system can be called binary string. You are required to implement the following function:\n",
    "\n",
    "int OperationsBinaryString(char* str);\n",
    "\n",
    "The function accepts a string str as its argument. The string str consists of binary digits eparated with an alphabet as follows:\n",
    "\n",
    "– A denotes AND operation\n",
    "– B denotes OR operation\n",
    "– C denotes XOR Operation\n",
    "You are required to calculate the result of the string str, scanning the string to right taking one opearation at a time, and return the same.\n",
    "\n",
    "Note:\n",
    "\n",
    "No order of priorities of operations is required\n",
    "Length of str is odd\n",
    "If str is NULL or None (in case of Python), return -1\n",
    "Input:\n",
    "\n",
    "str: 1C0C1C1A0B1\n",
    "\n",
    "Output:\n",
    "\n",
    "1\n",
    "\n",
    "Explanation:\n",
    "\n",
    "The alphabets in str when expanded becomes “1 XOR 0 XOR 1 XOR 1 AND 0 OR 1”, result of the expression becomes 1, hence 1 is returned.\n",
    "\n",
    "Sample Input:\n",
    "\n",
    "0C1A1B1C1C1B0A0\n",
    "\n",
    "Output:\n",
    "\n",
    "0"
   ]
  },
  {
   "cell_type": "code",
   "execution_count": 10,
   "id": "7d050b86",
   "metadata": {},
   "outputs": [
    {
     "name": "stdout",
     "output_type": "stream",
     "text": [
      "Enter the string\n",
      "1C0C1C1A0B1\n"
     ]
    },
    {
     "data": {
      "text/plain": [
       "1"
      ]
     },
     "execution_count": 10,
     "metadata": {},
     "output_type": "execute_result"
    }
   ],
   "source": [
    "#solution\n",
    "def logical(st):\n",
    "    a = int(st[0])\n",
    "    i = 1\n",
    "    while i<len(st):\n",
    "        if st[i] == 'A':\n",
    "            a &= int(st[i+1])\n",
    "        elif st[i] == 'B':\n",
    "            a |= int(st[i+1])\n",
    "        elif st[i] == 'C':\n",
    "            a ^= int(st[i+1])\n",
    "        \n",
    "        i = i+2\n",
    "    return(a)\n",
    "\n",
    "\n",
    "s = list(map(str,input(\"Enter the string\\n\").strip()))\n",
    "logical(s)\n",
    "\n",
    "\n",
    "            \n",
    "            \n",
    "        \n",
    "\n"
   ]
  },
  {
   "cell_type": "markdown",
   "id": "b79b2c2e",
   "metadata": {},
   "source": [
    "You are given a function.\n",
    "int CheckPassword(char str[], int n);\n",
    "The function accepts string str of size n as an argument. Implement the function which returns 1 if given string str is valid password else 0.\n",
    "str is a valid password if it satisfies the below conditions.\n",
    "\n",
    "– At least 4 characters\n",
    "– At least one numeric digit\n",
    "– At Least one Capital Letter\n",
    "– Must not have space or slash (/)\n",
    "– Starting character must not be a number\n",
    "Assumption:\n",
    "Input string will not be empty.\n",
    "\n",
    "Example:\n",
    "\n",
    "Input:\n",
    "aA1_67\n",
    "Output:\n",
    "1\n",
    "\n",
    "Sample Input:\n",
    "a987 abC012\n",
    "Output:\n",
    "0"
   ]
  },
  {
   "cell_type": "code",
   "execution_count": 40,
   "id": "31f34dc3",
   "metadata": {},
   "outputs": [
    {
     "name": "stdout",
     "output_type": "stream",
     "text": [
      "aA1_67\n"
     ]
    },
    {
     "data": {
      "text/plain": [
       "1"
      ]
     },
     "execution_count": 40,
     "metadata": {},
     "output_type": "execute_result"
    }
   ],
   "source": [
    "def checkpassword(password,n):\n",
    "    if len(password) > 4:          #1st conditiion\n",
    "        return(1)\n",
    "    else:\n",
    "        return(0)\n",
    "    for i in range(len(password)):  #2nd condition\n",
    "        a = type(i)\n",
    "        count = 0\n",
    "        if type(password[i]) == int:\n",
    "            count = count + 1\n",
    "            if count > 1:\n",
    "                return(1)\n",
    "            else:\n",
    "                return(0)\n",
    "        \n",
    "    for i in range(len(password)):\n",
    "        counter = 0\n",
    "        if password[i].isupper():\n",
    "            counter = counter + 1\n",
    "            if counter > 1:\n",
    "                return(1)\n",
    "            else:\n",
    "                return(0)\n",
    "    for i in range(len(password)):\n",
    "        if password[i] == \" \":\n",
    "            return(0)\n",
    "        elif password[i] == \"/\":\n",
    "            return(0)\n",
    "        else:\n",
    "            return(1)\n",
    "    \n",
    "    x = password[0]\n",
    "    a = type(x)\n",
    "    if a == int:\n",
    "        return(0)\n",
    "    else:\n",
    "        return(1)\n",
    "        \n",
    "        \n",
    "        \n",
    "        \n",
    "    \n",
    "\n",
    "s = list(map(str,input()))\n",
    "m = len(s)\n",
    "checkpassword(s,m)            \n",
    "        \n",
    "        \n",
    "        \n",
    "       \n",
    "        \n",
    "    \n",
    "            \n",
    "            \n",
    "            \n",
    "    \n",
    "    \n",
    "    \n",
    "            \n",
    "    \n",
    "    \n",
    "    \n",
    "        \n",
    "    \n",
    "    "
   ]
  },
  {
   "cell_type": "code",
   "execution_count": 32,
   "id": "1c1b9b2d",
   "metadata": {},
   "outputs": [
    {
     "data": {
      "text/plain": [
       "11"
      ]
     },
     "execution_count": 32,
     "metadata": {},
     "output_type": "execute_result"
    }
   ],
   "source": [
    "l = \"a987 abC012\"\n",
    "b = len(l)\n",
    "b\n"
   ]
  },
  {
   "cell_type": "code",
   "execution_count": null,
   "id": "7f147250",
   "metadata": {},
   "outputs": [],
   "source": [
    "# print this is the code for check string in list"
   ]
  },
  {
   "cell_type": "code",
   "execution_count": 2,
   "id": "68e3a73e",
   "metadata": {},
   "outputs": [
    {
     "name": "stdout",
     "output_type": "stream",
     "text": [
      "1\n",
      "2\n",
      "not valid\n",
      "4\n"
     ]
    }
   ],
   "source": [
    "l = [1,2,\"str\",4]\n",
    "for i in range(len(l)):\n",
    "    a = type(i)\n",
    "    count = 0\n",
    "    if type(l[i]) == a:\n",
    "        count = count+1\n",
    "        print(l[i])\n",
    "    else:\n",
    "        print(\"not valid\")"
   ]
  },
  {
   "cell_type": "code",
   "execution_count": 12,
   "id": "4a2591be",
   "metadata": {},
   "outputs": [
    {
     "name": "stdout",
     "output_type": "stream",
     "text": [
      "True\n",
      "False\n",
      "False\n",
      "False\n",
      "False\n"
     ]
    }
   ],
   "source": [
    "k =  \"Hello\"\n",
    "\n",
    "for i in range(len(k)):\n",
    "    if k[i].isupper():\n",
    "        print(True)\n",
    "    else:\n",
    "        print(False)\n",
    " "
   ]
  },
  {
   "cell_type": "code",
   "execution_count": 5,
   "id": "60e7c7e3",
   "metadata": {},
   "outputs": [
    {
     "name": "stdout",
     "output_type": "stream",
     "text": [
      "True\n"
     ]
    }
   ],
   "source": [
    "string = 'GEEKSFORGEEKS'\n",
    "print(string.isupper())"
   ]
  },
  {
   "cell_type": "code",
   "execution_count": 6,
   "id": "fef30f5d",
   "metadata": {},
   "outputs": [
    {
     "name": "stdout",
     "output_type": "stream",
     "text": [
      "True\n"
     ]
    }
   ],
   "source": [
    "print( 'Z'.isupper())"
   ]
  },
  {
   "cell_type": "code",
   "execution_count": 13,
   "id": "44cc7ff2",
   "metadata": {},
   "outputs": [
    {
     "name": "stdout",
     "output_type": "stream",
     "text": [
      "False\n",
      "True\n"
     ]
    }
   ],
   "source": [
    "l = ['u','K']\n",
    "for i in range(len(l)):\n",
    "    if l[i].isupper():\n",
    "        print(True)\n",
    "    else:\n",
    "        print(False)\n",
    "    "
   ]
  },
  {
   "cell_type": "code",
   "execution_count": 16,
   "id": "31e142db",
   "metadata": {},
   "outputs": [
    {
     "data": {
      "text/plain": [
       "'!\"#$%&\\'()*+,-./:;<=>?@[\\\\]^_`{|}~'"
      ]
     },
     "execution_count": 16,
     "metadata": {},
     "output_type": "execute_result"
    }
   ],
   "source": [
    "import string\n",
    "string.punctuation"
   ]
  },
  {
   "cell_type": "code",
   "execution_count": 26,
   "id": "b54d10f5",
   "metadata": {},
   "outputs": [
    {
     "name": "stdout",
     "output_type": "stream",
     "text": [
      "False\n",
      " \n",
      "False\n",
      "/\n",
      "False\n",
      "/\n",
      "False\n",
      "/\n"
     ]
    }
   ],
   "source": [
    "n = \"hell ///\"\n",
    "for i in range(len(n)):\n",
    "    if n[i] == \" \":\n",
    "        print(False)\n",
    "        print(n[i])\n",
    "    elif n[i] == \"/\":\n",
    "        print(False)\n",
    "        print(n[i])\n",
    "   \n",
    "        \n",
    "         \n",
    "\n",
    "        \n",
    "           \n",
    "    "
   ]
  },
  {
   "cell_type": "code",
   "execution_count": 21,
   "id": "79b383d9",
   "metadata": {},
   "outputs": [
    {
     "name": "stdout",
     "output_type": "stream",
     "text": [
      "False\n"
     ]
    }
   ],
   "source": [
    "b = \"1helo\"\n",
    "x = int(b[0])\n",
    "s  = type(x)\n",
    "if s == int:\n",
    "    print(False)\n",
    "\n",
    "\n",
    "        \n",
    "        \n",
    "        \n",
    "            \n",
    "        \n",
    "            "
   ]
  },
  {
   "cell_type": "code",
   "execution_count": 23,
   "id": "64ede319",
   "metadata": {},
   "outputs": [
    {
     "name": "stdout",
     "output_type": "stream",
     "text": [
      "hello\n"
     ]
    }
   ],
   "source": [
    "s = list(map(str,input()))"
   ]
  },
  {
   "cell_type": "code",
   "execution_count": 24,
   "id": "fb48b7bf",
   "metadata": {},
   "outputs": [
    {
     "data": {
      "text/plain": [
       "['h', 'e', 'l', 'l', 'o']"
      ]
     },
     "execution_count": 24,
     "metadata": {},
     "output_type": "execute_result"
    }
   ],
   "source": [
    "s"
   ]
  },
  {
   "cell_type": "code",
   "execution_count": null,
   "id": "60d246c9",
   "metadata": {},
   "outputs": [],
   "source": []
  },
  {
   "cell_type": "code",
   "execution_count": null,
   "id": "31dcce3f",
   "metadata": {},
   "outputs": [],
   "source": []
  },
  {
   "cell_type": "code",
   "execution_count": null,
   "id": "2d7b98bf",
   "metadata": {},
   "outputs": [],
   "source": []
  },
  {
   "cell_type": "code",
   "execution_count": null,
   "id": "7be06b09",
   "metadata": {},
   "outputs": [],
   "source": []
  },
  {
   "cell_type": "code",
   "execution_count": null,
   "id": "cbf17320",
   "metadata": {},
   "outputs": [],
   "source": []
  },
  {
   "cell_type": "code",
   "execution_count": null,
   "id": "58ad9696",
   "metadata": {},
   "outputs": [],
   "source": []
  },
  {
   "cell_type": "code",
   "execution_count": null,
   "id": "ac5d498e",
   "metadata": {},
   "outputs": [],
   "source": []
  },
  {
   "cell_type": "code",
   "execution_count": null,
   "id": "f157abea",
   "metadata": {},
   "outputs": [],
   "source": []
  },
  {
   "cell_type": "code",
   "execution_count": null,
   "id": "0aa87b6b",
   "metadata": {},
   "outputs": [],
   "source": []
  },
  {
   "cell_type": "code",
   "execution_count": null,
   "id": "642bfc45",
   "metadata": {},
   "outputs": [],
   "source": []
  },
  {
   "cell_type": "code",
   "execution_count": null,
   "id": "0a11a274",
   "metadata": {},
   "outputs": [],
   "source": []
  }
 ],
 "metadata": {
  "kernelspec": {
   "display_name": "Python 3 (ipykernel)",
   "language": "python",
   "name": "python3"
  },
  "language_info": {
   "codemirror_mode": {
    "name": "ipython",
    "version": 3
   },
   "file_extension": ".py",
   "mimetype": "text/x-python",
   "name": "python",
   "nbconvert_exporter": "python",
   "pygments_lexer": "ipython3",
   "version": "3.9.12"
  }
 },
 "nbformat": 4,
 "nbformat_minor": 5
}
