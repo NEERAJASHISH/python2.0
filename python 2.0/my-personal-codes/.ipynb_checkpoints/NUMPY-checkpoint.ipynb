{
 "cells": [
  {
   "cell_type": "code",
   "execution_count": 3,
   "id": "61ce9f39",
   "metadata": {},
   "outputs": [],
   "source": [
    "import numpy as np"
   ]
  },
  {
   "cell_type": "code",
   "execution_count": 2,
   "id": "9ce422c4",
   "metadata": {},
   "outputs": [
    {
     "name": "stdout",
     "output_type": "stream",
     "text": [
      "[1 2 3]\n",
      "(3,)\n",
      "3\n",
      "1\n"
     ]
    }
   ],
   "source": [
    "a1 = np.array([1,2,3]) #one dimensional array\n",
    "print(a1)\n",
    "print(a1.shape)\n",
    "print(a1.size)\n",
    "print(a1.ndim)"
   ]
  },
  {
   "cell_type": "code",
   "execution_count": 3,
   "id": "4e7109c8",
   "metadata": {},
   "outputs": [
    {
     "name": "stdout",
     "output_type": "stream",
     "text": [
      "[[1 2 3]\n",
      " [4 5 6]]\n",
      "2\n",
      "6\n",
      "(2, 3)\n"
     ]
    }
   ],
   "source": [
    "ex1 = np.array([[1,2,3],[4,5,6]])\n",
    "print(ex1)\n",
    "print(ex1.ndim)\n",
    "print(ex1.size)\n",
    "print(ex1.shape)\n"
   ]
  },
  {
   "cell_type": "code",
   "execution_count": 4,
   "id": "c4588866",
   "metadata": {},
   "outputs": [
    {
     "name": "stdout",
     "output_type": "stream",
     "text": [
      "[[1 2 3]\n",
      " [4 5 6]]\n",
      "(2, 3)\n",
      "6\n"
     ]
    }
   ],
   "source": [
    "a2  = np.array([[1,2,3],\n",
    "               [4,5,6]]) \n",
    "print(a2)\n",
    "print(a2.shape)\n",
    "print(a2.size)\n"
   ]
  },
  {
   "cell_type": "code",
   "execution_count": 5,
   "id": "c091fe3f",
   "metadata": {},
   "outputs": [
    {
     "name": "stdout",
     "output_type": "stream",
     "text": [
      "[[[ 1  2  3]\n",
      "  [ 4  5  6]\n",
      "  [ 7  8  9]\n",
      "  [67 89 99]]\n",
      "\n",
      " [[10 11 12]\n",
      "  [13 14 15]\n",
      "  [16 17 18]\n",
      "  [19 20 21]]]\n",
      "(2, 4, 3)\n",
      "24\n",
      "3\n"
     ]
    }
   ],
   "source": [
    "a3 = np.array([[[1,2,3],\n",
    "                [4,5,6],\n",
    "                [7,8,9],\n",
    "                [67,89,99]],\n",
    "              [[10,11,12],\n",
    "               [13,14,15],\n",
    "               [16,17,18],\n",
    "               [19,20,21]]])\n",
    "              \n",
    "print(a3)\n",
    "print(a3.shape)\n",
    "print(a3.size)\n",
    "print(a3.ndim)\n"
   ]
  },
  {
   "cell_type": "code",
   "execution_count": 6,
   "id": "3c59dee2",
   "metadata": {},
   "outputs": [
    {
     "name": "stdout",
     "output_type": "stream",
     "text": [
      "[[[1 2 3]\n",
      "  [4 5 6]\n",
      "  [7 8 9]]\n",
      "\n",
      " [[1 2 3]\n",
      "  [4 5 6]\n",
      "  [7 8 9]]\n",
      "\n",
      " [[1 2 3]\n",
      "  [4 5 6]\n",
      "  [7 8 9]]]\n",
      "(3, 3, 3)\n",
      "3\n"
     ]
    }
   ],
   "source": [
    "a4 = np.array([\n",
    "    [[1,2,3],[4,5,6],[7,8,9]],\n",
    "    [[1,2,3],[4,5,6],[7,8,9]],\n",
    "    [[1,2,3],[4,5,6],[7,8,9]]\n",
    "])\n",
    "print(a4)\n",
    "print(a4.shape)\n",
    "print(a4.ndim)"
   ]
  },
  {
   "cell_type": "code",
   "execution_count": 7,
   "id": "d8cf25cd",
   "metadata": {},
   "outputs": [
    {
     "data": {
      "text/plain": [
       "array([[[1, 2, 3],\n",
       "        [4, 5, 6],\n",
       "        [7, 8, 9]],\n",
       "\n",
       "       [[1, 2, 3],\n",
       "        [4, 5, 6],\n",
       "        [7, 8, 9]],\n",
       "\n",
       "       [[1, 2, 3],\n",
       "        [4, 5, 6],\n",
       "        [7, 8, 9]]])"
      ]
     },
     "execution_count": 7,
     "metadata": {},
     "output_type": "execute_result"
    }
   ],
   "source": [
    "a4"
   ]
  },
  {
   "cell_type": "code",
   "execution_count": 8,
   "id": "c4c23abb",
   "metadata": {},
   "outputs": [
    {
     "data": {
      "text/html": [
       "<div>\n",
       "<style scoped>\n",
       "    .dataframe tbody tr th:only-of-type {\n",
       "        vertical-align: middle;\n",
       "    }\n",
       "\n",
       "    .dataframe tbody tr th {\n",
       "        vertical-align: top;\n",
       "    }\n",
       "\n",
       "    .dataframe thead th {\n",
       "        text-align: right;\n",
       "    }\n",
       "</style>\n",
       "<table border=\"1\" class=\"dataframe\">\n",
       "  <thead>\n",
       "    <tr style=\"text-align: right;\">\n",
       "      <th></th>\n",
       "      <th>0</th>\n",
       "      <th>1</th>\n",
       "      <th>2</th>\n",
       "    </tr>\n",
       "  </thead>\n",
       "  <tbody>\n",
       "    <tr>\n",
       "      <th>0</th>\n",
       "      <td>1</td>\n",
       "      <td>2</td>\n",
       "      <td>3</td>\n",
       "    </tr>\n",
       "    <tr>\n",
       "      <th>1</th>\n",
       "      <td>4</td>\n",
       "      <td>5</td>\n",
       "      <td>6</td>\n",
       "    </tr>\n",
       "  </tbody>\n",
       "</table>\n",
       "</div>"
      ],
      "text/plain": [
       "   0  1  2\n",
       "0  1  2  3\n",
       "1  4  5  6"
      ]
     },
     "execution_count": 8,
     "metadata": {},
     "output_type": "execute_result"
    }
   ],
   "source": [
    "import pandas as pd\n",
    "a5 = pd.DataFrame(a2)\n",
    "a5"
   ]
  },
  {
   "cell_type": "code",
   "execution_count": 9,
   "id": "b73ef943",
   "metadata": {},
   "outputs": [
    {
     "name": "stdout",
     "output_type": "stream",
     "text": [
      "   0  1  2\n",
      "0  1  2  3\n",
      "1  4  5  6\n"
     ]
    }
   ],
   "source": [
    "print(a5)"
   ]
  },
  {
   "cell_type": "code",
   "execution_count": 10,
   "id": "793cf97e",
   "metadata": {},
   "outputs": [
    {
     "name": "stdout",
     "output_type": "stream",
     "text": [
      "float64\n",
      "[[1. 1. 1.]\n",
      " [1. 1. 1.]]\n",
      "2\n",
      "<class 'numpy.ndarray'>\n",
      "(2, 3)\n"
     ]
    }
   ],
   "source": [
    "#creating a array of ones and zeros\n",
    "sample_array = np.ones((2,3))\n",
    "print(sample_array.dtype)\n",
    "print(sample_array)\n",
    "print(sample_array.ndim)\n",
    "print(type(sample_array))\n",
    "print(sample_array.shape)"
   ]
  },
  {
   "cell_type": "code",
   "execution_count": 11,
   "id": "eb1bedfe",
   "metadata": {},
   "outputs": [
    {
     "name": "stdout",
     "output_type": "stream",
     "text": [
      "(1, 3, 3)\n",
      "3\n",
      "9\n"
     ]
    }
   ],
   "source": [
    "exp2 = np.array([[[1,2,3],\n",
    "                 [4,5,6],\n",
    "                 [7,8,9]]])\n",
    "print(exp2.shape)\n",
    "print(exp2.ndim)\n",
    "print(exp2.size)"
   ]
  },
  {
   "cell_type": "code",
   "execution_count": 2,
   "id": "8042ee70",
   "metadata": {},
   "outputs": [],
   "source": [
    "import numpy as np"
   ]
  },
  {
   "cell_type": "code",
   "execution_count": 4,
   "id": "11e658b6",
   "metadata": {},
   "outputs": [
    {
     "name": "stdout",
     "output_type": "stream",
     "text": [
      "[[1. 1. 1. 1. 1.]]\n"
     ]
    }
   ],
   "source": [
    "#creating  a array of ones and zeros\n",
    "one = np.ones((1,5))\n",
    "print(one)"
   ]
  },
  {
   "cell_type": "code",
   "execution_count": 6,
   "id": "a9e294da",
   "metadata": {},
   "outputs": [
    {
     "name": "stdout",
     "output_type": "stream",
     "text": [
      "[[1. 1. 1.]\n",
      " [1. 1. 1.]]\n"
     ]
    }
   ],
   "source": [
    "#2d\n",
    "d20 = np.ones((2,3))\n",
    "print(d20)"
   ]
  },
  {
   "cell_type": "code",
   "execution_count": 9,
   "id": "4b4faf75",
   "metadata": {},
   "outputs": [
    {
     "name": "stdout",
     "output_type": "stream",
     "text": [
      "[[1. 1. 1.]\n",
      " [1. 1. 1.]\n",
      " [1. 1. 1.]]\n"
     ]
    }
   ],
   "source": [
    "#for creating three domensional array\n",
    "d30 = np.ones((3,3))\n",
    "print(d30)"
   ]
  },
  {
   "cell_type": "code",
   "execution_count": 10,
   "id": "9e946749",
   "metadata": {},
   "outputs": [],
   "source": [
    "import random "
   ]
  },
  {
   "cell_type": "code",
   "execution_count": 24,
   "id": "64925497",
   "metadata": {},
   "outputs": [
    {
     "name": "stdout",
     "output_type": "stream",
     "text": [
      "[[7 2 4 6 5]\n",
      " [5 2 2 1 4]\n",
      " [4 4 1 6 4]]\n"
     ]
    }
   ],
   "source": [
    "exp4 = np.random.randint(1,10,size = (3,5))\n",
    "print(exp4)"
   ]
  },
  {
   "cell_type": "code",
   "execution_count": null,
   "id": "a4857671",
   "metadata": {},
   "outputs": [],
   "source": [
    "#numpy youtube"
   ]
  },
  {
   "cell_type": "code",
   "execution_count": null,
   "id": "b88e3cb5",
   "metadata": {},
   "outputs": [],
   "source": [
    "#CREATING AN EMPTY ARRAY"
   ]
  },
  {
   "cell_type": "code",
   "execution_count": 14,
   "id": "9f70597d",
   "metadata": {},
   "outputs": [
    {
     "name": "stdout",
     "output_type": "stream",
     "text": [
      "[6.23042070e-307 4.67296746e-307 1.69121096e-306 1.33511290e-306]\n"
     ]
    }
   ],
   "source": [
    "emp = np.empty(4)\n",
    "print(emp)"
   ]
  },
  {
   "cell_type": "code",
   "execution_count": null,
   "id": "1ee60035",
   "metadata": {},
   "outputs": [],
   "source": [
    "#to arrange the element "
   ]
  },
  {
   "cell_type": "code",
   "execution_count": 16,
   "id": "00b09cc7",
   "metadata": {},
   "outputs": [
    {
     "name": "stdout",
     "output_type": "stream",
     "text": [
      "[0 1 2 3 4 5 6 7 8 9]\n"
     ]
    }
   ],
   "source": [
    "exp5 = np.arange(10)\n",
    "print(exp5)"
   ]
  },
  {
   "cell_type": "code",
   "execution_count": null,
   "id": "662e0865",
   "metadata": {},
   "outputs": [],
   "source": [
    "#linspace and diognal element used in python\n"
   ]
  },
  {
   "cell_type": "code",
   "execution_count": 25,
   "id": "e1f2239d",
   "metadata": {},
   "outputs": [
    {
     "name": "stdout",
     "output_type": "stream",
     "text": [
      "2\n",
      "[[1. 0. 0.]\n",
      " [0. 1. 0.]\n",
      " [0. 0. 1.]]\n"
     ]
    }
   ],
   "source": [
    "#for creating a diognal matrix\n",
    "exp8 = np.eye(3,3) #retrun only 2d array\n",
    "print(exp8.ndim)\n",
    "print(exp8)"
   ]
  },
  {
   "cell_type": "code",
   "execution_count": 37,
   "id": "14e2ba54",
   "metadata": {},
   "outputs": [
    {
     "name": "stdout",
     "output_type": "stream",
     "text": [
      "2\n",
      "[[0. 1. 0.]\n",
      " [0. 0. 1.]\n",
      " [0. 0. 0.]]\n"
     ]
    }
   ],
   "source": [
    "exp9 =np.eye(3,3,1) # we can change the diognal to be in first second and the third row\n",
    "print(exp9.ndim)\n",
    "print(exp9)"
   ]
  },
  {
   "cell_type": "code",
   "execution_count": 48,
   "id": "91170423",
   "metadata": {},
   "outputs": [
    {
     "name": "stdout",
     "output_type": "stream",
     "text": [
      "2\n",
      "[[0. 0. 0.]\n",
      " [1. 0. 0.]\n",
      " [0. 1. 0.]]\n"
     ]
    }
   ],
   "source": [
    "exp10 =np.eye(3,3,-1) # we can change the diognal to be in first second and the third row\n",
    "print(exp10.ndim)\n",
    "print(exp10)"
   ]
  },
  {
   "cell_type": "code",
   "execution_count": 54,
   "id": "772c444d",
   "metadata": {},
   "outputs": [
    {
     "name": "stdout",
     "output_type": "stream",
     "text": [
      "2\n",
      "[[0. 0. 0.]\n",
      " [0. 0. 0.]\n",
      " [1. 0. 0.]]\n"
     ]
    }
   ],
   "source": [
    "exp11 =np.eye(3,3,-2) # we can change the diognal to be in first second and the third row in lower rows using the index elemnt\n",
    "print(exp11.ndim)\n",
    "print(exp11)"
   ]
  },
  {
   "cell_type": "code",
   "execution_count": null,
   "id": "2d1cfc9c",
   "metadata": {},
   "outputs": [],
   "source": [
    "#creating a random value in numpy\n",
    "#using the import function for random use"
   ]
  },
  {
   "cell_type": "code",
   "execution_count": 55,
   "id": "381e3f02",
   "metadata": {},
   "outputs": [],
   "source": [
    "import random"
   ]
  },
  {
   "cell_type": "code",
   "execution_count": 59,
   "id": "53f7a1ff",
   "metadata": {},
   "outputs": [
    {
     "name": "stdout",
     "output_type": "stream",
     "text": [
      "[0.26305485 0.95442823 0.53534499 0.67036195 0.07385869 0.51030102\n",
      " 0.77787876 0.04745519 0.47714716 0.53915139]\n"
     ]
    }
   ],
   "source": [
    "n1 = np.random.rand((10)) # return the positive value between 0 and 1\n",
    "print(n1) #creating a one dimensional array"
   ]
  },
  {
   "cell_type": "code",
   "execution_count": 80,
   "id": "e31b2b50",
   "metadata": {},
   "outputs": [
    {
     "data": {
      "text/plain": [
       "array([[0.23292179, 0.82037845, 0.0406688 ],\n",
       "       [0.67497678, 0.09834379, 0.45032276]])"
      ]
     },
     "execution_count": 80,
     "metadata": {},
     "output_type": "execute_result"
    }
   ],
   "source": [
    "n2 = np.random.rand(2,3) #the (2,3) indicates the size of the matrix\n",
    "n2"
   ]
  },
  {
   "cell_type": "code",
   "execution_count": 84,
   "id": "2dd32d0b",
   "metadata": {},
   "outputs": [
    {
     "name": "stdout",
     "output_type": "stream",
     "text": [
      "[[[0.64647943 0.68296422 0.81713899]\n",
      "  [0.50600034 0.40593404 0.86893914]\n",
      "  [0.91288542 0.21182832 0.61620485]]\n",
      "\n",
      " [[0.34077513 0.48713579 0.67405191]\n",
      "  [0.35369642 0.76126885 0.44492232]\n",
      "  [0.71011127 0.18888896 0.70429885]]\n",
      "\n",
      " [[0.32531727 0.18060915 0.49694036]\n",
      "  [0.26519844 0.33563804 0.93094494]\n",
      "  [0.27770615 0.44461342 0.45297526]]]\n"
     ]
    },
    {
     "data": {
      "text/plain": [
       "3"
      ]
     },
     "execution_count": 84,
     "metadata": {},
     "output_type": "execute_result"
    }
   ],
   "source": [
    "n2 = np.random.rand(3,3,3) #the (2,3) indicates the size of the matrix\n",
    "print(n2)\n",
    "n2.ndim"
   ]
  },
  {
   "cell_type": "code",
   "execution_count": 97,
   "id": "379bcb92",
   "metadata": {},
   "outputs": [
    {
     "data": {
      "text/plain": [
       "array([-0.00219199])"
      ]
     },
     "execution_count": 97,
     "metadata": {},
     "output_type": "execute_result"
    }
   ],
   "source": [
    "#using the randn\n",
    "n2 = np.random.randn(1)  # the 1 indicates the the dimensional of the array created and the randn retrurn the valaue positive and negative\n",
    "n2"
   ]
  },
  {
   "cell_type": "code",
   "execution_count": 101,
   "id": "3c26c4a9",
   "metadata": {},
   "outputs": [
    {
     "name": "stdout",
     "output_type": "stream",
     "text": [
      "[[ 0.49188684  0.3826841  -0.77466747]\n",
      " [ 1.23350968  1.50882567 -0.33589265]]\n"
     ]
    },
    {
     "data": {
      "text/plain": [
       "2"
      ]
     },
     "execution_count": 101,
     "metadata": {},
     "output_type": "execute_result"
    }
   ],
   "source": [
    "n2 = np.random.randn(2,3)  # the 1 indicates the the dimensional of the array created and the randn retrurn the valaue positive and negative\n",
    "print(n2)\n",
    "n2.ndim"
   ]
  },
  {
   "cell_type": "code",
   "execution_count": 103,
   "id": "7aa349cb",
   "metadata": {},
   "outputs": [
    {
     "name": "stdout",
     "output_type": "stream",
     "text": [
      "[[[ 0.53462856 -0.30487048 -1.04833719]\n",
      "  [ 0.40348055  0.30359841 -0.88203825]]\n",
      "\n",
      " [[ 0.89249468  0.07369736  0.3445285 ]\n",
      "  [ 1.62033851 -1.41650358  0.03743037]]\n",
      "\n",
      " [[ 2.82617832 -0.22673382  0.2089018 ]\n",
      "  [-2.79542618  0.86555164 -0.2505538 ]]]\n"
     ]
    },
    {
     "data": {
      "text/plain": [
       "3"
      ]
     },
     "execution_count": 103,
     "metadata": {},
     "output_type": "execute_result"
    }
   ],
   "source": [
    "n2 = np.random.randn(3,2,3)  # the 1 indicates the the dimensional of the array created and the randn retrurn the valaue positive and negative\n",
    "print(n2)\n",
    "n2.ndim"
   ]
  },
  {
   "cell_type": "code",
   "execution_count": 112,
   "id": "45ae5528",
   "metadata": {},
   "outputs": [
    {
     "data": {
      "text/plain": [
       "[324072,\n",
       " 2828876,\n",
       " 2502904,\n",
       " 7660966,\n",
       " 9024722,\n",
       " 6679001,\n",
       " 8579068,\n",
       " 3982459,\n",
       " 6929774,\n",
       " 6904247]"
      ]
     },
     "execution_count": 112,
     "metadata": {},
     "output_type": "execute_result"
    }
   ],
   "source": [
    "random.sample(range(10000000),10)"
   ]
  },
  {
   "cell_type": "code",
   "execution_count": 114,
   "id": "8c5f52b3",
   "metadata": {},
   "outputs": [
    {
     "data": {
      "text/plain": [
       "['red', 'blue', 'red', 'blue', 'red']"
      ]
     },
     "execution_count": 114,
     "metadata": {},
     "output_type": "execute_result"
    }
   ],
   "source": [
    "random.sample(['red', 'blue'], counts=[4, 2], k=5)"
   ]
  },
  {
   "cell_type": "code",
   "execution_count": null,
   "id": "8f2b7f4f",
   "metadata": {},
   "outputs": [],
   "source": [
    "#to use the ranint\n"
   ]
  },
  {
   "cell_type": "code",
   "execution_count": 137,
   "id": "6acfd421",
   "metadata": {},
   "outputs": [
    {
     "name": "stdout",
     "output_type": "stream",
     "text": [
      "[[[3 2 5]\n",
      "  [8 5 2]\n",
      "  [3 5 0]]\n",
      "\n",
      " [[1 7 1]\n",
      "  [6 1 6]\n",
      "  [1 6 2]]\n",
      "\n",
      " [[6 8 0]\n",
      "  [5 1 4]\n",
      "  [7 0 5]]]\n"
     ]
    }
   ],
   "source": [
    "n2 = np.random.randint(0,10,size = (3,3,3))  # the 1 indicates the the dimensional of the array created and the randn retrurn the valaue positive and negative\n",
    "print(n2)\n"
   ]
  },
  {
   "cell_type": "code",
   "execution_count": null,
   "id": "e7b58bd7",
   "metadata": {},
   "outputs": [],
   "source": [
    "#data type in numpy array"
   ]
  },
  {
   "cell_type": "code",
   "execution_count": null,
   "id": "da0be898",
   "metadata": {},
   "outputs": [],
   "source": [
    "#converting from one datatype to another datatype"
   ]
  },
  {
   "cell_type": "code",
   "execution_count": 139,
   "id": "09239aa0",
   "metadata": {},
   "outputs": [
    {
     "name": "stdout",
     "output_type": "stream",
     "text": [
      "[1. 2. 3. 4.]\n"
     ]
    }
   ],
   "source": [
    "np1 = np.array([1,2,3,4],dtype=\"f\")\n",
    "print(np1)"
   ]
  },
  {
   "cell_type": "code",
   "execution_count": null,
   "id": "74deadfd",
   "metadata": {},
   "outputs": [],
   "source": [
    "#shape in numpy array"
   ]
  },
  {
   "cell_type": "code",
   "execution_count": null,
   "id": "4a58e844",
   "metadata": {},
   "outputs": [],
   "source": []
  },
  {
   "cell_type": "code",
   "execution_count": null,
   "id": "79e94939",
   "metadata": {},
   "outputs": [],
   "source": []
  },
  {
   "cell_type": "code",
   "execution_count": null,
   "id": "d8a83f91",
   "metadata": {},
   "outputs": [],
   "source": []
  },
  {
   "cell_type": "code",
   "execution_count": null,
   "id": "18679bf9",
   "metadata": {},
   "outputs": [],
   "source": []
  },
  {
   "cell_type": "code",
   "execution_count": null,
   "id": "af664150",
   "metadata": {},
   "outputs": [],
   "source": []
  },
  {
   "cell_type": "code",
   "execution_count": null,
   "id": "b57404b5",
   "metadata": {},
   "outputs": [],
   "source": []
  },
  {
   "cell_type": "code",
   "execution_count": null,
   "id": "c47120be",
   "metadata": {},
   "outputs": [],
   "source": []
  },
  {
   "cell_type": "code",
   "execution_count": null,
   "id": "3c176921",
   "metadata": {},
   "outputs": [],
   "source": []
  },
  {
   "cell_type": "code",
   "execution_count": null,
   "id": "11c439be",
   "metadata": {},
   "outputs": [],
   "source": []
  },
  {
   "cell_type": "code",
   "execution_count": null,
   "id": "02c620d3",
   "metadata": {},
   "outputs": [],
   "source": []
  },
  {
   "cell_type": "code",
   "execution_count": null,
   "id": "69989ce4",
   "metadata": {},
   "outputs": [],
   "source": []
  },
  {
   "cell_type": "code",
   "execution_count": null,
   "id": "6b9c7650",
   "metadata": {},
   "outputs": [],
   "source": []
  },
  {
   "cell_type": "code",
   "execution_count": null,
   "id": "a5f76d13",
   "metadata": {},
   "outputs": [],
   "source": []
  },
  {
   "cell_type": "code",
   "execution_count": null,
   "id": "9396d2fe",
   "metadata": {},
   "outputs": [],
   "source": []
  },
  {
   "cell_type": "code",
   "execution_count": null,
   "id": "151afc2d",
   "metadata": {},
   "outputs": [],
   "source": []
  },
  {
   "cell_type": "code",
   "execution_count": null,
   "id": "1b079dec",
   "metadata": {},
   "outputs": [],
   "source": []
  },
  {
   "cell_type": "code",
   "execution_count": null,
   "id": "57c88c03",
   "metadata": {},
   "outputs": [],
   "source": []
  },
  {
   "cell_type": "code",
   "execution_count": null,
   "id": "cfedfe24",
   "metadata": {},
   "outputs": [],
   "source": []
  },
  {
   "cell_type": "code",
   "execution_count": null,
   "id": "6ca5f017",
   "metadata": {},
   "outputs": [],
   "source": []
  },
  {
   "cell_type": "code",
   "execution_count": null,
   "id": "08f29ba2",
   "metadata": {},
   "outputs": [],
   "source": []
  },
  {
   "cell_type": "code",
   "execution_count": null,
   "id": "bb88d37b",
   "metadata": {},
   "outputs": [],
   "source": []
  },
  {
   "cell_type": "code",
   "execution_count": null,
   "id": "e3eaf7f8",
   "metadata": {},
   "outputs": [],
   "source": []
  },
  {
   "cell_type": "code",
   "execution_count": null,
   "id": "bd333357",
   "metadata": {},
   "outputs": [],
   "source": []
  },
  {
   "cell_type": "code",
   "execution_count": null,
   "id": "b84415b7",
   "metadata": {},
   "outputs": [],
   "source": []
  },
  {
   "cell_type": "code",
   "execution_count": null,
   "id": "fef2188c",
   "metadata": {},
   "outputs": [],
   "source": []
  },
  {
   "cell_type": "code",
   "execution_count": null,
   "id": "e27064dc",
   "metadata": {},
   "outputs": [],
   "source": []
  },
  {
   "cell_type": "code",
   "execution_count": null,
   "id": "36a47bac",
   "metadata": {},
   "outputs": [],
   "source": []
  },
  {
   "cell_type": "code",
   "execution_count": null,
   "id": "df1b629d",
   "metadata": {},
   "outputs": [],
   "source": []
  },
  {
   "cell_type": "code",
   "execution_count": null,
   "id": "d25d5074",
   "metadata": {},
   "outputs": [],
   "source": []
  },
  {
   "cell_type": "code",
   "execution_count": null,
   "id": "d705d6de",
   "metadata": {},
   "outputs": [],
   "source": []
  },
  {
   "cell_type": "code",
   "execution_count": null,
   "id": "c380a5a5",
   "metadata": {},
   "outputs": [],
   "source": []
  },
  {
   "cell_type": "code",
   "execution_count": null,
   "id": "4554f098",
   "metadata": {},
   "outputs": [],
   "source": []
  },
  {
   "cell_type": "code",
   "execution_count": null,
   "id": "0ce814f7",
   "metadata": {},
   "outputs": [],
   "source": []
  },
  {
   "cell_type": "code",
   "execution_count": null,
   "id": "a8e54579",
   "metadata": {},
   "outputs": [],
   "source": []
  },
  {
   "cell_type": "code",
   "execution_count": null,
   "id": "922628f4",
   "metadata": {},
   "outputs": [],
   "source": []
  },
  {
   "cell_type": "code",
   "execution_count": null,
   "id": "363bde3c",
   "metadata": {},
   "outputs": [],
   "source": []
  }
 ],
 "metadata": {
  "kernelspec": {
   "display_name": "Python 3 (ipykernel)",
   "language": "python",
   "name": "python3"
  },
  "language_info": {
   "codemirror_mode": {
    "name": "ipython",
    "version": 3
   },
   "file_extension": ".py",
   "mimetype": "text/x-python",
   "name": "python",
   "nbconvert_exporter": "python",
   "pygments_lexer": "ipython3",
   "version": "3.9.12"
  },
  "vscode": {
   "interpreter": {
    "hash": "7cd4be3047bd5ffa4a6217a4ec9c5b806d07832cf03132b3ab007d11ed0054fa"
   }
  }
 },
 "nbformat": 4,
 "nbformat_minor": 5
}
