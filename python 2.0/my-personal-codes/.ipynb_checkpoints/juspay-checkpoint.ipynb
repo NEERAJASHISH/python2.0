{
 "cells": [
  {
   "cell_type": "code",
   "execution_count": 1,
   "id": "2969ccec",
   "metadata": {},
   "outputs": [
    {
     "name": "stdout",
     "output_type": "stream",
     "text": [
      "0\n",
      "1\n",
      "2\n",
      "3\n",
      "4\n",
      "5\n",
      "6\n",
      "7\n",
      "8\n",
      "9\n"
     ]
    }
   ],
   "source": [
    "for i in range(10):\n",
    "    print(i)"
   ]
  },
  {
   "cell_type": "code",
   "execution_count": 31,
   "id": "7e7404e0",
   "metadata": {},
   "outputs": [],
   "source": [
    "l=[1,2,3,8,7]\n",
    "s = []\n",
    "length = len(l)-1\n",
    "for i in range(len(l)):\n",
    "    maxy = l[length-i]\n",
    "    mini = l[i]\n",
    "    s.append(maxy)\n",
    "    s.append(mini)\n",
    "    \n",
    "for j in range(len(s)):\n",
    "    while\n",
    "    \n",
    "\n",
    "    \n",
    "    \n",
    "      \n",
    "    \n",
    "    \n",
    "    \n",
    "   \n",
    "    "
   ]
  },
  {
   "cell_type": "code",
   "execution_count": null,
   "id": "3908f993",
   "metadata": {},
   "outputs": [],
   "source": []
  },
  {
   "cell_type": "code",
   "execution_count": 32,
   "id": "0e2a63ef",
   "metadata": {},
   "outputs": [
    {
     "data": {
      "text/plain": [
       "[7, 1, 8, 2, 3, 3, 2, 8, 1, 7]"
      ]
     },
     "execution_count": 32,
     "metadata": {},
     "output_type": "execute_result"
    }
   ],
   "source": [
    "s"
   ]
  },
  {
   "cell_type": "code",
   "execution_count": null,
   "id": "7206c579",
   "metadata": {},
   "outputs": [],
   "source": []
  },
  {
   "cell_type": "code",
   "execution_count": 7,
   "id": "db976aca",
   "metadata": {},
   "outputs": [
    {
     "name": "stdout",
     "output_type": "stream",
     "text": [
      "[7, 8, 3, 2, 1]\n",
      "[1, 2, 3, 8, 7]\n",
      "[7, 1, 8, 2]\n"
     ]
    }
   ],
   "source": [
    "l=[1,2,3,8,7]\n",
    "s = []\n",
    "k = []\n",
    "length = len(l)-1\n",
    "for i in range(len(l)):\n",
    "    s.append(l[length-i])\n",
    "    k.append(l[i])\n",
    "print(s) \n",
    "print(k)\n",
    "p= []\n",
    "j = 0\n",
    "while(j<len(s)):\n",
    "    if(s[0]>k[j]):\n",
    "        \n",
    "\n",
    "       \n",
    "\n",
    "\n",
    "\n",
    "\n",
    "\n",
    "\n",
    "    \n",
    "\n",
    "\n",
    "\n",
    "     \n",
    "\n"
   ]
  },
  {
   "cell_type": "code",
   "execution_count": 2,
   "id": "8cb6c76a",
   "metadata": {},
   "outputs": [
    {
     "data": {
      "text/plain": [
       "1"
      ]
     },
     "execution_count": 2,
     "metadata": {},
     "output_type": "execute_result"
    }
   ],
   "source": [
    "from collections import deque\n",
    "dq = deque([1,2,3,4,5,6])\n",
    "dq.popleft()"
   ]
  },
  {
   "cell_type": "code",
   "execution_count": 1,
   "id": "ae6829d9",
   "metadata": {},
   "outputs": [
    {
     "ename": "ValueError",
     "evalue": "invalid literal for int() with base 10: ''",
     "output_type": "error",
     "traceback": [
      "\u001b[1;31m---------------------------------------------------------------------------\u001b[0m",
      "\u001b[1;31mValueError\u001b[0m                                Traceback (most recent call last)",
      "\u001b[1;32mc:\\Users\\Lenevo\\python2.0\\python 2.0\\my-personal-codes\\juspay.ipynb Cell 8\u001b[0m in \u001b[0;36m<cell line: 31>\u001b[1;34m()\u001b[0m\n\u001b[0;32m     <a href='vscode-notebook-cell:/c%3A/Users/Lenevo/python2.0/python%202.0/my-personal-codes/juspay.ipynb#X10sZmlsZQ%3D%3D?line=13'>14</a>\u001b[0m         \u001b[39mif\u001b[39;00m d[\u001b[39m-\u001b[39m\u001b[39m1\u001b[39m] \u001b[39m>\u001b[39m large \u001b[39mor\u001b[39;00m d[\u001b[39m0\u001b[39m] \u001b[39m>\u001b[39m large:\n\u001b[0;32m     <a href='vscode-notebook-cell:/c%3A/Users/Lenevo/python2.0/python%202.0/my-personal-codes/juspay.ipynb#X10sZmlsZQ%3D%3D?line=14'>15</a>\u001b[0m             \u001b[39mprint\u001b[39m(\u001b[39m\"\u001b[39m\u001b[39mno\u001b[39m\u001b[39m\"\u001b[39m)\n\u001b[1;32m---> <a href='vscode-notebook-cell:/c%3A/Users/Lenevo/python2.0/python%202.0/my-personal-codes/juspay.ipynb#X10sZmlsZQ%3D%3D?line=30'>31</a>\u001b[0m \u001b[39mfor\u001b[39;00m i \u001b[39min\u001b[39;00m \u001b[39mrange\u001b[39m(\u001b[39mint\u001b[39;49m(\u001b[39minput\u001b[39;49m())):\n\u001b[0;32m     <a href='vscode-notebook-cell:/c%3A/Users/Lenevo/python2.0/python%202.0/my-personal-codes/juspay.ipynb#X10sZmlsZQ%3D%3D?line=31'>32</a>\u001b[0m     no_of_cubes \u001b[39m=\u001b[39m \u001b[39mint\u001b[39m(\u001b[39minput\u001b[39m())\n\u001b[0;32m     <a href='vscode-notebook-cell:/c%3A/Users/Lenevo/python2.0/python%202.0/my-personal-codes/juspay.ipynb#X10sZmlsZQ%3D%3D?line=32'>33</a>\u001b[0m     d \u001b[39m=\u001b[39m deque(\u001b[39mmap\u001b[39m(\u001b[39mint\u001b[39m,\u001b[39minput\u001b[39m()\u001b[39m.\u001b[39msplit()))\n",
      "\u001b[1;31mValueError\u001b[0m: invalid literal for int() with base 10: ''"
     ]
    }
   ],
   "source": [
    "from collections import deque\n",
    "\n",
    "def piling(d):\n",
    "    while d:\n",
    "        large = None\n",
    "        if d[-1] > d[0]:\n",
    "            large = d.pop()\n",
    "        else:\n",
    "            large = d.popleft()\n",
    "\n",
    "        if len(d) == 0:\n",
    "            return(\"Yes\")\n",
    "\n",
    "        if d[-1] > large or d[0] > large:\n",
    "            print(\"no\")\n",
    "    \n",
    "            \n",
    "\n",
    "\n",
    "\n",
    "\n",
    "\n",
    "\n",
    "\n",
    "\n",
    "\n",
    "\n",
    "\n",
    "\n",
    "\n",
    "for i in range(int(input())):\n",
    "    no_of_cubes = int(input())\n",
    "    d = deque(map(int,input().split()))\n",
    "    \n",
    "\n"
   ]
  },
  {
   "cell_type": "code",
   "execution_count": 2,
   "id": "a21746b4",
   "metadata": {},
   "outputs": [
    {
     "name": "stdout",
     "output_type": "stream",
     "text": [
      "0\n",
      "1\n",
      "2\n",
      "3\n",
      "4\n",
      "5\n",
      "6\n",
      "7\n",
      "8\n",
      "9\n"
     ]
    }
   ],
   "source": [
    "for i in range(10):\n",
    "    print(i)"
   ]
  },
  {
   "cell_type": "code",
   "execution_count": 4,
   "id": "14397468",
   "metadata": {},
   "outputs": [
    {
     "name": "stdout",
     "output_type": "stream",
     "text": [
      "0\n",
      "1\n",
      "2\n",
      "3\n",
      "4\n",
      "5\n",
      "6\n",
      "7\n",
      "8\n",
      "9\n"
     ]
    }
   ],
   "source": [
    "for i in range(10):\n",
    "    print(i)"
   ]
  },
  {
   "cell_type": "code",
   "execution_count": 15,
   "id": "000c0ccb",
   "metadata": {},
   "outputs": [],
   "source": [
    "class node:\n",
    "    def __init__(self,value=None):\n",
    "        self.value = value\n",
    "        self.next = None\n",
    "        \n",
    "    def isempty(self):\n",
    "        return(self.value==None)\n",
    "    \n",
    "    def append(self,v):\n",
    "        if self.isempty:\n",
    "            self.value = v\n",
    "        elif(self.next == None):\n",
    "            newnode = node(v)\n",
    "            self.next = newnode\n",
    "        else:\n",
    "            self.next.append(v)\n",
    "            \n",
    "    def appendi(self,v):\n",
    "        if self.isempty:\n",
    "            self.value = v\n",
    "        return()\n",
    "      \n",
    "        temp = self\n",
    "        \n",
    "        while self.next!=None:\n",
    "            temp = temp.next\n",
    "        \n",
    "        newnode = node(v)\n",
    "        temp.next = newnode\n",
    "        return()\n",
    "    \n",
    "    def insert(self,v):\n",
    "        if self.isempty:\n",
    "            self.value=v\n",
    "        return()\n",
    "    \n",
    "        newnode = node(v)\n",
    "        \n",
    "        \n",
    "        (self.value,newnode.value) = (newnode.value,self.value)\n",
    "        (self.next,newnode.next) = (newnode,self.next)\n",
    "        \n",
    "        return()\n",
    "    \n",
    "    def deleter(self,x):\n",
    "        if self.isempty:\n",
    "            return()\n",
    "        \n",
    "        if self.value == x:\n",
    "            if self.next==None:\n",
    "                self.value = None\n",
    "            else:\n",
    "                self.value = self.next.value\n",
    "                self.next = self.next.next\n",
    "                return()\n",
    "            \n",
    "        temp = self\n",
    "        \n",
    "        while temp.next!=None:\n",
    "            if temp.next.value == x:\n",
    "                temp.next = temp.next.next\n",
    "                return()\n",
    "            else:\n",
    "                temp = temp.next\n",
    "        return()\n",
    "            \n",
    "        \n",
    "    \n",
    "                \n",
    "            \n",
    "        \n",
    "            \n",
    "        \n",
    "                \n",
    "            \n",
    "            \n",
    "        \n",
    "        \n",
    "        \n",
    "        \n",
    "    \n",
    "    \n",
    "        \n",
    "    \n",
    "    \n",
    "  \n",
    "        \n",
    "        \n",
    "        \n",
    "    \n",
    "        \n",
    "        \n",
    "        \n",
    "    \n",
    "    \n",
    "     \n",
    "    \n",
    "            \n",
    "        \n",
    "    \n",
    "    \n",
    "    \n",
    "    "
   ]
  },
  {
   "cell_type": "code",
   "execution_count": 16,
   "id": "29cd244b",
   "metadata": {},
   "outputs": [
    {
     "data": {
      "text/plain": [
       "False"
      ]
     },
     "execution_count": 16,
     "metadata": {},
     "output_type": "execute_result"
    }
   ],
   "source": [
    "l = node(10)\n",
    "l.isempty()"
   ]
  },
  {
   "cell_type": "code",
   "execution_count": null,
   "id": "922a764e",
   "metadata": {},
   "outputs": [],
   "source": []
  },
  {
   "cell_type": "code",
   "execution_count": null,
   "id": "8de6c6fc",
   "metadata": {},
   "outputs": [],
   "source": []
  },
  {
   "cell_type": "code",
   "execution_count": null,
   "id": "d1dc2d05",
   "metadata": {},
   "outputs": [],
   "source": []
  },
  {
   "cell_type": "code",
   "execution_count": null,
   "id": "2d60dbdb",
   "metadata": {},
   "outputs": [],
   "source": []
  },
  {
   "cell_type": "code",
   "execution_count": null,
   "id": "3bf8138f",
   "metadata": {},
   "outputs": [],
   "source": []
  },
  {
   "cell_type": "code",
   "execution_count": null,
   "id": "33b8ffd5",
   "metadata": {},
   "outputs": [],
   "source": []
  },
  {
   "cell_type": "code",
   "execution_count": null,
   "id": "b8a0a3ed",
   "metadata": {},
   "outputs": [],
   "source": []
  },
  {
   "cell_type": "code",
   "execution_count": null,
   "id": "3e73c64c",
   "metadata": {},
   "outputs": [],
   "source": []
  },
  {
   "cell_type": "code",
   "execution_count": null,
   "id": "f1385236",
   "metadata": {},
   "outputs": [],
   "source": []
  },
  {
   "cell_type": "code",
   "execution_count": null,
   "id": "9572c8de",
   "metadata": {},
   "outputs": [],
   "source": []
  },
  {
   "cell_type": "code",
   "execution_count": null,
   "id": "c68f3cd3",
   "metadata": {},
   "outputs": [],
   "source": []
  },
  {
   "cell_type": "code",
   "execution_count": null,
   "id": "1ad0045e",
   "metadata": {},
   "outputs": [],
   "source": []
  },
  {
   "cell_type": "code",
   "execution_count": null,
   "id": "2b3a816f",
   "metadata": {},
   "outputs": [],
   "source": []
  },
  {
   "cell_type": "code",
   "execution_count": null,
   "id": "faf351ea",
   "metadata": {},
   "outputs": [],
   "source": []
  },
  {
   "cell_type": "code",
   "execution_count": null,
   "id": "56638bf2",
   "metadata": {},
   "outputs": [],
   "source": []
  },
  {
   "cell_type": "code",
   "execution_count": null,
   "id": "9c10bae9",
   "metadata": {},
   "outputs": [],
   "source": []
  },
  {
   "cell_type": "code",
   "execution_count": null,
   "id": "7b37e306",
   "metadata": {},
   "outputs": [],
   "source": []
  },
  {
   "cell_type": "code",
   "execution_count": null,
   "id": "bdbf3133",
   "metadata": {},
   "outputs": [],
   "source": []
  },
  {
   "cell_type": "code",
   "execution_count": null,
   "id": "729c1c01",
   "metadata": {},
   "outputs": [],
   "source": []
  },
  {
   "cell_type": "code",
   "execution_count": null,
   "id": "29f2be29",
   "metadata": {},
   "outputs": [],
   "source": []
  },
  {
   "cell_type": "code",
   "execution_count": null,
   "id": "4b993470",
   "metadata": {},
   "outputs": [],
   "source": []
  },
  {
   "cell_type": "code",
   "execution_count": null,
   "id": "bf5df27c",
   "metadata": {},
   "outputs": [],
   "source": []
  },
  {
   "cell_type": "code",
   "execution_count": null,
   "id": "1c163ba9",
   "metadata": {},
   "outputs": [],
   "source": []
  },
  {
   "cell_type": "code",
   "execution_count": null,
   "id": "1e8eefad",
   "metadata": {},
   "outputs": [],
   "source": []
  },
  {
   "cell_type": "code",
   "execution_count": null,
   "id": "80011133",
   "metadata": {},
   "outputs": [],
   "source": []
  }
 ],
 "metadata": {
  "kernelspec": {
   "display_name": "Python 3 (ipykernel)",
   "language": "python",
   "name": "python3"
  },
  "language_info": {
   "codemirror_mode": {
    "name": "ipython",
    "version": 3
   },
   "file_extension": ".py",
   "mimetype": "text/x-python",
   "name": "python",
   "nbconvert_exporter": "python",
   "pygments_lexer": "ipython3",
   "version": "3.9.12"
  },
  "vscode": {
   "interpreter": {
    "hash": "7cd4be3047bd5ffa4a6217a4ec9c5b806d07832cf03132b3ab007d11ed0054fa"
   }
  }
 },
 "nbformat": 4,
 "nbformat_minor": 5
}
